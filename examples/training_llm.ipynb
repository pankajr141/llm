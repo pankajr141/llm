{
 "cells": [
  {
   "cell_type": "code",
   "execution_count": 1,
   "id": "8865adf0",
   "metadata": {
    "_cell_guid": "b1076dfc-b9ad-4769-8c92-a6c4dae69d19",
    "_uuid": "8f2839f25d086af736a60e9eeb907d3b93b6e0e5",
    "execution": {
     "iopub.execute_input": "2025-05-14T16:22:58.834261Z",
     "iopub.status.busy": "2025-05-14T16:22:58.834057Z",
     "iopub.status.idle": "2025-05-14T16:23:01.329523Z",
     "shell.execute_reply": "2025-05-14T16:23:01.328591Z"
    },
    "papermill": {
     "duration": 2.502938,
     "end_time": "2025-05-14T16:23:01.331065",
     "exception": false,
     "start_time": "2025-05-14T16:22:58.828127",
     "status": "completed"
    },
    "tags": []
   },
   "outputs": [
    {
     "name": "stdout",
     "output_type": "stream",
     "text": [
      "Collecting llm_bhasa\r\n",
      "  Downloading llm_bhasa-0.5-py3-none-any.whl.metadata (953 bytes)\r\n",
      "Downloading llm_bhasa-0.5-py3-none-any.whl (19 kB)\r\n",
      "Installing collected packages: llm_bhasa\r\n",
      "Successfully installed llm_bhasa-0.5\r\n"
     ]
    }
   ],
   "source": [
    "!pip install --upgrade --no-dependencies llm_bhasa"
   ]
  },
  {
   "cell_type": "markdown",
   "id": "e2be1ba9",
   "metadata": {
    "papermill": {
     "duration": 0.004257,
     "end_time": "2025-05-14T16:23:01.340448",
     "exception": false,
     "start_time": "2025-05-14T16:23:01.336191",
     "status": "completed"
    },
    "tags": []
   },
   "source": [
    "# LLM Training"
   ]
  },
  {
   "cell_type": "markdown",
   "id": "c32feba5",
   "metadata": {
    "papermill": {
     "duration": 0.004058,
     "end_time": "2025-05-14T16:23:01.349913",
     "exception": false,
     "start_time": "2025-05-14T16:23:01.345855",
     "status": "completed"
    },
    "tags": []
   },
   "source": [
    "## Training - Direct through library"
   ]
  },
  {
   "cell_type": "code",
   "execution_count": 2,
   "id": "1057fe94",
   "metadata": {
    "execution": {
     "iopub.execute_input": "2025-05-14T16:23:01.359908Z",
     "iopub.status.busy": "2025-05-14T16:23:01.359214Z",
     "iopub.status.idle": "2025-05-14T16:23:07.263794Z",
     "shell.execute_reply": "2025-05-14T16:23:07.263163Z"
    },
    "papermill": {
     "duration": 5.910939,
     "end_time": "2025-05-14T16:23:07.265167",
     "exception": false,
     "start_time": "2025-05-14T16:23:01.354228",
     "status": "completed"
    },
    "tags": []
   },
   "outputs": [],
   "source": [
    "from llm_bhasa.harmony import training\n",
    "training.train?"
   ]
  },
  {
   "cell_type": "code",
   "execution_count": 3,
   "id": "4cdac197",
   "metadata": {
    "execution": {
     "iopub.execute_input": "2025-05-14T16:23:07.275271Z",
     "iopub.status.busy": "2025-05-14T16:23:07.274991Z",
     "iopub.status.idle": "2025-05-14T16:29:51.522868Z",
     "shell.execute_reply": "2025-05-14T16:29:51.522144Z"
    },
    "papermill": {
     "duration": 404.254056,
     "end_time": "2025-05-14T16:29:51.524029",
     "exception": false,
     "start_time": "2025-05-14T16:23:07.269973",
     "status": "completed"
    },
    "tags": []
   },
   "outputs": [
    {
     "name": "stdout",
     "output_type": "stream",
     "text": [
      "Model cannot be loaded as model_and_optimizer.pth doesnt exist\n",
      "Device: cuda\n",
      "##============== Model Summary =========================##\n",
      "# Total number of parameters: 163,009,536\n",
      "# Token embedding layer shape: torch.Size([50257, 768])\n",
      "# Output layer shape: torch.Size([50257, 768])\n",
      "# Number of trainable parameters considering weight tying: 124,412,160\n",
      "# Total size of the model: 621.83 MB\n",
      "##======================================================##\n"
     ]
    },
    {
     "name": "stderr",
     "output_type": "stream",
     "text": [
      "Downloading gutenberg books: 100%|██████████| 3/3 [00:02<00:00,  1.27it/s, success=3, failure=0]\n"
     ]
    },
    {
     "name": "stdout",
     "output_type": "stream",
     "text": [
      "Total filepaths: len['the-verdict.txt', 'gutenberg_books/1342.txt', 'gutenberg_books/84.txt', 'gutenberg_books/1661.txt']\n",
      "Ep 1 (Step 000000): Train loss 11.946, Val loss 11.964\n",
      "Every effort moves you, and                                                \n",
      "Ep 2 (Step 000100): Train loss 7.194, Val loss 8.380\n",
      "Every effort moves you, and I am    ” ” ” ” ” ” ” ” ” ” ” ” ” ” \n",
      "Ep 3 (Step 000200): Train loss 6.590, Val loss 8.195\n",
      "Every effort moves you, and                                                \n",
      "Ep 4 (Step 000300): Train loss 6.071, Val loss 8.021\n",
      "Every effort moves you, and I am sure, and I am sure, and I am not                                   \n",
      "Ep 5 (Step 000400): Train loss 5.487, Val loss 7.952\n",
      "Every effort moves you, and I was a    ” “I have ” ” ” ” ” ” ” ” ” ” ” \n",
      "Ep 6 (Step 000500): Train loss 4.993, Val loss 7.984\n",
      "Every effort moves you  ” “I have been ” ” ” ” ” ” ” ” ” ” ” ” ” \n",
      "Ep 7 (Step 000600): Train loss 4.252, Val loss 7.967\n",
      "Every effort moves you   ” “I have you.” “I am not.” ” ”  ” ”   ”  “I have you.�\n",
      "Ep 8 (Step 000700): Train loss 3.715, Val loss 8.176\n",
      "Every effort moves you   “You may. I will you.” ”  ” ” “You. I will not to be. I have you.” ” ” ”\n",
      "Ep 9 (Step 000800): Train loss 3.085, Val loss 8.387\n",
      "Every effort moves you  “I cannot be “I should be so, that I will be “I am.“You may have no such as I amiable,” “I am sure I am not know that\n",
      "Ep 10 (Step 000900): Train loss 2.415, Val loss 8.637\n",
      "Every effort moves you have been in the trouble        “I will be so. I can, I was in the  ”  “I do you, I was in the “I do you?\n",
      "Model saved to model_and_optimizer.pth\n",
      "CPU times: user 5min 23s, sys: 1min 16s, total: 6min 40s\n",
      "Wall time: 6min 44s\n"
     ]
    },
    {
     "data": {
      "image/png": "[encoded data removed]",
      "text/plain": [
       "<Figure size 500x300 with 1 Axes>"
      ]
     },
     "metadata": {},
     "output_type": "display_data"
    }
   ],
   "source": [
    "%%time\n",
    "\n",
    "from llm_bhasa.harmony import training\n",
    "training.train(num_epochs=10, eval_freq=100)  # Print eval every 100 steps"
   ]
  },
  {
   "cell_type": "markdown",
   "id": "de8892da",
   "metadata": {
    "papermill": {
     "duration": 0.006348,
     "end_time": "2025-05-14T16:29:51.536812",
     "exception": false,
     "start_time": "2025-05-14T16:29:51.530464",
     "status": "completed"
    },
    "tags": []
   },
   "source": [
    "## Training - Lets break down\n",
    "\n",
    "Below we will break above single line function into building blocks to have more fine grain control"
   ]
  },
  {
   "cell_type": "code",
   "execution_count": 4,
   "id": "7f674cef",
   "metadata": {
    "execution": {
     "iopub.execute_input": "2025-05-14T16:29:51.550064Z",
     "iopub.status.busy": "2025-05-14T16:29:51.549549Z",
     "iopub.status.idle": "2025-05-14T16:29:51.553253Z",
     "shell.execute_reply": "2025-05-14T16:29:51.552696Z"
    },
    "papermill": {
     "duration": 0.011384,
     "end_time": "2025-05-14T16:29:51.554243",
     "exception": false,
     "start_time": "2025-05-14T16:29:51.542859",
     "status": "completed"
    },
    "tags": []
   },
   "outputs": [],
   "source": [
    "import os\n",
    "import torch\n",
    "import torch.nn as nn\n",
    "from llm_bhasa.harmony import config\n",
    "from llm_bhasa.harmony import model\n",
    "from llm_bhasa.harmony import training\n",
    "from llm_bhasa.harmony import data, dataset"
   ]
  },
  {
   "cell_type": "markdown",
   "id": "db6cc5c0",
   "metadata": {
    "papermill": {
     "duration": 0.006074,
     "end_time": "2025-05-14T16:29:51.566292",
     "exception": false,
     "start_time": "2025-05-14T16:29:51.560218",
     "status": "completed"
    },
    "tags": []
   },
   "source": [
    "### Download data"
   ]
  },
  {
   "cell_type": "code",
   "execution_count": 5,
   "id": "3dbc5b93",
   "metadata": {
    "execution": {
     "iopub.execute_input": "2025-05-14T16:29:51.579178Z",
     "iopub.status.busy": "2025-05-14T16:29:51.578973Z",
     "iopub.status.idle": "2025-05-14T16:29:51.582274Z",
     "shell.execute_reply": "2025-05-14T16:29:51.581585Z"
    },
    "papermill": {
     "duration": 0.010961,
     "end_time": "2025-05-14T16:29:51.583259",
     "exception": false,
     "start_time": "2025-05-14T16:29:51.572298",
     "status": "completed"
    },
    "tags": []
   },
   "outputs": [],
   "source": [
    "gutenberg_book_ids = range(50000)"
   ]
  },
  {
   "cell_type": "code",
   "execution_count": 6,
   "id": "2dc72286",
   "metadata": {
    "execution": {
     "iopub.execute_input": "2025-05-14T16:29:51.596439Z",
     "iopub.status.busy": "2025-05-14T16:29:51.595842Z",
     "iopub.status.idle": "2025-05-14T16:29:53.320899Z",
     "shell.execute_reply": "2025-05-14T16:29:53.320050Z"
    },
    "papermill": {
     "duration": 1.732871,
     "end_time": "2025-05-14T16:29:53.322181",
     "exception": false,
     "start_time": "2025-05-14T16:29:51.589310",
     "status": "completed"
    },
    "tags": []
   },
   "outputs": [
    {
     "name": "stdout",
     "output_type": "stream",
     "text": [
      "Total book_ids: 47719\n"
     ]
    }
   ],
   "source": [
    "bookkeep_file = \"/kaggle/input/download-gutenberg-book-dataset/guthenberg_bookkeeper.csv\"\n",
    "import pandas as pd\n",
    "\n",
    "if os.path.exists(bookkeep_file):\n",
    "    df_bookkeep = pd.read_csv(bookkeep_file)\n",
    "    df_bookkeep = df_bookkeep[df_bookkeep['status'] == True]\n",
    "    gutenberg_book_ids = df_bookkeep['book_id'].tolist()\n",
    "\n",
    "print(f\"Total book_ids: {len(gutenberg_book_ids)}\")"
   ]
  },
  {
   "cell_type": "code",
   "execution_count": 7,
   "id": "d03e121b",
   "metadata": {
    "execution": {
     "iopub.execute_input": "2025-05-14T16:29:53.336691Z",
     "iopub.status.busy": "2025-05-14T16:29:53.336294Z",
     "iopub.status.idle": "2025-05-14T16:29:53.339434Z",
     "shell.execute_reply": "2025-05-14T16:29:53.338767Z"
    },
    "papermill": {
     "duration": 0.011649,
     "end_time": "2025-05-14T16:29:53.340574",
     "exception": false,
     "start_time": "2025-05-14T16:29:53.328925",
     "status": "completed"
    },
    "tags": []
   },
   "outputs": [],
   "source": [
    "# #comment/uncomment to download gutenberg directly from websites\n",
    "# filepaths = data.download_sample_text(gutenberg_book_ids=gutenberg_book_ids, verbose=False, njobs=4)\n",
    "# print(f\"Total Downloaded Books: {len(filepaths)}\")"
   ]
  },
  {
   "cell_type": "code",
   "execution_count": 8,
   "id": "553db4bf",
   "metadata": {
    "execution": {
     "iopub.execute_input": "2025-05-14T16:29:53.355785Z",
     "iopub.status.busy": "2025-05-14T16:29:53.355130Z",
     "iopub.status.idle": "2025-05-14T16:29:53.378633Z",
     "shell.execute_reply": "2025-05-14T16:29:53.378083Z"
    },
    "papermill": {
     "duration": 0.032845,
     "end_time": "2025-05-14T16:29:53.379668",
     "exception": false,
     "start_time": "2025-05-14T16:29:53.346823",
     "status": "completed"
    },
    "tags": []
   },
   "outputs": [
    {
     "name": "stdout",
     "output_type": "stream",
     "text": [
      "Total Downloaded Books: 47719\n"
     ]
    }
   ],
   "source": [
    "# #comment/uncomment to generate URI, which will be downloaded later\n",
    "base_url = \"https://www.gutenberg.org/files/{}/{}-0.txt\"\n",
    "fileurls = [base_url.format(book_id, book_id) for book_id in gutenberg_book_ids]\n",
    "print(f\"Total Downloaded Books: {len(fileurls)}\")"
   ]
  },
  {
   "cell_type": "code",
   "execution_count": 9,
   "id": "b7e1420c",
   "metadata": {
    "execution": {
     "iopub.execute_input": "2025-05-14T16:29:53.393173Z",
     "iopub.status.busy": "2025-05-14T16:29:53.392656Z",
     "iopub.status.idle": "2025-05-14T16:29:53.395972Z",
     "shell.execute_reply": "2025-05-14T16:29:53.395433Z"
    },
    "papermill": {
     "duration": 0.011015,
     "end_time": "2025-05-14T16:29:53.397040",
     "exception": false,
     "start_time": "2025-05-14T16:29:53.386025",
     "status": "completed"
    },
    "tags": []
   },
   "outputs": [],
   "source": [
    "train_data, val_data = training.split_data(fileurls[0:100], train_ratio=0.90) # Limit number of files"
   ]
  },
  {
   "cell_type": "markdown",
   "id": "48fc83e9",
   "metadata": {
    "papermill": {
     "duration": 0.007283,
     "end_time": "2025-05-14T16:29:53.410559",
     "exception": false,
     "start_time": "2025-05-14T16:29:53.403276",
     "status": "completed"
    },
    "tags": []
   },
   "source": [
    "### Data Loaders"
   ]
  },
  {
   "cell_type": "code",
   "execution_count": 10,
   "id": "9d35a2a5",
   "metadata": {
    "execution": {
     "iopub.execute_input": "2025-05-14T16:29:53.468516Z",
     "iopub.status.busy": "2025-05-14T16:29:53.467955Z",
     "iopub.status.idle": "2025-05-14T16:29:53.471219Z",
     "shell.execute_reply": "2025-05-14T16:29:53.470702Z"
    },
    "papermill": {
     "duration": 0.011258,
     "end_time": "2025-05-14T16:29:53.472159",
     "exception": false,
     "start_time": "2025-05-14T16:29:53.460901",
     "status": "completed"
    },
    "tags": []
   },
   "outputs": [],
   "source": [
    "model_filepath = \"/kaggle/working/model_and_optimizer.pth\"\n",
    "config_train = config.GPT_CONFIG_124M\n",
    "context_len = config_train['context_length']"
   ]
  },
  {
   "cell_type": "code",
   "execution_count": 11,
   "id": "65b3b063",
   "metadata": {
    "execution": {
     "iopub.execute_input": "2025-05-14T16:29:53.486035Z",
     "iopub.status.busy": "2025-05-14T16:29:53.485493Z",
     "iopub.status.idle": "2025-05-14T16:29:53.489284Z",
     "shell.execute_reply": "2025-05-14T16:29:53.488800Z"
    },
    "papermill": {
     "duration": 0.011749,
     "end_time": "2025-05-14T16:29:53.490309",
     "exception": false,
     "start_time": "2025-05-14T16:29:53.478560",
     "status": "completed"
    },
    "tags": []
   },
   "outputs": [],
   "source": [
    "# Creating data loader for both train and validation\n",
    "train_loader = dataset.create_dataloader(train_data, batch_size=2, max_length=context_len, stride=context_len,\n",
    "                                         drop_last=True, num_workers=0)\n",
    "\n",
    "val_loader = dataset.create_dataloader(val_data, batch_size=2, max_length=context_len, stride=context_len,\n",
    "                                        drop_last=False, num_workers=0)\n",
    "\n",
    "## Since number of files which wikll be downloaded will be huge, this step can be skipped\n",
    "# for cntr, data in enumerate(train_loader):\n",
    "#     pass\n",
    "# print(f\"Total batches: {cntr}\")"
   ]
  },
  {
   "cell_type": "markdown",
   "id": "f2653ccc",
   "metadata": {
    "papermill": {
     "duration": 0.006272,
     "end_time": "2025-05-14T16:29:53.502869",
     "exception": false,
     "start_time": "2025-05-14T16:29:53.496597",
     "status": "completed"
    },
    "tags": []
   },
   "source": [
    "### Model Defination"
   ]
  },
  {
   "cell_type": "code",
   "execution_count": 12,
   "id": "e754e461",
   "metadata": {
    "execution": {
     "iopub.execute_input": "2025-05-14T16:29:53.516376Z",
     "iopub.status.busy": "2025-05-14T16:29:53.516203Z",
     "iopub.status.idle": "2025-05-14T16:29:53.520981Z",
     "shell.execute_reply": "2025-05-14T16:29:53.520298Z"
    },
    "papermill": {
     "duration": 0.012986,
     "end_time": "2025-05-14T16:29:53.522125",
     "exception": false,
     "start_time": "2025-05-14T16:29:53.509139",
     "status": "completed"
    },
    "tags": []
   },
   "outputs": [
    {
     "data": {
      "text/plain": [
       "device(type='cuda')"
      ]
     },
     "execution_count": 12,
     "metadata": {},
     "output_type": "execute_result"
    }
   ],
   "source": [
    "device = torch.device(\"cuda\" if torch.cuda.is_available() else \"cpu\")\n",
    "device"
   ]
  },
  {
   "cell_type": "code",
   "execution_count": 13,
   "id": "3c895876",
   "metadata": {
    "execution": {
     "iopub.execute_input": "2025-05-14T16:29:53.535965Z",
     "iopub.status.busy": "2025-05-14T16:29:53.535489Z",
     "iopub.status.idle": "2025-05-14T16:29:53.539771Z",
     "shell.execute_reply": "2025-05-14T16:29:53.539105Z"
    },
    "papermill": {
     "duration": 0.012339,
     "end_time": "2025-05-14T16:29:53.540922",
     "exception": false,
     "start_time": "2025-05-14T16:29:53.528583",
     "status": "completed"
    },
    "tags": []
   },
   "outputs": [
    {
     "data": {
      "text/plain": [
       "{'vocab_size': 50257,\n",
       " 'context_length': 1024,\n",
       " 'emb_dim': 768,\n",
       " 'n_heads': 12,\n",
       " 'n_layers': 12,\n",
       " 'drop_rate': 0.1,\n",
       " 'qkv_bias': False}"
      ]
     },
     "execution_count": 13,
     "metadata": {},
     "output_type": "execute_result"
    }
   ],
   "source": [
    "config_train"
   ]
  },
  {
   "cell_type": "markdown",
   "id": "37130c49",
   "metadata": {
    "papermill": {
     "duration": 0.006502,
     "end_time": "2025-05-14T16:29:53.554068",
     "exception": false,
     "start_time": "2025-05-14T16:29:53.547566",
     "status": "completed"
    },
    "tags": []
   },
   "source": [
    "define our model based on passed configuration, different configuration can also be passed"
   ]
  },
  {
   "cell_type": "code",
   "execution_count": 14,
   "id": "9cc34449",
   "metadata": {
    "execution": {
     "iopub.execute_input": "2025-05-14T16:29:53.568251Z",
     "iopub.status.busy": "2025-05-14T16:29:53.567834Z",
     "iopub.status.idle": "2025-05-14T16:29:55.005643Z",
     "shell.execute_reply": "2025-05-14T16:29:55.004864Z"
    },
    "papermill": {
     "duration": 1.446458,
     "end_time": "2025-05-14T16:29:55.007156",
     "exception": false,
     "start_time": "2025-05-14T16:29:53.560698",
     "status": "completed"
    },
    "tags": []
   },
   "outputs": [],
   "source": [
    "model_llm = model.LLMModel(config_train)"
   ]
  },
  {
   "cell_type": "code",
   "execution_count": 15,
   "id": "27bb33e0",
   "metadata": {
    "execution": {
     "iopub.execute_input": "2025-05-14T16:29:55.021875Z",
     "iopub.status.busy": "2025-05-14T16:29:55.021570Z",
     "iopub.status.idle": "2025-05-14T16:29:55.024622Z",
     "shell.execute_reply": "2025-05-14T16:29:55.024106Z"
    },
    "papermill": {
     "duration": 0.011428,
     "end_time": "2025-05-14T16:29:55.025597",
     "exception": false,
     "start_time": "2025-05-14T16:29:55.014169",
     "status": "completed"
    },
    "tags": []
   },
   "outputs": [],
   "source": [
    "# !rm -rf ~/.cache/huggingface/hub  -- delete any cache"
   ]
  },
  {
   "cell_type": "markdown",
   "id": "6599ee3a",
   "metadata": {
    "papermill": {
     "duration": 0.006384,
     "end_time": "2025-05-14T16:29:55.038773",
     "exception": false,
     "start_time": "2025-05-14T16:29:55.032389",
     "status": "completed"
    },
    "tags": []
   },
   "source": [
    "### Loading Previously trained model from HuggingFace\n",
    "we dont want to train from scratch, lets load previously trained model of same config from huggingface \n",
    "<br/>\n",
    "\n",
    "<b>repo</b> - https://huggingface.co/pankajr141/llm_bhasa_v1"
   ]
  },
  {
   "cell_type": "code",
   "execution_count": 16,
   "id": "dd03f566",
   "metadata": {
    "execution": {
     "iopub.execute_input": "2025-05-14T16:29:55.052840Z",
     "iopub.status.busy": "2025-05-14T16:29:55.052485Z",
     "iopub.status.idle": "2025-05-14T16:29:55.056657Z",
     "shell.execute_reply": "2025-05-14T16:29:55.056168Z"
    },
    "papermill": {
     "duration": 0.012281,
     "end_time": "2025-05-14T16:29:55.057572",
     "exception": false,
     "start_time": "2025-05-14T16:29:55.045291",
     "status": "completed"
    },
    "tags": []
   },
   "outputs": [
    {
     "data": {
      "text/plain": [
       "'pankajr141/llm_bhasa_v1'"
      ]
     },
     "execution_count": 16,
     "metadata": {},
     "output_type": "execute_result"
    }
   ],
   "source": [
    "repo = \"pankajr141\"\n",
    "modelname = \"llm_bhasa_v1\"\n",
    "\n",
    "repo_url = f\"{repo}/{modelname}\"\n",
    "repo_url"
   ]
  },
  {
   "cell_type": "code",
   "execution_count": 17,
   "id": "d5d61f65",
   "metadata": {
    "execution": {
     "iopub.execute_input": "2025-05-14T16:29:55.071956Z",
     "iopub.status.busy": "2025-05-14T16:29:55.071445Z",
     "iopub.status.idle": "2025-05-14T16:29:59.364544Z",
     "shell.execute_reply": "2025-05-14T16:29:59.363709Z"
    },
    "papermill": {
     "duration": 4.301725,
     "end_time": "2025-05-14T16:29:59.366041",
     "exception": false,
     "start_time": "2025-05-14T16:29:55.064316",
     "status": "completed"
    },
    "tags": []
   },
   "outputs": [
    {
     "data": {
      "application/vnd.jupyter.widget-view+json": {
       "model_id": "34a7cc37460f4218a6a82e1258e8150e",
       "version_major": 2,
       "version_minor": 0
      },
      "text/plain": [
       "config.json:   0%|          | 0.00/174 [00:00<?, ?B/s]"
      ]
     },
     "metadata": {},
     "output_type": "display_data"
    },
    {
     "data": {
      "application/vnd.jupyter.widget-view+json": {
       "model_id": "7689f5bbdb12466eabb98623f778e394",
       "version_major": 2,
       "version_minor": 0
      },
      "text/plain": [
       "model.safetensors:   0%|          | 0.00/702M [00:00<?, ?B/s]"
      ]
     },
     "metadata": {},
     "output_type": "display_data"
    }
   ],
   "source": [
    "# Load from hugging face\n",
    "model_llm = model.LLMModel.from_pretrained(repo_url)"
   ]
  },
  {
   "cell_type": "code",
   "execution_count": 18,
   "id": "00252ab6",
   "metadata": {
    "execution": {
     "iopub.execute_input": "2025-05-14T16:29:59.461653Z",
     "iopub.status.busy": "2025-05-14T16:29:59.461315Z",
     "iopub.status.idle": "2025-05-14T16:29:59.665869Z",
     "shell.execute_reply": "2025-05-14T16:29:59.665107Z"
    },
    "papermill": {
     "duration": 0.264933,
     "end_time": "2025-05-14T16:29:59.667374",
     "exception": false,
     "start_time": "2025-05-14T16:29:59.402441",
     "status": "completed"
    },
    "tags": []
   },
   "outputs": [
    {
     "name": "stdout",
     "output_type": "stream",
     "text": [
      "##============== Model Summary =========================##\n",
      "# Total number of parameters: 163,009,536\n",
      "# Token embedding layer shape: torch.Size([50257, 768])\n",
      "# Output layer shape: torch.Size([50257, 768])\n",
      "# Number of trainable parameters considering weight tying: 124,412,160\n",
      "# Total size of the model: 621.83 MB\n",
      "##======================================================##\n",
      "Model Defined\n"
     ]
    }
   ],
   "source": [
    "# model_llm = model.load_model(model_llm, model_filepath) # Resuming training by loading previously trained model\n",
    "model.print_model_information(model_llm)\n",
    "\n",
    "if torch.cuda.device_count() > 1:\n",
    "    model_llm = nn.DataParallel(model_llm)\n",
    "\n",
    "model_llm.to(device)                                    # Assigning GPU/CPU to model\n",
    "print(\"Model Defined\")"
   ]
  },
  {
   "cell_type": "markdown",
   "id": "3028106f",
   "metadata": {
    "papermill": {
     "duration": 0.053245,
     "end_time": "2025-05-14T16:29:59.752922",
     "exception": false,
     "start_time": "2025-05-14T16:29:59.699677",
     "status": "completed"
    },
    "tags": []
   },
   "source": [
    "### Additional Defination"
   ]
  },
  {
   "cell_type": "code",
   "execution_count": 19,
   "id": "678587ca",
   "metadata": {
    "execution": {
     "iopub.execute_input": "2025-05-14T16:29:59.813034Z",
     "iopub.status.busy": "2025-05-14T16:29:59.812339Z",
     "iopub.status.idle": "2025-05-14T16:29:59.818932Z",
     "shell.execute_reply": "2025-05-14T16:29:59.818039Z"
    },
    "papermill": {
     "duration": 0.06029,
     "end_time": "2025-05-14T16:29:59.820452",
     "exception": false,
     "start_time": "2025-05-14T16:29:59.760162",
     "status": "completed"
    },
    "tags": []
   },
   "outputs": [],
   "source": [
    "optimizer = torch.optim.AdamW(model_llm.parameters(), lr=0.0004, weight_decay=0.1)"
   ]
  },
  {
   "cell_type": "code",
   "execution_count": 20,
   "id": "f1dce15f",
   "metadata": {
    "execution": {
     "iopub.execute_input": "2025-05-14T16:29:59.926212Z",
     "iopub.status.busy": "2025-05-14T16:29:59.925648Z",
     "iopub.status.idle": "2025-05-14T16:29:59.931148Z",
     "shell.execute_reply": "2025-05-14T16:29:59.930403Z"
    },
    "papermill": {
     "duration": 0.065643,
     "end_time": "2025-05-14T16:29:59.932316",
     "exception": false,
     "start_time": "2025-05-14T16:29:59.866673",
     "status": "completed"
    },
    "tags": []
   },
   "outputs": [
    {
     "data": {
      "text/plain": [
       "<Encoding 'gpt2'>"
      ]
     },
     "execution_count": 20,
     "metadata": {},
     "output_type": "execute_result"
    }
   ],
   "source": [
    "from llm_bhasa.harmony import tokenizer as tokenizer_lib\n",
    "tokenizer = tokenizer_lib.get_tokenizer()\n",
    "tokenizer"
   ]
  },
  {
   "cell_type": "markdown",
   "id": "858ea24e",
   "metadata": {
    "papermill": {
     "duration": 0.007189,
     "end_time": "2025-05-14T16:29:59.990854",
     "exception": false,
     "start_time": "2025-05-14T16:29:59.983665",
     "status": "completed"
    },
    "tags": []
   },
   "source": [
    "### Lets train"
   ]
  },
  {
   "cell_type": "code",
   "execution_count": 21,
   "id": "64020f2a",
   "metadata": {
    "execution": {
     "iopub.execute_input": "2025-05-14T16:30:00.049681Z",
     "iopub.status.busy": "2025-05-14T16:30:00.049465Z",
     "iopub.status.idle": "2025-05-14T17:27:31.452916Z",
     "shell.execute_reply": "2025-05-14T17:27:31.451920Z"
    },
    "papermill": {
     "duration": 3451.413198,
     "end_time": "2025-05-14T17:27:31.454845",
     "exception": false,
     "start_time": "2025-05-14T16:30:00.041647",
     "status": "completed"
    },
    "tags": []
   },
   "outputs": [
    {
     "name": "stdout",
     "output_type": "stream",
     "text": [
      "Ep 1 (Step 000000): Train loss 6.744, Val loss 6.971\n",
      "Ep 1 (Step 000500): Train loss 4.998, Val loss 6.816\n",
      "Ep 1 (Step 001000): Train loss 6.226, Val loss 6.796\n",
      "Ep 1 (Step 001500): Train loss 5.280, Val loss 6.171\n",
      "Ep 1 (Step 002000): Train loss 5.077, Val loss 5.671\n",
      "Ep 1 (Step 002500): Train loss 4.978, Val loss 6.469\n",
      "Ep 1 (Step 003000): Train loss 5.069, Val loss 5.662\n",
      "Ep 1 (Step 003500): Train loss 5.235, Val loss 5.588\n",
      "Ep 1 (Step 004000): Train loss 5.207, Val loss 5.643\n",
      "Ep 1 (Step 004500): Train loss 5.192, Val loss 5.552\n",
      "Ep 1 (Step 005000): Train loss 5.237, Val loss 5.472\n",
      "Ep 1 (Step 005500): Train loss 5.288, Val loss 5.707\n",
      "Ep 1 (Step 006000): Train loss 5.448, Val loss 5.868\n",
      "Ep 1 (Step 006500): Train loss 5.443, Val loss 5.512\n",
      "Ep 1 (Step 007000): Train loss 5.363, Val loss 5.340\n",
      "Ep 1 (Step 007500): Train loss 8.144, Val loss 8.291\n",
      "                                               \n",
      "Model saved to /kaggle/working/model_and_optimizer.pth\n",
      "CPU times: user 43min 43s, sys: 9min 47s, total: 53min 31s\n",
      "Wall time: 57min 31s\n"
     ]
    }
   ],
   "source": [
    "%%time\n",
    "\n",
    "num_epochs = 1\n",
    "# Training LLM model from scratch\n",
    "train_losses, val_losses, tokens_seen = training.train_model(model_llm, \n",
    "                                                             train_loader,\n",
    "                                                             val_loader, \n",
    "                                                             optimizer, \n",
    "                                                             device,\n",
    "                                                             num_epochs=num_epochs,\n",
    "                                                             eval_freq=500,   # Loss will be printed every 500 steps\n",
    "                                                             eval_iter=50,    # Number of batches to use for each evaluation\n",
    "                                                             start_context=\"Every effort moves you\", \n",
    "                                                             tokenizer=tokenizer)\n",
    "model.save_model(model_llm, optimizer, model_filepath)"
   ]
  },
  {
   "cell_type": "code",
   "execution_count": 22,
   "id": "c0d73028",
   "metadata": {
    "execution": {
     "iopub.execute_input": "2025-05-14T17:27:31.480480Z",
     "iopub.status.busy": "2025-05-14T17:27:31.480096Z",
     "iopub.status.idle": "2025-05-14T17:27:31.482969Z",
     "shell.execute_reply": "2025-05-14T17:27:31.482454Z"
    },
    "papermill": {
     "duration": 0.012454,
     "end_time": "2025-05-14T17:27:31.484080",
     "exception": false,
     "start_time": "2025-05-14T17:27:31.471626",
     "status": "completed"
    },
    "tags": []
   },
   "outputs": [],
   "source": [
    "# model_llm.to(device)\n",
    "# training.evaluate_model(model_llm, train_loader, val_loader, device, 50)"
   ]
  },
  {
   "cell_type": "markdown",
   "id": "5747d142",
   "metadata": {
    "papermill": {
     "duration": 0.007431,
     "end_time": "2025-05-14T17:27:31.499393",
     "exception": false,
     "start_time": "2025-05-14T17:27:31.491962",
     "status": "completed"
    },
    "tags": []
   },
   "source": [
    "### Plot Results Train vs Validation"
   ]
  },
  {
   "cell_type": "code",
   "execution_count": 23,
   "id": "49e61d2c",
   "metadata": {
    "execution": {
     "iopub.execute_input": "2025-05-14T17:27:31.515693Z",
     "iopub.status.busy": "2025-05-14T17:27:31.515483Z",
     "iopub.status.idle": "2025-05-14T17:27:31.661893Z",
     "shell.execute_reply": "2025-05-14T17:27:31.661120Z"
    },
    "papermill": {
     "duration": 0.155744,
     "end_time": "2025-05-14T17:27:31.663058",
     "exception": false,
     "start_time": "2025-05-14T17:27:31.507314",
     "status": "completed"
    },
    "tags": []
   },
   "outputs": [
    {
     "data": {
      "image/png": "[encoded data removed]",
      "text/plain": [
       "<Figure size 500x300 with 1 Axes>"
      ]
     },
     "metadata": {},
     "output_type": "display_data"
    }
   ],
   "source": [
    "epochs_tensor = torch.linspace(0, num_epochs, len(train_losses))\n",
    "training.plot_losses(epochs_tensor, tokens_seen, train_losses, val_losses)"
   ]
  },
  {
   "cell_type": "markdown",
   "id": "6b59d488",
   "metadata": {
    "papermill": {
     "duration": 0.008093,
     "end_time": "2025-05-14T17:27:31.679767",
     "exception": false,
     "start_time": "2025-05-14T17:27:31.671674",
     "status": "completed"
    },
    "tags": []
   },
   "source": [
    "### Generate some samples"
   ]
  },
  {
   "cell_type": "code",
   "execution_count": 24,
   "id": "251e6b13",
   "metadata": {
    "execution": {
     "iopub.execute_input": "2025-05-14T17:27:31.697060Z",
     "iopub.status.busy": "2025-05-14T17:27:31.696859Z",
     "iopub.status.idle": "2025-05-14T17:27:31.703696Z",
     "shell.execute_reply": "2025-05-14T17:27:31.703248Z"
    },
    "papermill": {
     "duration": 0.016601,
     "end_time": "2025-05-14T17:27:31.704646",
     "exception": false,
     "start_time": "2025-05-14T17:27:31.688045",
     "status": "completed"
    },
    "tags": []
   },
   "outputs": [],
   "source": [
    "from llm_bhasa.harmony import generator\n",
    "\n",
    "model_llm.eval()  # Disable dropout during evaluation\n",
    "model_llm.to(device)\n",
    "\n",
    "context_len = config_train['context_length']"
   ]
  },
  {
   "cell_type": "code",
   "execution_count": 25,
   "id": "f5eb1a44",
   "metadata": {
    "execution": {
     "iopub.execute_input": "2025-05-14T17:27:31.722024Z",
     "iopub.status.busy": "2025-05-14T17:27:31.721632Z",
     "iopub.status.idle": "2025-05-14T17:27:31.725387Z",
     "shell.execute_reply": "2025-05-14T17:27:31.724887Z"
    },
    "papermill": {
     "duration": 0.013593,
     "end_time": "2025-05-14T17:27:31.726418",
     "exception": false,
     "start_time": "2025-05-14T17:27:31.712825",
     "status": "completed"
    },
    "tags": []
   },
   "outputs": [],
   "source": [
    "def generate_text(start_context):\n",
    "    tokenizer = tokenizer_lib.get_tokenizer()\n",
    "    encoded = tokenizer_lib.text_to_token_ids(start_context, tokenizer).to(device)\n",
    "    token_ids  = generator.generate(model=model_llm, idx=encoded, max_new_tokens=50, context_size=context_len)\n",
    "    decoded_text = tokenizer_lib.token_ids_to_text(token_ids, tokenizer)\n",
    "    return decoded_text.replace(\"\\n\", \" \")"
   ]
  },
  {
   "cell_type": "code",
   "execution_count": 26,
   "id": "d0719a11",
   "metadata": {
    "execution": {
     "iopub.execute_input": "2025-05-14T17:27:31.743872Z",
     "iopub.status.busy": "2025-05-14T17:27:31.743422Z",
     "iopub.status.idle": "2025-05-14T17:27:32.322712Z",
     "shell.execute_reply": "2025-05-14T17:27:32.322112Z"
    },
    "papermill": {
     "duration": 0.589351,
     "end_time": "2025-05-14T17:27:32.324045",
     "exception": false,
     "start_time": "2025-05-14T17:27:31.734694",
     "status": "completed"
    },
    "tags": []
   },
   "outputs": [
    {
     "data": {
      "text/plain": [
       "'Hello, I am\\r                                                 '"
      ]
     },
     "execution_count": 26,
     "metadata": {},
     "output_type": "execute_result"
    }
   ],
   "source": [
    "generate_text(\"Hello, I am\")"
   ]
  },
  {
   "cell_type": "code",
   "execution_count": 27,
   "id": "d8d314bd",
   "metadata": {
    "execution": {
     "iopub.execute_input": "2025-05-14T17:27:32.342762Z",
     "iopub.status.busy": "2025-05-14T17:27:32.342519Z",
     "iopub.status.idle": "2025-05-14T17:27:32.941120Z",
     "shell.execute_reply": "2025-05-14T17:27:32.940532Z"
    },
    "papermill": {
     "duration": 0.609465,
     "end_time": "2025-05-14T17:27:32.942319",
     "exception": false,
     "start_time": "2025-05-14T17:27:32.332854",
     "status": "completed"
    },
    "tags": []
   },
   "outputs": [
    {
     "data": {
      "text/plain": [
       "'Lets start of the\\r                                               '"
      ]
     },
     "execution_count": 27,
     "metadata": {},
     "output_type": "execute_result"
    }
   ],
   "source": [
    "generate_text(\"Lets start\")"
   ]
  },
  {
   "cell_type": "code",
   "execution_count": 28,
   "id": "4cfe1dbf",
   "metadata": {
    "execution": {
     "iopub.execute_input": "2025-05-14T17:27:32.962446Z",
     "iopub.status.busy": "2025-05-14T17:27:32.962008Z",
     "iopub.status.idle": "2025-05-14T17:27:33.534171Z",
     "shell.execute_reply": "2025-05-14T17:27:33.533436Z"
    },
    "papermill": {
     "duration": 0.583438,
     "end_time": "2025-05-14T17:27:33.535334",
     "exception": false,
     "start_time": "2025-05-14T17:27:32.951896",
     "status": "completed"
    },
    "tags": []
   },
   "outputs": [
    {
     "data": {
      "text/plain": [
       "'How is your\\r                                                 '"
      ]
     },
     "execution_count": 28,
     "metadata": {},
     "output_type": "execute_result"
    }
   ],
   "source": [
    "generate_text(\"How is your\")"
   ]
  },
  {
   "cell_type": "markdown",
   "id": "24a89eed",
   "metadata": {
    "papermill": {
     "duration": 0.008684,
     "end_time": "2025-05-14T17:27:33.553817",
     "exception": false,
     "start_time": "2025-05-14T17:27:33.545133",
     "status": "completed"
    },
    "tags": []
   },
   "source": [
    "## Deploy to Huggingface"
   ]
  },
  {
   "cell_type": "code",
   "execution_count": 29,
   "id": "ed012225",
   "metadata": {
    "execution": {
     "iopub.execute_input": "2025-05-14T17:27:33.572324Z",
     "iopub.status.busy": "2025-05-14T17:27:33.572107Z",
     "iopub.status.idle": "2025-05-14T17:27:33.575108Z",
     "shell.execute_reply": "2025-05-14T17:27:33.574455Z"
    },
    "papermill": {
     "duration": 0.013874,
     "end_time": "2025-05-14T17:27:33.576215",
     "exception": false,
     "start_time": "2025-05-14T17:27:33.562341",
     "status": "completed"
    },
    "tags": []
   },
   "outputs": [],
   "source": [
    "# from huggingface_hub import notebook_login\n",
    "# notebook_login()"
   ]
  },
  {
   "cell_type": "code",
   "execution_count": 30,
   "id": "f8fb848d",
   "metadata": {
    "execution": {
     "iopub.execute_input": "2025-05-14T17:27:33.594673Z",
     "iopub.status.busy": "2025-05-14T17:27:33.594479Z",
     "iopub.status.idle": "2025-05-14T17:27:33.773718Z",
     "shell.execute_reply": "2025-05-14T17:27:33.773001Z"
    },
    "papermill": {
     "duration": 0.189561,
     "end_time": "2025-05-14T17:27:33.774932",
     "exception": false,
     "start_time": "2025-05-14T17:27:33.585371",
     "status": "completed"
    },
    "tags": []
   },
   "outputs": [],
   "source": [
    "from kaggle_secrets import UserSecretsClient\n",
    "user_secrets = UserSecretsClient()\n",
    "huggingfacetoken = user_secrets.get_secret(\"huggingface\")\n",
    "\n",
    "from huggingface_hub.hf_api import HfFolder\n",
    "HfFolder.save_token(huggingfacetoken)"
   ]
  },
  {
   "cell_type": "markdown",
   "id": "7dd76502",
   "metadata": {
    "papermill": {
     "duration": 0.011848,
     "end_time": "2025-05-14T17:27:33.796023",
     "exception": false,
     "start_time": "2025-05-14T17:27:33.784175",
     "status": "completed"
    },
    "tags": []
   },
   "source": [
    "Depending on whether multiple GPU are availaible model_llm can be instance of DataParallel which can cause issue while saving and loading model, hence sorting the issue."
   ]
  },
  {
   "cell_type": "code",
   "execution_count": 31,
   "id": "fe929822",
   "metadata": {
    "execution": {
     "iopub.execute_input": "2025-05-14T17:27:33.816835Z",
     "iopub.status.busy": "2025-05-14T17:27:33.816563Z",
     "iopub.status.idle": "2025-05-14T17:27:33.820200Z",
     "shell.execute_reply": "2025-05-14T17:27:33.819534Z"
    },
    "papermill": {
     "duration": 0.014665,
     "end_time": "2025-05-14T17:27:33.821330",
     "exception": false,
     "start_time": "2025-05-14T17:27:33.806665",
     "status": "completed"
    },
    "tags": []
   },
   "outputs": [],
   "source": [
    "from torch.nn.parallel.data_parallel import DataParallel\n",
    "if isinstance(model_llm, DataParallel):\n",
    "    print(\"model is instance of DataParallel, changing the class\")\n",
    "    model_llm = model_llm.module"
   ]
  },
  {
   "cell_type": "code",
   "execution_count": 32,
   "id": "f51a9623",
   "metadata": {
    "execution": {
     "iopub.execute_input": "2025-05-14T17:27:33.839177Z",
     "iopub.status.busy": "2025-05-14T17:27:33.839004Z",
     "iopub.status.idle": "2025-05-14T17:28:03.331209Z",
     "shell.execute_reply": "2025-05-14T17:28:03.330466Z"
    },
    "papermill": {
     "duration": 29.502446,
     "end_time": "2025-05-14T17:28:03.332363",
     "exception": false,
     "start_time": "2025-05-14T17:27:33.829917",
     "status": "completed"
    },
    "tags": []
   },
   "outputs": [
    {
     "data": {
      "application/vnd.jupyter.widget-view+json": {
       "model_id": "f358fcef9c114143b1711b3b50be5dcf",
       "version_major": 2,
       "version_minor": 0
      },
      "text/plain": [
       "model.safetensors:   0%|          | 0.00/702M [00:00<?, ?B/s]"
      ]
     },
     "metadata": {},
     "output_type": "display_data"
    },
    {
     "data": {
      "text/plain": [
       "CommitInfo(commit_url='https://huggingface.co/pankajr141/llm_bhasa_v1/commit/b740a07e950b7b09a4563663507e0ce44d92b150', commit_message='Push model using huggingface_hub.', commit_description='', oid='b740a07e950b7b09a4563663507e0ce44d92b150', pr_url=None, repo_url=RepoUrl('https://huggingface.co/pankajr141/llm_bhasa_v1', endpoint='https://huggingface.co', repo_type='model', repo_id='pankajr141/llm_bhasa_v1'), pr_revision=None, pr_num=None)"
      ]
     },
     "execution_count": 32,
     "metadata": {},
     "output_type": "execute_result"
    }
   ],
   "source": [
    "# save locally\n",
    "model_llm.save_pretrained(modelname)\n",
    "\n",
    "# push to the hub\n",
    "model_llm.push_to_hub(repo_url)\n",
    "\n",
    "# Load from hugging face\n",
    "# model_llm = model.LLMModel.from_pretrained(repo_url)"
   ]
  }
 ],
 "metadata": {
  "kaggle": {
   "accelerator": "gpu",
   "dataSources": [
    {
     "sourceId": 239328575,
     "sourceType": "kernelVersion"
    }
   ],
   "dockerImageVersionId": 31012,
   "isGpuEnabled": true,
   "isInternetEnabled": true,
   "language": "python",
   "sourceType": "notebook"
  },
  "kernelspec": {
   "display_name": "Python 3",
   "language": "python",
   "name": "python3"
  },
  "language_info": {
   "codemirror_mode": {
    "name": "ipython",
    "version": 3
   },
   "file_extension": ".py",
   "mimetype": "text/x-python",
   "name": "python",
   "nbconvert_exporter": "python",
   "pygments_lexer": "ipython3",
   "version": "3.11.11"
  },
  "papermill": {
   "default_parameters": {},
   "duration": 3910.849706,
   "end_time": "2025-05-14T17:28:05.538020",
   "environment_variables": {},
   "exception": null,
   "input_path": "__notebook__.ipynb",
   "output_path": "__notebook__.ipynb",
   "parameters": {},
   "start_time": "2025-05-14T16:22:54.688314",
   "version": "2.6.0"
  },
  "widgets": {
   "application/vnd.jupyter.widget-state+json": {
    "state": {
     "0313a43880054cf7a2f3f9af36061edc": {
      "model_module": "@jupyter-widgets/base",
      "model_module_version": "2.0.0",
      "model_name": "LayoutModel",
      "state": {
       "_model_module": "@jupyter-widgets/base",
       "_model_module_version": "2.0.0",
       "_model_name": "LayoutModel",
       "_view_count": null,
       "_view_module": "@jupyter-widgets/base",
       "_view_module_version": "2.0.0",
       "_view_name": "LayoutView",
       "align_content": null,
       "align_items": null,
       "align_self": null,
       "border_bottom": null,
       "border_left": null,
       "border_right": null,
       "border_top": null,
       "bottom": null,
       "display": null,
       "flex": null,
       "flex_flow": null,
       "grid_area": null,
       "grid_auto_columns": null,
       "grid_auto_flow": null,
       "grid_auto_rows": null,
       "grid_column": null,
       "grid_gap": null,
       "grid_row": null,
       "grid_template_areas": null,
       "grid_template_columns": null,
       "grid_template_rows": null,
       "height": null,
       "justify_content": null,
       "justify_items": null,
       "left": null,
       "margin": null,
       "max_height": null,
       "max_width": null,
       "min_height": null,
       "min_width": null,
       "object_fit": null,
       "object_position": null,
       "order": null,
       "overflow": null,
       "padding": null,
       "right": null,
       "top": null,
       "visibility": null,
       "width": null
      }
     },
     "0cd74588595242b9acb4c54433779df8": {
      "model_module": "@jupyter-widgets/controls",
      "model_module_version": "2.0.0",
      "model_name": "ProgressStyleModel",
      "state": {
       "_model_module": "@jupyter-widgets/controls",
       "_model_module_version": "2.0.0",
       "_model_name": "ProgressStyleModel",
       "_view_count": null,
       "_view_module": "@jupyter-widgets/base",
       "_view_module_version": "2.0.0",
       "_view_name": "StyleView",
       "bar_color": null,
       "description_width": ""
      }
     },
     "18ae65acabd94b66a5f787f2408fae2f": {
      "model_module": "@jupyter-widgets/controls",
      "model_module_version": "2.0.0",
      "model_name": "HTMLModel",
      "state": {
       "_dom_classes": [],
       "_model_module": "@jupyter-widgets/controls",
       "_model_module_version": "2.0.0",
       "_model_name": "HTMLModel",
       "_view_count": null,
       "_view_module": "@jupyter-widgets/controls",
       "_view_module_version": "2.0.0",
       "_view_name": "HTMLView",
       "description": "",
       "description_allow_html": false,
       "layout": "IPY_MODEL_841768b16bf046c69bf575fdb0ec4489",
       "placeholder": "​",
       "style": "IPY_MODEL_c442d052d41b4ccea465547e084ee574",
       "tabbable": null,
       "tooltip": null,
       "value": " 174/174 [00:00&lt;00:00, 23.2kB/s]"
      }
     },
     "27a0e61115de4cbda63683e0e6fd735d": {
      "model_module": "@jupyter-widgets/controls",
      "model_module_version": "2.0.0",
      "model_name": "HTMLStyleModel",
      "state": {
       "_model_module": "@jupyter-widgets/controls",
       "_model_module_version": "2.0.0",
       "_model_name": "HTMLStyleModel",
       "_view_count": null,
       "_view_module": "@jupyter-widgets/base",
       "_view_module_version": "2.0.0",
       "_view_name": "StyleView",
       "background": null,
       "description_width": "",
       "font_size": null,
       "text_color": null
      }
     },
     "34a7cc37460f4218a6a82e1258e8150e": {
      "model_module": "@jupyter-widgets/controls",
      "model_module_version": "2.0.0",
      "model_name": "HBoxModel",
      "state": {
       "_dom_classes": [],
       "_model_module": "@jupyter-widgets/controls",
       "_model_module_version": "2.0.0",
       "_model_name": "HBoxModel",
       "_view_count": null,
       "_view_module": "@jupyter-widgets/controls",
       "_view_module_version": "2.0.0",
       "_view_name": "HBoxView",
       "box_style": "",
       "children": [
        "IPY_MODEL_e07cbd71df2d41fca2fabd4f8fd774b2",
        "IPY_MODEL_841b3bd0ad2c48a8b9b435eb5e3745d6",
        "IPY_MODEL_18ae65acabd94b66a5f787f2408fae2f"
       ],
       "layout": "IPY_MODEL_3938237aa98e4a5192070573fad7c452",
       "tabbable": null,
       "tooltip": null
      }
     },
     "3938237aa98e4a5192070573fad7c452": {
      "model_module": "@jupyter-widgets/base",
      "model_module_version": "2.0.0",
      "model_name": "LayoutModel",
      "state": {
       "_model_module": "@jupyter-widgets/base",
       "_model_module_version": "2.0.0",
       "_model_name": "LayoutModel",
       "_view_count": null,
       "_view_module": "@jupyter-widgets/base",
       "_view_module_version": "2.0.0",
       "_view_name": "LayoutView",
       "align_content": null,
       "align_items": null,
       "align_self": null,
       "border_bottom": null,
       "border_left": null,
       "border_right": null,
       "border_top": null,
       "bottom": null,
       "display": null,
       "flex": null,
       "flex_flow": null,
       "grid_area": null,
       "grid_auto_columns": null,
       "grid_auto_flow": null,
       "grid_auto_rows": null,
       "grid_column": null,
       "grid_gap": null,
       "grid_row": null,
       "grid_template_areas": null,
       "grid_template_columns": null,
       "grid_template_rows": null,
       "height": null,
       "justify_content": null,
       "justify_items": null,
       "left": null,
       "margin": null,
       "max_height": null,
       "max_width": null,
       "min_height": null,
       "min_width": null,
       "object_fit": null,
       "object_position": null,
       "order": null,
       "overflow": null,
       "padding": null,
       "right": null,
       "top": null,
       "visibility": null,
       "width": null
      }
     },
     "406bcbdcbe3945b7845e17bbce19cf09": {
      "model_module": "@jupyter-widgets/base",
      "model_module_version": "2.0.0",
      "model_name": "LayoutModel",
      "state": {
       "_model_module": "@jupyter-widgets/base",
       "_model_module_version": "2.0.0",
       "_model_name": "LayoutModel",
       "_view_count": null,
       "_view_module": "@jupyter-widgets/base",
       "_view_module_version": "2.0.0",
       "_view_name": "LayoutView",
       "align_content": null,
       "align_items": null,
       "align_self": null,
       "border_bottom": null,
       "border_left": null,
       "border_right": null,
       "border_top": null,
       "bottom": null,
       "display": null,
       "flex": null,
       "flex_flow": null,
       "grid_area": null,
       "grid_auto_columns": null,
       "grid_auto_flow": null,
       "grid_auto_rows": null,
       "grid_column": null,
       "grid_gap": null,
       "grid_row": null,
       "grid_template_areas": null,
       "grid_template_columns": null,
       "grid_template_rows": null,
       "height": null,
       "justify_content": null,
       "justify_items": null,
       "left": null,
       "margin": null,
       "max_height": null,
       "max_width": null,
       "min_height": null,
       "min_width": null,
       "object_fit": null,
       "object_position": null,
       "order": null,
       "overflow": null,
       "padding": null,
       "right": null,
       "top": null,
       "visibility": null,
       "width": null
      }
     },
     "4750c91e2bd84aeb85be3fc3b7b9ef1b": {
      "model_module": "@jupyter-widgets/controls",
      "model_module_version": "2.0.0",
      "model_name": "HTMLModel",
      "state": {
       "_dom_classes": [],
       "_model_module": "@jupyter-widgets/controls",
       "_model_module_version": "2.0.0",
       "_model_name": "HTMLModel",
       "_view_count": null,
       "_view_module": "@jupyter-widgets/controls",
       "_view_module_version": "2.0.0",
       "_view_name": "HTMLView",
       "description": "",
       "description_allow_html": false,
       "layout": "IPY_MODEL_febdd0b0970042fc860352972dcf64a1",
       "placeholder": "​",
       "style": "IPY_MODEL_27a0e61115de4cbda63683e0e6fd735d",
       "tabbable": null,
       "tooltip": null,
       "value": " 702M/702M [00:23&lt;00:00, 50.5MB/s]"
      }
     },
     "5acd4be35baa432da7b91d8b3ac14e0d": {
      "model_module": "@jupyter-widgets/base",
      "model_module_version": "2.0.0",
      "model_name": "LayoutModel",
      "state": {
       "_model_module": "@jupyter-widgets/base",
       "_model_module_version": "2.0.0",
       "_model_name": "LayoutModel",
       "_view_count": null,
       "_view_module": "@jupyter-widgets/base",
       "_view_module_version": "2.0.0",
       "_view_name": "LayoutView",
       "align_content": null,
       "align_items": null,
       "align_self": null,
       "border_bottom": null,
       "border_left": null,
       "border_right": null,
       "border_top": null,
       "bottom": null,
       "display": null,
       "flex": null,
       "flex_flow": null,
       "grid_area": null,
       "grid_auto_columns": null,
       "grid_auto_flow": null,
       "grid_auto_rows": null,
       "grid_column": null,
       "grid_gap": null,
       "grid_row": null,
       "grid_template_areas": null,
       "grid_template_columns": null,
       "grid_template_rows": null,
       "height": null,
       "justify_content": null,
       "justify_items": null,
       "left": null,
       "margin": null,
       "max_height": null,
       "max_width": null,
       "min_height": null,
       "min_width": null,
       "object_fit": null,
       "object_position": null,
       "order": null,
       "overflow": null,
       "padding": null,
       "right": null,
       "top": null,
       "visibility": null,
       "width": null
      }
     },
     "5acf23c25da74439ad065063742a93c2": {
      "model_module": "@jupyter-widgets/controls",
      "model_module_version": "2.0.0",
      "model_name": "HTMLModel",
      "state": {
       "_dom_classes": [],
       "_model_module": "@jupyter-widgets/controls",
       "_model_module_version": "2.0.0",
       "_model_name": "HTMLModel",
       "_view_count": null,
       "_view_module": "@jupyter-widgets/controls",
       "_view_module_version": "2.0.0",
       "_view_name": "HTMLView",
       "description": "",
       "description_allow_html": false,
       "layout": "IPY_MODEL_7126bc54e1994e1598844067f2c4fabb",
       "placeholder": "​",
       "style": "IPY_MODEL_eaeb0fdbad854fe5b079a0bb4872cb07",
       "tabbable": null,
       "tooltip": null,
       "value": " 702M/702M [00:02&lt;00:00, 300MB/s]"
      }
     },
     "5edaf578e3ee451e8de54d15844a39e9": {
      "model_module": "@jupyter-widgets/controls",
      "model_module_version": "2.0.0",
      "model_name": "FloatProgressModel",
      "state": {
       "_dom_classes": [],
       "_model_module": "@jupyter-widgets/controls",
       "_model_module_version": "2.0.0",
       "_model_name": "FloatProgressModel",
       "_view_count": null,
       "_view_module": "@jupyter-widgets/controls",
       "_view_module_version": "2.0.0",
       "_view_name": "ProgressView",
       "bar_style": "success",
       "description": "",
       "description_allow_html": false,
       "layout": "IPY_MODEL_dcc394af6f6d4355a5020103e363dc8d",
       "max": 702387080.0,
       "min": 0.0,
       "orientation": "horizontal",
       "style": "IPY_MODEL_0cd74588595242b9acb4c54433779df8",
       "tabbable": null,
       "tooltip": null,
       "value": 702387080.0
      }
     },
     "5ffda441ba1b4d8fb77dfcb4bb7ae93d": {
      "model_module": "@jupyter-widgets/controls",
      "model_module_version": "2.0.0",
      "model_name": "HTMLModel",
      "state": {
       "_dom_classes": [],
       "_model_module": "@jupyter-widgets/controls",
       "_model_module_version": "2.0.0",
       "_model_name": "HTMLModel",
       "_view_count": null,
       "_view_module": "@jupyter-widgets/controls",
       "_view_module_version": "2.0.0",
       "_view_name": "HTMLView",
       "description": "",
       "description_allow_html": false,
       "layout": "IPY_MODEL_0313a43880054cf7a2f3f9af36061edc",
       "placeholder": "​",
       "style": "IPY_MODEL_d6922e743d8e4e8c8f98e8ea5a495049",
       "tabbable": null,
       "tooltip": null,
       "value": "model.safetensors: 100%"
      }
     },
     "70bff63046b041cc9ad312fdf38dfa02": {
      "model_module": "@jupyter-widgets/controls",
      "model_module_version": "2.0.0",
      "model_name": "HTMLStyleModel",
      "state": {
       "_model_module": "@jupyter-widgets/controls",
       "_model_module_version": "2.0.0",
       "_model_name": "HTMLStyleModel",
       "_view_count": null,
       "_view_module": "@jupyter-widgets/base",
       "_view_module_version": "2.0.0",
       "_view_name": "StyleView",
       "background": null,
       "description_width": "",
       "font_size": null,
       "text_color": null
      }
     },
     "7126bc54e1994e1598844067f2c4fabb": {
      "model_module": "@jupyter-widgets/base",
      "model_module_version": "2.0.0",
      "model_name": "LayoutModel",
      "state": {
       "_model_module": "@jupyter-widgets/base",
       "_model_module_version": "2.0.0",
       "_model_name": "LayoutModel",
       "_view_count": null,
       "_view_module": "@jupyter-widgets/base",
       "_view_module_version": "2.0.0",
       "_view_name": "LayoutView",
       "align_content": null,
       "align_items": null,
       "align_self": null,
       "border_bottom": null,
       "border_left": null,
       "border_right": null,
       "border_top": null,
       "bottom": null,
       "display": null,
       "flex": null,
       "flex_flow": null,
       "grid_area": null,
       "grid_auto_columns": null,
       "grid_auto_flow": null,
       "grid_auto_rows": null,
       "grid_column": null,
       "grid_gap": null,
       "grid_row": null,
       "grid_template_areas": null,
       "grid_template_columns": null,
       "grid_template_rows": null,
       "height": null,
       "justify_content": null,
       "justify_items": null,
       "left": null,
       "margin": null,
       "max_height": null,
       "max_width": null,
       "min_height": null,
       "min_width": null,
       "object_fit": null,
       "object_position": null,
       "order": null,
       "overflow": null,
       "padding": null,
       "right": null,
       "top": null,
       "visibility": null,
       "width": null
      }
     },
     "7689f5bbdb12466eabb98623f778e394": {
      "model_module": "@jupyter-widgets/controls",
      "model_module_version": "2.0.0",
      "model_name": "HBoxModel",
      "state": {
       "_dom_classes": [],
       "_model_module": "@jupyter-widgets/controls",
       "_model_module_version": "2.0.0",
       "_model_name": "HBoxModel",
       "_view_count": null,
       "_view_module": "@jupyter-widgets/controls",
       "_view_module_version": "2.0.0",
       "_view_name": "HBoxView",
       "box_style": "",
       "children": [
        "IPY_MODEL_f0358bcf2a514ceb8944f2aba5f6bea2",
        "IPY_MODEL_a0ed56a80ce14cb086f79a923cab8650",
        "IPY_MODEL_5acf23c25da74439ad065063742a93c2"
       ],
       "layout": "IPY_MODEL_406bcbdcbe3945b7845e17bbce19cf09",
       "tabbable": null,
       "tooltip": null
      }
     },
     "7a69ac7d317e49858a3736e61d19cfff": {
      "model_module": "@jupyter-widgets/controls",
      "model_module_version": "2.0.0",
      "model_name": "HTMLStyleModel",
      "state": {
       "_model_module": "@jupyter-widgets/controls",
       "_model_module_version": "2.0.0",
       "_model_name": "HTMLStyleModel",
       "_view_count": null,
       "_view_module": "@jupyter-widgets/base",
       "_view_module_version": "2.0.0",
       "_view_name": "StyleView",
       "background": null,
       "description_width": "",
       "font_size": null,
       "text_color": null
      }
     },
     "841768b16bf046c69bf575fdb0ec4489": {
      "model_module": "@jupyter-widgets/base",
      "model_module_version": "2.0.0",
      "model_name": "LayoutModel",
      "state": {
       "_model_module": "@jupyter-widgets/base",
       "_model_module_version": "2.0.0",
       "_model_name": "LayoutModel",
       "_view_count": null,
       "_view_module": "@jupyter-widgets/base",
       "_view_module_version": "2.0.0",
       "_view_name": "LayoutView",
       "align_content": null,
       "align_items": null,
       "align_self": null,
       "border_bottom": null,
       "border_left": null,
       "border_right": null,
       "border_top": null,
       "bottom": null,
       "display": null,
       "flex": null,
       "flex_flow": null,
       "grid_area": null,
       "grid_auto_columns": null,
       "grid_auto_flow": null,
       "grid_auto_rows": null,
       "grid_column": null,
       "grid_gap": null,
       "grid_row": null,
       "grid_template_areas": null,
       "grid_template_columns": null,
       "grid_template_rows": null,
       "height": null,
       "justify_content": null,
       "justify_items": null,
       "left": null,
       "margin": null,
       "max_height": null,
       "max_width": null,
       "min_height": null,
       "min_width": null,
       "object_fit": null,
       "object_position": null,
       "order": null,
       "overflow": null,
       "padding": null,
       "right": null,
       "top": null,
       "visibility": null,
       "width": null
      }
     },
     "841b3bd0ad2c48a8b9b435eb5e3745d6": {
      "model_module": "@jupyter-widgets/controls",
      "model_module_version": "2.0.0",
      "model_name": "FloatProgressModel",
      "state": {
       "_dom_classes": [],
       "_model_module": "@jupyter-widgets/controls",
       "_model_module_version": "2.0.0",
       "_model_name": "FloatProgressModel",
       "_view_count": null,
       "_view_module": "@jupyter-widgets/controls",
       "_view_module_version": "2.0.0",
       "_view_name": "ProgressView",
       "bar_style": "success",
       "description": "",
       "description_allow_html": false,
       "layout": "IPY_MODEL_5acd4be35baa432da7b91d8b3ac14e0d",
       "max": 174.0,
       "min": 0.0,
       "orientation": "horizontal",
       "style": "IPY_MODEL_8bcb5ff208c44118a5a8dbe16e5da5f4",
       "tabbable": null,
       "tooltip": null,
       "value": 174.0
      }
     },
     "84d2791eea65488fb80b1a29399ce74e": {
      "model_module": "@jupyter-widgets/controls",
      "model_module_version": "2.0.0",
      "model_name": "ProgressStyleModel",
      "state": {
       "_model_module": "@jupyter-widgets/controls",
       "_model_module_version": "2.0.0",
       "_model_name": "ProgressStyleModel",
       "_view_count": null,
       "_view_module": "@jupyter-widgets/base",
       "_view_module_version": "2.0.0",
       "_view_name": "StyleView",
       "bar_color": null,
       "description_width": ""
      }
     },
     "8bcb5ff208c44118a5a8dbe16e5da5f4": {
      "model_module": "@jupyter-widgets/controls",
      "model_module_version": "2.0.0",
      "model_name": "ProgressStyleModel",
      "state": {
       "_model_module": "@jupyter-widgets/controls",
       "_model_module_version": "2.0.0",
       "_model_name": "ProgressStyleModel",
       "_view_count": null,
       "_view_module": "@jupyter-widgets/base",
       "_view_module_version": "2.0.0",
       "_view_name": "StyleView",
       "bar_color": null,
       "description_width": ""
      }
     },
     "a0ed56a80ce14cb086f79a923cab8650": {
      "model_module": "@jupyter-widgets/controls",
      "model_module_version": "2.0.0",
      "model_name": "FloatProgressModel",
      "state": {
       "_dom_classes": [],
       "_model_module": "@jupyter-widgets/controls",
       "_model_module_version": "2.0.0",
       "_model_name": "FloatProgressModel",
       "_view_count": null,
       "_view_module": "@jupyter-widgets/controls",
       "_view_module_version": "2.0.0",
       "_view_name": "ProgressView",
       "bar_style": "success",
       "description": "",
       "description_allow_html": false,
       "layout": "IPY_MODEL_b987635261e24bdc8493c73e49a19283",
       "max": 702387080.0,
       "min": 0.0,
       "orientation": "horizontal",
       "style": "IPY_MODEL_84d2791eea65488fb80b1a29399ce74e",
       "tabbable": null,
       "tooltip": null,
       "value": 702387080.0
      }
     },
     "b987635261e24bdc8493c73e49a19283": {
      "model_module": "@jupyter-widgets/base",
      "model_module_version": "2.0.0",
      "model_name": "LayoutModel",
      "state": {
       "_model_module": "@jupyter-widgets/base",
       "_model_module_version": "2.0.0",
       "_model_name": "LayoutModel",
       "_view_count": null,
       "_view_module": "@jupyter-widgets/base",
       "_view_module_version": "2.0.0",
       "_view_name": "LayoutView",
       "align_content": null,
       "align_items": null,
       "align_self": null,
       "border_bottom": null,
       "border_left": null,
       "border_right": null,
       "border_top": null,
       "bottom": null,
       "display": null,
       "flex": null,
       "flex_flow": null,
       "grid_area": null,
       "grid_auto_columns": null,
       "grid_auto_flow": null,
       "grid_auto_rows": null,
       "grid_column": null,
       "grid_gap": null,
       "grid_row": null,
       "grid_template_areas": null,
       "grid_template_columns": null,
       "grid_template_rows": null,
       "height": null,
       "justify_content": null,
       "justify_items": null,
       "left": null,
       "margin": null,
       "max_height": null,
       "max_width": null,
       "min_height": null,
       "min_width": null,
       "object_fit": null,
       "object_position": null,
       "order": null,
       "overflow": null,
       "padding": null,
       "right": null,
       "top": null,
       "visibility": null,
       "width": null
      }
     },
     "c442d052d41b4ccea465547e084ee574": {
      "model_module": "@jupyter-widgets/controls",
      "model_module_version": "2.0.0",
      "model_name": "HTMLStyleModel",
      "state": {
       "_model_module": "@jupyter-widgets/controls",
       "_model_module_version": "2.0.0",
       "_model_name": "HTMLStyleModel",
       "_view_count": null,
       "_view_module": "@jupyter-widgets/base",
       "_view_module_version": "2.0.0",
       "_view_name": "StyleView",
       "background": null,
       "description_width": "",
       "font_size": null,
       "text_color": null
      }
     },
     "cad9255fe1aa46d695d468fb822bb1ea": {
      "model_module": "@jupyter-widgets/base",
      "model_module_version": "2.0.0",
      "model_name": "LayoutModel",
      "state": {
       "_model_module": "@jupyter-widgets/base",
       "_model_module_version": "2.0.0",
       "_model_name": "LayoutModel",
       "_view_count": null,
       "_view_module": "@jupyter-widgets/base",
       "_view_module_version": "2.0.0",
       "_view_name": "LayoutView",
       "align_content": null,
       "align_items": null,
       "align_self": null,
       "border_bottom": null,
       "border_left": null,
       "border_right": null,
       "border_top": null,
       "bottom": null,
       "display": null,
       "flex": null,
       "flex_flow": null,
       "grid_area": null,
       "grid_auto_columns": null,
       "grid_auto_flow": null,
       "grid_auto_rows": null,
       "grid_column": null,
       "grid_gap": null,
       "grid_row": null,
       "grid_template_areas": null,
       "grid_template_columns": null,
       "grid_template_rows": null,
       "height": null,
       "justify_content": null,
       "justify_items": null,
       "left": null,
       "margin": null,
       "max_height": null,
       "max_width": null,
       "min_height": null,
       "min_width": null,
       "object_fit": null,
       "object_position": null,
       "order": null,
       "overflow": null,
       "padding": null,
       "right": null,
       "top": null,
       "visibility": null,
       "width": null
      }
     },
     "d6922e743d8e4e8c8f98e8ea5a495049": {
      "model_module": "@jupyter-widgets/controls",
      "model_module_version": "2.0.0",
      "model_name": "HTMLStyleModel",
      "state": {
       "_model_module": "@jupyter-widgets/controls",
       "_model_module_version": "2.0.0",
       "_model_name": "HTMLStyleModel",
       "_view_count": null,
       "_view_module": "@jupyter-widgets/base",
       "_view_module_version": "2.0.0",
       "_view_name": "StyleView",
       "background": null,
       "description_width": "",
       "font_size": null,
       "text_color": null
      }
     },
     "d91711ea0e214a2b835b28c8f1f2f295": {
      "model_module": "@jupyter-widgets/base",
      "model_module_version": "2.0.0",
      "model_name": "LayoutModel",
      "state": {
       "_model_module": "@jupyter-widgets/base",
       "_model_module_version": "2.0.0",
       "_model_name": "LayoutModel",
       "_view_count": null,
       "_view_module": "@jupyter-widgets/base",
       "_view_module_version": "2.0.0",
       "_view_name": "LayoutView",
       "align_content": null,
       "align_items": null,
       "align_self": null,
       "border_bottom": null,
       "border_left": null,
       "border_right": null,
       "border_top": null,
       "bottom": null,
       "display": null,
       "flex": null,
       "flex_flow": null,
       "grid_area": null,
       "grid_auto_columns": null,
       "grid_auto_flow": null,
       "grid_auto_rows": null,
       "grid_column": null,
       "grid_gap": null,
       "grid_row": null,
       "grid_template_areas": null,
       "grid_template_columns": null,
       "grid_template_rows": null,
       "height": null,
       "justify_content": null,
       "justify_items": null,
       "left": null,
       "margin": null,
       "max_height": null,
       "max_width": null,
       "min_height": null,
       "min_width": null,
       "object_fit": null,
       "object_position": null,
       "order": null,
       "overflow": null,
       "padding": null,
       "right": null,
       "top": null,
       "visibility": null,
       "width": null
      }
     },
     "dcc394af6f6d4355a5020103e363dc8d": {
      "model_module": "@jupyter-widgets/base",
      "model_module_version": "2.0.0",
      "model_name": "LayoutModel",
      "state": {
       "_model_module": "@jupyter-widgets/base",
       "_model_module_version": "2.0.0",
       "_model_name": "LayoutModel",
       "_view_count": null,
       "_view_module": "@jupyter-widgets/base",
       "_view_module_version": "2.0.0",
       "_view_name": "LayoutView",
       "align_content": null,
       "align_items": null,
       "align_self": null,
       "border_bottom": null,
       "border_left": null,
       "border_right": null,
       "border_top": null,
       "bottom": null,
       "display": null,
       "flex": null,
       "flex_flow": null,
       "grid_area": null,
       "grid_auto_columns": null,
       "grid_auto_flow": null,
       "grid_auto_rows": null,
       "grid_column": null,
       "grid_gap": null,
       "grid_row": null,
       "grid_template_areas": null,
       "grid_template_columns": null,
       "grid_template_rows": null,
       "height": null,
       "justify_content": null,
       "justify_items": null,
       "left": null,
       "margin": null,
       "max_height": null,
       "max_width": null,
       "min_height": null,
       "min_width": null,
       "object_fit": null,
       "object_position": null,
       "order": null,
       "overflow": null,
       "padding": null,
       "right": null,
       "top": null,
       "visibility": null,
       "width": null
      }
     },
     "e07cbd71df2d41fca2fabd4f8fd774b2": {
      "model_module": "@jupyter-widgets/controls",
      "model_module_version": "2.0.0",
      "model_name": "HTMLModel",
      "state": {
       "_dom_classes": [],
       "_model_module": "@jupyter-widgets/controls",
       "_model_module_version": "2.0.0",
       "_model_name": "HTMLModel",
       "_view_count": null,
       "_view_module": "@jupyter-widgets/controls",
       "_view_module_version": "2.0.0",
       "_view_name": "HTMLView",
       "description": "",
       "description_allow_html": false,
       "layout": "IPY_MODEL_cad9255fe1aa46d695d468fb822bb1ea",
       "placeholder": "​",
       "style": "IPY_MODEL_7a69ac7d317e49858a3736e61d19cfff",
       "tabbable": null,
       "tooltip": null,
       "value": "config.json: 100%"
      }
     },
     "eaeb0fdbad854fe5b079a0bb4872cb07": {
      "model_module": "@jupyter-widgets/controls",
      "model_module_version": "2.0.0",
      "model_name": "HTMLStyleModel",
      "state": {
       "_model_module": "@jupyter-widgets/controls",
       "_model_module_version": "2.0.0",
       "_model_name": "HTMLStyleModel",
       "_view_count": null,
       "_view_module": "@jupyter-widgets/base",
       "_view_module_version": "2.0.0",
       "_view_name": "StyleView",
       "background": null,
       "description_width": "",
       "font_size": null,
       "text_color": null
      }
     },
     "f0358bcf2a514ceb8944f2aba5f6bea2": {
      "model_module": "@jupyter-widgets/controls",
      "model_module_version": "2.0.0",
      "model_name": "HTMLModel",
      "state": {
       "_dom_classes": [],
       "_model_module": "@jupyter-widgets/controls",
       "_model_module_version": "2.0.0",
       "_model_name": "HTMLModel",
       "_view_count": null,
       "_view_module": "@jupyter-widgets/controls",
       "_view_module_version": "2.0.0",
       "_view_name": "HTMLView",
       "description": "",
       "description_allow_html": false,
       "layout": "IPY_MODEL_d91711ea0e214a2b835b28c8f1f2f295",
       "placeholder": "​",
       "style": "IPY_MODEL_70bff63046b041cc9ad312fdf38dfa02",
       "tabbable": null,
       "tooltip": null,
       "value": "model.safetensors: 100%"
      }
     },
     "f140c0d45f694710bb35d9e3e3e86de3": {
      "model_module": "@jupyter-widgets/base",
      "model_module_version": "2.0.0",
      "model_name": "LayoutModel",
      "state": {
       "_model_module": "@jupyter-widgets/base",
       "_model_module_version": "2.0.0",
       "_model_name": "LayoutModel",
       "_view_count": null,
       "_view_module": "@jupyter-widgets/base",
       "_view_module_version": "2.0.0",
       "_view_name": "LayoutView",
       "align_content": null,
       "align_items": null,
       "align_self": null,
       "border_bottom": null,
       "border_left": null,
       "border_right": null,
       "border_top": null,
       "bottom": null,
       "display": null,
       "flex": null,
       "flex_flow": null,
       "grid_area": null,
       "grid_auto_columns": null,
       "grid_auto_flow": null,
       "grid_auto_rows": null,
       "grid_column": null,
       "grid_gap": null,
       "grid_row": null,
       "grid_template_areas": null,
       "grid_template_columns": null,
       "grid_template_rows": null,
       "height": null,
       "justify_content": null,
       "justify_items": null,
       "left": null,
       "margin": null,
       "max_height": null,
       "max_width": null,
       "min_height": null,
       "min_width": null,
       "object_fit": null,
       "object_position": null,
       "order": null,
       "overflow": null,
       "padding": null,
       "right": null,
       "top": null,
       "visibility": null,
       "width": null
      }
     },
     "f358fcef9c114143b1711b3b50be5dcf": {
      "model_module": "@jupyter-widgets/controls",
      "model_module_version": "2.0.0",
      "model_name": "HBoxModel",
      "state": {
       "_dom_classes": [],
       "_model_module": "@jupyter-widgets/controls",
       "_model_module_version": "2.0.0",
       "_model_name": "HBoxModel",
       "_view_count": null,
       "_view_module": "@jupyter-widgets/controls",
       "_view_module_version": "2.0.0",
       "_view_name": "HBoxView",
       "box_style": "",
       "children": [
        "IPY_MODEL_5ffda441ba1b4d8fb77dfcb4bb7ae93d",
        "IPY_MODEL_5edaf578e3ee451e8de54d15844a39e9",
        "IPY_MODEL_4750c91e2bd84aeb85be3fc3b7b9ef1b"
       ],
       "layout": "IPY_MODEL_f140c0d45f694710bb35d9e3e3e86de3",
       "tabbable": null,
       "tooltip": null
      }
     },
     "febdd0b0970042fc860352972dcf64a1": {
      "model_module": "@jupyter-widgets/base",
      "model_module_version": "2.0.0",
      "model_name": "LayoutModel",
      "state": {
       "_model_module": "@jupyter-widgets/base",
       "_model_module_version": "2.0.0",
       "_model_name": "LayoutModel",
       "_view_count": null,
       "_view_module": "@jupyter-widgets/base",
       "_view_module_version": "2.0.0",
       "_view_name": "LayoutView",
       "align_content": null,
       "align_items": null,
       "align_self": null,
       "border_bottom": null,
       "border_left": null,
       "border_right": null,
       "border_top": null,
       "bottom": null,
       "display": null,
       "flex": null,
       "flex_flow": null,
       "grid_area": null,
       "grid_auto_columns": null,
       "grid_auto_flow": null,
       "grid_auto_rows": null,
       "grid_column": null,
       "grid_gap": null,
       "grid_row": null,
       "grid_template_areas": null,
       "grid_template_columns": null,
       "grid_template_rows": null,
       "height": null,
       "justify_content": null,
       "justify_items": null,
       "left": null,
       "margin": null,
       "max_height": null,
       "max_width": null,
       "min_height": null,
       "min_width": null,
       "object_fit": null,
       "object_position": null,
       "order": null,
       "overflow": null,
       "padding": null,
       "right": null,
       "top": null,
       "visibility": null,
       "width": null
      }
     }
    },
    "version_major": 2,
    "version_minor": 0
   }
  }
 },
 "nbformat": 4,
 "nbformat_minor": 5
}
