{
 "cells": [
  {
   "cell_type": "code",
   "execution_count": 1,
   "id": "9c8e656e",
   "metadata": {
    "_cell_guid": "b1076dfc-b9ad-4769-8c92-a6c4dae69d19",
    "_uuid": "8f2839f25d086af736a60e9eeb907d3b93b6e0e5",
    "execution": {
     "iopub.execute_input": "2025-05-15T01:39:02.308496Z",
     "iopub.status.busy": "2025-05-15T01:39:02.307885Z",
     "iopub.status.idle": "2025-05-15T01:39:04.843024Z",
     "shell.execute_reply": "2025-05-15T01:39:04.842254Z"
    },
    "papermill": {
     "duration": 2.543188,
     "end_time": "2025-05-15T01:39:04.844502",
     "exception": false,
     "start_time": "2025-05-15T01:39:02.301314",
     "status": "completed"
    },
    "tags": []
   },
   "outputs": [
    {
     "name": "stdout",
     "output_type": "stream",
     "text": [
      "Collecting llm_bhasa\r\n",
      "  Downloading llm_bhasa-0.5-py3-none-any.whl.metadata (953 bytes)\r\n",
      "Downloading llm_bhasa-0.5-py3-none-any.whl (19 kB)\r\n",
      "Installing collected packages: llm_bhasa\r\n",
      "Successfully installed llm_bhasa-0.5\r\n"
     ]
    }
   ],
   "source": [
    "!pip install --upgrade --no-dependencies llm_bhasa"
   ]
  },
  {
   "cell_type": "markdown",
   "id": "9cc2f6c4",
   "metadata": {
    "papermill": {
     "duration": 0.004458,
     "end_time": "2025-05-15T01:39:04.854386",
     "exception": false,
     "start_time": "2025-05-15T01:39:04.849928",
     "status": "completed"
    },
    "tags": []
   },
   "source": [
    "# LLM Training"
   ]
  },
  {
   "cell_type": "markdown",
   "id": "95924dbe",
   "metadata": {
    "papermill": {
     "duration": 0.00427,
     "end_time": "2025-05-15T01:39:04.864295",
     "exception": false,
     "start_time": "2025-05-15T01:39:04.860025",
     "status": "completed"
    },
    "tags": []
   },
   "source": [
    "## Training - Direct through library"
   ]
  },
  {
   "cell_type": "code",
   "execution_count": 2,
   "id": "7cb4a94f",
   "metadata": {
    "execution": {
     "iopub.execute_input": "2025-05-15T01:39:04.874866Z",
     "iopub.status.busy": "2025-05-15T01:39:04.874318Z",
     "iopub.status.idle": "2025-05-15T01:39:10.877467Z",
     "shell.execute_reply": "2025-05-15T01:39:10.876816Z"
    },
    "papermill": {
     "duration": 6.009888,
     "end_time": "2025-05-15T01:39:10.878871",
     "exception": false,
     "start_time": "2025-05-15T01:39:04.868983",
     "status": "completed"
    },
    "tags": []
   },
   "outputs": [],
   "source": [
    "from llm_bhasa.harmony import training\n",
    "training.train?"
   ]
  },
  {
   "cell_type": "code",
   "execution_count": 3,
   "id": "e89114b3",
   "metadata": {
    "execution": {
     "iopub.execute_input": "2025-05-15T01:39:10.889278Z",
     "iopub.status.busy": "2025-05-15T01:39:10.888973Z",
     "iopub.status.idle": "2025-05-15T01:45:55.364999Z",
     "shell.execute_reply": "2025-05-15T01:45:55.364170Z"
    },
    "papermill": {
     "duration": 404.482466,
     "end_time": "2025-05-15T01:45:55.366270",
     "exception": false,
     "start_time": "2025-05-15T01:39:10.883804",
     "status": "completed"
    },
    "tags": []
   },
   "outputs": [
    {
     "name": "stdout",
     "output_type": "stream",
     "text": [
      "Model cannot be loaded as model_and_optimizer.pth doesnt exist\n",
      "Device: cuda\n",
      "##============== Model Summary =========================##\n",
      "# Total number of parameters: 163,009,536\n",
      "# Token embedding layer shape: torch.Size([50257, 768])\n",
      "# Output layer shape: torch.Size([50257, 768])\n",
      "# Number of trainable parameters considering weight tying: 124,412,160\n",
      "# Total size of the model: 621.83 MB\n",
      "##======================================================##\n"
     ]
    },
    {
     "name": "stderr",
     "output_type": "stream",
     "text": [
      "Downloading gutenberg books: 100%|██████████| 3/3 [00:01<00:00,  1.83it/s, success=3, failure=0]\n"
     ]
    },
    {
     "name": "stdout",
     "output_type": "stream",
     "text": [
      "Total filepaths: len['the-verdict.txt', 'gutenberg_books/1342.txt', 'gutenberg_books/84.txt', 'gutenberg_books/1661.txt']\n",
      "Ep 1 (Step 000000): Train loss 11.946, Val loss 11.964\n",
      "Every effort moves you, and                                                \n",
      "Ep 2 (Step 000100): Train loss 7.194, Val loss 8.380\n",
      "Every effort moves you, and I am    ” ” ” ” ” ” ” ” ” ” ” ” ” ” \n",
      "Ep 3 (Step 000200): Train loss 6.590, Val loss 8.195\n",
      "Every effort moves you, and                                                \n",
      "Ep 4 (Step 000300): Train loss 6.071, Val loss 8.021\n",
      "Every effort moves you, and I am sure, and I am sure, and I am not                                   \n",
      "Ep 5 (Step 000400): Train loss 5.487, Val loss 7.952\n",
      "Every effort moves you, and I was a    ” “I have ” ” ” ” ” ” ” ” ” ” ” \n",
      "Ep 6 (Step 000500): Train loss 4.993, Val loss 7.984\n",
      "Every effort moves you  ” “I have been ” ” ” ” ” ” ” ” ” ” ” ” ” \n",
      "Ep 7 (Step 000600): Train loss 4.252, Val loss 7.967\n",
      "Every effort moves you   ” “I have you.” “I am not.” ” ”  ” ”   ”  “I have you.�\n",
      "Ep 8 (Step 000700): Train loss 3.715, Val loss 8.176\n",
      "Every effort moves you   “You may. I will you.” ”  ” ” “You. I will not to be. I have you.” ” ” ”\n",
      "Ep 9 (Step 000800): Train loss 3.085, Val loss 8.387\n",
      "Every effort moves you  “I cannot be “I should be so, that I will be “I am.“You may have no such as I amiable,” “I am sure I am not know that\n",
      "Ep 10 (Step 000900): Train loss 2.415, Val loss 8.637\n",
      "Every effort moves you have been in the trouble        “I will be so. I can, I was in the  ”  “I do you, I was in the “I do you?\n",
      "Model saved to model_and_optimizer.pth\n",
      "CPU times: user 5min 26s, sys: 1min 14s, total: 6min 41s\n",
      "Wall time: 6min 44s\n"
     ]
    },
    {
     "data": {
      "image/png": "[encoded data removed]",
      "text/plain": [
       "<Figure size 500x300 with 1 Axes>"
      ]
     },
     "metadata": {},
     "output_type": "display_data"
    }
   ],
   "source": [
    "%%time\n",
    "\n",
    "from llm_bhasa.harmony import training\n",
    "training.train(num_epochs=10, eval_freq=100)  # Print eval every 100 steps"
   ]
  },
  {
   "cell_type": "markdown",
   "id": "5c94f904",
   "metadata": {
    "papermill": {
     "duration": 0.006038,
     "end_time": "2025-05-15T01:45:55.379179",
     "exception": false,
     "start_time": "2025-05-15T01:45:55.373141",
     "status": "completed"
    },
    "tags": []
   },
   "source": [
    "## Training - Lets break down\n",
    "\n",
    "Below we will break above single line function into building blocks to have more fine grain control"
   ]
  },
  {
   "cell_type": "code",
   "execution_count": 4,
   "id": "02692046",
   "metadata": {
    "execution": {
     "iopub.execute_input": "2025-05-15T01:45:55.392959Z",
     "iopub.status.busy": "2025-05-15T01:45:55.392365Z",
     "iopub.status.idle": "2025-05-15T01:45:55.396295Z",
     "shell.execute_reply": "2025-05-15T01:45:55.395779Z"
    },
    "papermill": {
     "duration": 0.011872,
     "end_time": "2025-05-15T01:45:55.397269",
     "exception": false,
     "start_time": "2025-05-15T01:45:55.385397",
     "status": "completed"
    },
    "tags": []
   },
   "outputs": [],
   "source": [
    "import os\n",
    "import torch\n",
    "import torch.nn as nn\n",
    "from llm_bhasa.harmony import config\n",
    "from llm_bhasa.harmony import model\n",
    "from llm_bhasa.harmony import training\n",
    "from llm_bhasa.harmony import data, dataset"
   ]
  },
  {
   "cell_type": "markdown",
   "id": "99126732",
   "metadata": {
    "papermill": {
     "duration": 0.00604,
     "end_time": "2025-05-15T01:45:55.409785",
     "exception": false,
     "start_time": "2025-05-15T01:45:55.403745",
     "status": "completed"
    },
    "tags": []
   },
   "source": [
    "### Download data"
   ]
  },
  {
   "cell_type": "code",
   "execution_count": 5,
   "id": "3dcd9c21",
   "metadata": {
    "execution": {
     "iopub.execute_input": "2025-05-15T01:45:55.422830Z",
     "iopub.status.busy": "2025-05-15T01:45:55.422627Z",
     "iopub.status.idle": "2025-05-15T01:45:55.425805Z",
     "shell.execute_reply": "2025-05-15T01:45:55.425271Z"
    },
    "papermill": {
     "duration": 0.010742,
     "end_time": "2025-05-15T01:45:55.426691",
     "exception": false,
     "start_time": "2025-05-15T01:45:55.415949",
     "status": "completed"
    },
    "tags": []
   },
   "outputs": [],
   "source": [
    "gutenberg_book_ids = range(50000)"
   ]
  },
  {
   "cell_type": "code",
   "execution_count": 6,
   "id": "6b18f5af",
   "metadata": {
    "execution": {
     "iopub.execute_input": "2025-05-15T01:45:55.439570Z",
     "iopub.status.busy": "2025-05-15T01:45:55.439372Z",
     "iopub.status.idle": "2025-05-15T01:45:57.210341Z",
     "shell.execute_reply": "2025-05-15T01:45:57.209489Z"
    },
    "papermill": {
     "duration": 1.779143,
     "end_time": "2025-05-15T01:45:57.211969",
     "exception": false,
     "start_time": "2025-05-15T01:45:55.432826",
     "status": "completed"
    },
    "tags": []
   },
   "outputs": [
    {
     "name": "stdout",
     "output_type": "stream",
     "text": [
      "Total book_ids: 47719\n"
     ]
    }
   ],
   "source": [
    "bookkeep_file = \"/kaggle/input/download-gutenberg-book-dataset/guthenberg_bookkeeper.csv\"\n",
    "import pandas as pd\n",
    "\n",
    "if os.path.exists(bookkeep_file):\n",
    "    df_bookkeep = pd.read_csv(bookkeep_file)\n",
    "    df_bookkeep = df_bookkeep[df_bookkeep['status'] == True]\n",
    "    gutenberg_book_ids = df_bookkeep['book_id'].tolist()\n",
    "\n",
    "print(f\"Total book_ids: {len(gutenberg_book_ids)}\")"
   ]
  },
  {
   "cell_type": "code",
   "execution_count": 7,
   "id": "f62a0691",
   "metadata": {
    "execution": {
     "iopub.execute_input": "2025-05-15T01:45:57.226453Z",
     "iopub.status.busy": "2025-05-15T01:45:57.226224Z",
     "iopub.status.idle": "2025-05-15T01:45:57.229339Z",
     "shell.execute_reply": "2025-05-15T01:45:57.228813Z"
    },
    "papermill": {
     "duration": 0.011009,
     "end_time": "2025-05-15T01:45:57.230305",
     "exception": false,
     "start_time": "2025-05-15T01:45:57.219296",
     "status": "completed"
    },
    "tags": []
   },
   "outputs": [],
   "source": [
    "# #comment/uncomment to download gutenberg directly from websites\n",
    "# filepaths = data.download_sample_text(gutenberg_book_ids=gutenberg_book_ids, verbose=False, njobs=4)\n",
    "# print(f\"Total Downloaded Books: {len(filepaths)}\")"
   ]
  },
  {
   "cell_type": "code",
   "execution_count": 8,
   "id": "0141a4c8",
   "metadata": {
    "execution": {
     "iopub.execute_input": "2025-05-15T01:45:57.243661Z",
     "iopub.status.busy": "2025-05-15T01:45:57.243438Z",
     "iopub.status.idle": "2025-05-15T01:45:57.267900Z",
     "shell.execute_reply": "2025-05-15T01:45:57.267263Z"
    },
    "papermill": {
     "duration": 0.032338,
     "end_time": "2025-05-15T01:45:57.268941",
     "exception": false,
     "start_time": "2025-05-15T01:45:57.236603",
     "status": "completed"
    },
    "tags": []
   },
   "outputs": [
    {
     "name": "stdout",
     "output_type": "stream",
     "text": [
      "Total Downloaded Books: 47719\n"
     ]
    }
   ],
   "source": [
    "# #comment/uncomment to generate URI, which will be downloaded later\n",
    "base_url = \"https://www.gutenberg.org/files/{}/{}-0.txt\"\n",
    "fileurls = [base_url.format(book_id, book_id) for book_id in gutenberg_book_ids]\n",
    "print(f\"Total Downloaded Books: {len(fileurls)}\")"
   ]
  },
  {
   "cell_type": "code",
   "execution_count": 9,
   "id": "066f609c",
   "metadata": {
    "execution": {
     "iopub.execute_input": "2025-05-15T01:45:57.291162Z",
     "iopub.status.busy": "2025-05-15T01:45:57.290844Z",
     "iopub.status.idle": "2025-05-15T01:45:57.295622Z",
     "shell.execute_reply": "2025-05-15T01:45:57.294760Z"
    },
    "papermill": {
     "duration": 0.022096,
     "end_time": "2025-05-15T01:45:57.297537",
     "exception": false,
     "start_time": "2025-05-15T01:45:57.275441",
     "status": "completed"
    },
    "tags": []
   },
   "outputs": [],
   "source": [
    "train_data, val_data = training.split_data(fileurls[1000:2000], train_ratio=0.90) # Limit number of files"
   ]
  },
  {
   "cell_type": "markdown",
   "id": "427d54d7",
   "metadata": {
    "papermill": {
     "duration": 0.052647,
     "end_time": "2025-05-15T01:45:57.361678",
     "exception": false,
     "start_time": "2025-05-15T01:45:57.309031",
     "status": "completed"
    },
    "tags": []
   },
   "source": [
    "### Data Loaders"
   ]
  },
  {
   "cell_type": "code",
   "execution_count": 10,
   "id": "9e08c1a3",
   "metadata": {
    "execution": {
     "iopub.execute_input": "2025-05-15T01:45:57.376061Z",
     "iopub.status.busy": "2025-05-15T01:45:57.375386Z",
     "iopub.status.idle": "2025-05-15T01:45:57.378979Z",
     "shell.execute_reply": "2025-05-15T01:45:57.378395Z"
    },
    "papermill": {
     "duration": 0.011711,
     "end_time": "2025-05-15T01:45:57.380091",
     "exception": false,
     "start_time": "2025-05-15T01:45:57.368380",
     "status": "completed"
    },
    "tags": []
   },
   "outputs": [],
   "source": [
    "model_filepath = \"/kaggle/working/model_and_optimizer.pth\"\n",
    "config_train = config.GPT_CONFIG_124M\n",
    "context_len = config_train['context_length']"
   ]
  },
  {
   "cell_type": "code",
   "execution_count": 11,
   "id": "ae32b068",
   "metadata": {
    "execution": {
     "iopub.execute_input": "2025-05-15T01:45:57.393977Z",
     "iopub.status.busy": "2025-05-15T01:45:57.393748Z",
     "iopub.status.idle": "2025-05-15T01:45:57.397938Z",
     "shell.execute_reply": "2025-05-15T01:45:57.397238Z"
    },
    "papermill": {
     "duration": 0.012224,
     "end_time": "2025-05-15T01:45:57.398942",
     "exception": false,
     "start_time": "2025-05-15T01:45:57.386718",
     "status": "completed"
    },
    "tags": []
   },
   "outputs": [],
   "source": [
    "# Creating data loader for both train and validation\n",
    "train_loader = dataset.create_dataloader(train_data, batch_size=2, max_length=context_len, stride=context_len,\n",
    "                                         drop_last=True, num_workers=0)\n",
    "\n",
    "val_loader = dataset.create_dataloader(val_data, batch_size=2, max_length=context_len, stride=context_len,\n",
    "                                        drop_last=False, num_workers=0)\n",
    "\n",
    "## Since number of files which wikll be downloaded will be huge, this step can be skipped\n",
    "# for cntr, data in enumerate(train_loader):\n",
    "#     pass\n",
    "# print(f\"Total batches: {cntr}\")"
   ]
  },
  {
   "cell_type": "markdown",
   "id": "c22bf64d",
   "metadata": {
    "papermill": {
     "duration": 0.006353,
     "end_time": "2025-05-15T01:45:57.411839",
     "exception": false,
     "start_time": "2025-05-15T01:45:57.405486",
     "status": "completed"
    },
    "tags": []
   },
   "source": [
    "### Model Defination"
   ]
  },
  {
   "cell_type": "code",
   "execution_count": 12,
   "id": "25e47a7a",
   "metadata": {
    "execution": {
     "iopub.execute_input": "2025-05-15T01:45:57.425538Z",
     "iopub.status.busy": "2025-05-15T01:45:57.425339Z",
     "iopub.status.idle": "2025-05-15T01:45:57.429801Z",
     "shell.execute_reply": "2025-05-15T01:45:57.429116Z"
    },
    "papermill": {
     "duration": 0.012573,
     "end_time": "2025-05-15T01:45:57.430826",
     "exception": false,
     "start_time": "2025-05-15T01:45:57.418253",
     "status": "completed"
    },
    "tags": []
   },
   "outputs": [
    {
     "data": {
      "text/plain": [
       "device(type='cuda')"
      ]
     },
     "execution_count": 12,
     "metadata": {},
     "output_type": "execute_result"
    }
   ],
   "source": [
    "device = torch.device(\"cuda\" if torch.cuda.is_available() else \"cpu\")\n",
    "device"
   ]
  },
  {
   "cell_type": "code",
   "execution_count": 13,
   "id": "31280166",
   "metadata": {
    "execution": {
     "iopub.execute_input": "2025-05-15T01:45:57.444426Z",
     "iopub.status.busy": "2025-05-15T01:45:57.444232Z",
     "iopub.status.idle": "2025-05-15T01:45:57.448658Z",
     "shell.execute_reply": "2025-05-15T01:45:57.447984Z"
    },
    "papermill": {
     "duration": 0.012353,
     "end_time": "2025-05-15T01:45:57.449655",
     "exception": false,
     "start_time": "2025-05-15T01:45:57.437302",
     "status": "completed"
    },
    "tags": []
   },
   "outputs": [
    {
     "data": {
      "text/plain": [
       "{'vocab_size': 50257,\n",
       " 'context_length': 1024,\n",
       " 'emb_dim': 768,\n",
       " 'n_heads': 12,\n",
       " 'n_layers': 12,\n",
       " 'drop_rate': 0.1,\n",
       " 'qkv_bias': False}"
      ]
     },
     "execution_count": 13,
     "metadata": {},
     "output_type": "execute_result"
    }
   ],
   "source": [
    "config_train"
   ]
  },
  {
   "cell_type": "markdown",
   "id": "ff86dca7",
   "metadata": {
    "papermill": {
     "duration": 0.006504,
     "end_time": "2025-05-15T01:45:57.462881",
     "exception": false,
     "start_time": "2025-05-15T01:45:57.456377",
     "status": "completed"
    },
    "tags": []
   },
   "source": [
    "define our model based on passed configuration, different configuration can also be passed"
   ]
  },
  {
   "cell_type": "code",
   "execution_count": 14,
   "id": "e22f6fc7",
   "metadata": {
    "execution": {
     "iopub.execute_input": "2025-05-15T01:45:57.477084Z",
     "iopub.status.busy": "2025-05-15T01:45:57.476686Z",
     "iopub.status.idle": "2025-05-15T01:45:58.874978Z",
     "shell.execute_reply": "2025-05-15T01:45:58.874154Z"
    },
    "papermill": {
     "duration": 1.406904,
     "end_time": "2025-05-15T01:45:58.876395",
     "exception": false,
     "start_time": "2025-05-15T01:45:57.469491",
     "status": "completed"
    },
    "tags": []
   },
   "outputs": [],
   "source": [
    "model_llm = model.LLMModel(config_train)"
   ]
  },
  {
   "cell_type": "code",
   "execution_count": 15,
   "id": "3082ca7f",
   "metadata": {
    "execution": {
     "iopub.execute_input": "2025-05-15T01:45:58.891242Z",
     "iopub.status.busy": "2025-05-15T01:45:58.891010Z",
     "iopub.status.idle": "2025-05-15T01:45:59.051274Z",
     "shell.execute_reply": "2025-05-15T01:45:59.050261Z"
    },
    "papermill": {
     "duration": 0.169163,
     "end_time": "2025-05-15T01:45:59.052611",
     "exception": false,
     "start_time": "2025-05-15T01:45:58.883448",
     "status": "completed"
    },
    "tags": []
   },
   "outputs": [],
   "source": [
    "!rm -rf ~/.cache/huggingface/hub  -- delete any cache"
   ]
  },
  {
   "cell_type": "markdown",
   "id": "377c0bc0",
   "metadata": {
    "papermill": {
     "duration": 0.006583,
     "end_time": "2025-05-15T01:45:59.066400",
     "exception": false,
     "start_time": "2025-05-15T01:45:59.059817",
     "status": "completed"
    },
    "tags": []
   },
   "source": [
    "### Loading Previously trained model from HuggingFace\n",
    "we dont want to train from scratch, lets load previously trained model of same config from huggingface \n",
    "<br/>\n",
    "\n",
    "<b>repo</b> - https://huggingface.co/pankajr141/llm_bhasa_v1"
   ]
  },
  {
   "cell_type": "code",
   "execution_count": 16,
   "id": "83b28ea0",
   "metadata": {
    "execution": {
     "iopub.execute_input": "2025-05-15T01:45:59.080680Z",
     "iopub.status.busy": "2025-05-15T01:45:59.080415Z",
     "iopub.status.idle": "2025-05-15T01:45:59.085809Z",
     "shell.execute_reply": "2025-05-15T01:45:59.085303Z"
    },
    "papermill": {
     "duration": 0.013964,
     "end_time": "2025-05-15T01:45:59.086931",
     "exception": false,
     "start_time": "2025-05-15T01:45:59.072967",
     "status": "completed"
    },
    "tags": []
   },
   "outputs": [
    {
     "data": {
      "text/plain": [
       "'pankajr141/llm_bhasa_v1'"
      ]
     },
     "execution_count": 16,
     "metadata": {},
     "output_type": "execute_result"
    }
   ],
   "source": [
    "repo = \"pankajr141\"\n",
    "modelname = \"llm_bhasa_v1\"\n",
    "\n",
    "repo_url = f\"{repo}/{modelname}\"\n",
    "repo_url"
   ]
  },
  {
   "cell_type": "code",
   "execution_count": 17,
   "id": "e276db21",
   "metadata": {
    "execution": {
     "iopub.execute_input": "2025-05-15T01:45:59.101460Z",
     "iopub.status.busy": "2025-05-15T01:45:59.101096Z",
     "iopub.status.idle": "2025-05-15T01:46:13.452907Z",
     "shell.execute_reply": "2025-05-15T01:46:13.452295Z"
    },
    "papermill": {
     "duration": 14.360503,
     "end_time": "2025-05-15T01:46:13.454328",
     "exception": false,
     "start_time": "2025-05-15T01:45:59.093825",
     "status": "completed"
    },
    "tags": []
   },
   "outputs": [
    {
     "data": {
      "application/vnd.jupyter.widget-view+json": {
       "model_id": "c5c6d2984225402db8741d820907175b",
       "version_major": 2,
       "version_minor": 0
      },
      "text/plain": [
       "config.json:   0%|          | 0.00/174 [00:00<?, ?B/s]"
      ]
     },
     "metadata": {},
     "output_type": "display_data"
    },
    {
     "data": {
      "application/vnd.jupyter.widget-view+json": {
       "model_id": "37a4e459159e416f8cf8d00cf6e9b259",
       "version_major": 2,
       "version_minor": 0
      },
      "text/plain": [
       "model.safetensors:   0%|          | 0.00/702M [00:00<?, ?B/s]"
      ]
     },
     "metadata": {},
     "output_type": "display_data"
    }
   ],
   "source": [
    "# Load from hugging face\n",
    "model_llm = model.LLMModel.from_pretrained(repo_url)"
   ]
  },
  {
   "cell_type": "code",
   "execution_count": 18,
   "id": "8ace3004",
   "metadata": {
    "execution": {
     "iopub.execute_input": "2025-05-15T01:46:13.470522Z",
     "iopub.status.busy": "2025-05-15T01:46:13.469672Z",
     "iopub.status.idle": "2025-05-15T01:46:13.672993Z",
     "shell.execute_reply": "2025-05-15T01:46:13.672227Z"
    },
    "papermill": {
     "duration": 0.213015,
     "end_time": "2025-05-15T01:46:13.675083",
     "exception": false,
     "start_time": "2025-05-15T01:46:13.462068",
     "status": "completed"
    },
    "tags": []
   },
   "outputs": [
    {
     "name": "stdout",
     "output_type": "stream",
     "text": [
      "##============== Model Summary =========================##\n",
      "# Total number of parameters: 163,009,536\n",
      "# Token embedding layer shape: torch.Size([50257, 768])\n",
      "# Output layer shape: torch.Size([50257, 768])\n",
      "# Number of trainable parameters considering weight tying: 124,412,160\n",
      "# Total size of the model: 621.83 MB\n",
      "##======================================================##\n",
      "Model Defined\n"
     ]
    }
   ],
   "source": [
    "# model_llm = model.load_model(model_llm, model_filepath) # Resuming training by loading previously trained model\n",
    "model.print_model_information(model_llm)\n",
    "\n",
    "if torch.cuda.device_count() > 1:\n",
    "    model_llm = nn.DataParallel(model_llm)\n",
    "\n",
    "model_llm.to(device)                                    # Assigning GPU/CPU to model\n",
    "print(\"Model Defined\")"
   ]
  },
  {
   "cell_type": "markdown",
   "id": "076066b8",
   "metadata": {
    "papermill": {
     "duration": 0.017365,
     "end_time": "2025-05-15T01:46:13.709056",
     "exception": false,
     "start_time": "2025-05-15T01:46:13.691691",
     "status": "completed"
    },
    "tags": []
   },
   "source": [
    "### Additional Defination"
   ]
  },
  {
   "cell_type": "code",
   "execution_count": 19,
   "id": "700c818f",
   "metadata": {
    "execution": {
     "iopub.execute_input": "2025-05-15T01:46:13.726302Z",
     "iopub.status.busy": "2025-05-15T01:46:13.725528Z",
     "iopub.status.idle": "2025-05-15T01:46:13.729907Z",
     "shell.execute_reply": "2025-05-15T01:46:13.729317Z"
    },
    "papermill": {
     "duration": 0.014029,
     "end_time": "2025-05-15T01:46:13.731003",
     "exception": false,
     "start_time": "2025-05-15T01:46:13.716974",
     "status": "completed"
    },
    "tags": []
   },
   "outputs": [],
   "source": [
    "optimizer = torch.optim.AdamW(model_llm.parameters(), lr=0.0004, weight_decay=0.1)"
   ]
  },
  {
   "cell_type": "code",
   "execution_count": 20,
   "id": "d79f8f24",
   "metadata": {
    "execution": {
     "iopub.execute_input": "2025-05-15T01:46:13.746210Z",
     "iopub.status.busy": "2025-05-15T01:46:13.746023Z",
     "iopub.status.idle": "2025-05-15T01:46:13.750974Z",
     "shell.execute_reply": "2025-05-15T01:46:13.749815Z"
    },
    "papermill": {
     "duration": 0.013821,
     "end_time": "2025-05-15T01:46:13.752098",
     "exception": false,
     "start_time": "2025-05-15T01:46:13.738277",
     "status": "completed"
    },
    "tags": []
   },
   "outputs": [
    {
     "data": {
      "text/plain": [
       "<Encoding 'gpt2'>"
      ]
     },
     "execution_count": 20,
     "metadata": {},
     "output_type": "execute_result"
    }
   ],
   "source": [
    "from llm_bhasa.harmony import tokenizer as tokenizer_lib\n",
    "tokenizer = tokenizer_lib.get_tokenizer()\n",
    "tokenizer"
   ]
  },
  {
   "cell_type": "markdown",
   "id": "b8287969",
   "metadata": {
    "papermill": {
     "duration": 0.006963,
     "end_time": "2025-05-15T01:46:13.766152",
     "exception": false,
     "start_time": "2025-05-15T01:46:13.759189",
     "status": "completed"
    },
    "tags": []
   },
   "source": [
    "### Lets train"
   ]
  },
  {
   "cell_type": "code",
   "execution_count": 21,
   "id": "befda628",
   "metadata": {
    "execution": {
     "iopub.execute_input": "2025-05-15T01:46:13.781220Z",
     "iopub.status.busy": "2025-05-15T01:46:13.780822Z",
     "iopub.status.idle": "2025-05-15T09:02:29.183226Z",
     "shell.execute_reply": "2025-05-15T09:02:29.182249Z"
    },
    "papermill": {
     "duration": 26175.411888,
     "end_time": "2025-05-15T09:02:29.185128",
     "exception": false,
     "start_time": "2025-05-15T01:46:13.773240",
     "status": "completed"
    },
    "tags": []
   },
   "outputs": [
    {
     "name": "stdout",
     "output_type": "stream",
     "text": [
      "Ep 1 (Step 000000): Train loss 3.381, Val loss 4.063\n",
      "Ep 1 (Step 000500): Train loss 3.312, Val loss 4.391\n",
      "Ep 1 (Step 001000): Train loss 3.492, Val loss 4.505\n",
      "Ep 1 (Step 001500): Train loss 3.271, Val loss 4.168\n",
      "Ep 1 (Step 002000): Train loss 3.271, Val loss 4.112\n",
      "Ep 1 (Step 002500): Train loss 3.345, Val loss 4.220\n",
      "Ep 1 (Step 003000): Train loss 3.407, Val loss 4.184\n",
      "Ep 1 (Step 003500): Train loss 3.952, Val loss 4.605\n",
      "Ep 1 (Step 004000): Train loss 3.188, Val loss 4.075\n",
      "Ep 1 (Step 004500): Train loss 3.258, Val loss 4.086\n",
      "Ep 1 (Step 005000): Train loss 3.413, Val loss 4.261\n",
      "Ep 1 (Step 005500): Train loss 3.262, Val loss 4.100\n",
      "Ep 1 (Step 006000): Train loss 3.224, Val loss 4.107\n",
      "Ep 1 (Step 006500): Train loss 3.495, Val loss 4.166\n",
      "Ep 1 (Step 007000): Train loss 3.341, Val loss 4.157\n",
      "Ep 1 (Step 007500): Train loss 3.299, Val loss 4.173\n",
      "Ep 1 (Step 008000): Train loss 3.302, Val loss 4.102\n",
      "Ep 1 (Step 008500): Train loss 3.346, Val loss 4.123\n",
      "Ep 1 (Step 009000): Train loss 3.359, Val loss 4.150\n",
      "Ep 1 (Step 009500): Train loss 3.316, Val loss 4.039\n",
      "Ep 1 (Step 010000): Train loss 4.039, Val loss 4.136\n",
      "Ep 1 (Step 010500): Train loss 3.308, Val loss 4.089\n",
      "Ep 1 (Step 011000): Train loss 3.308, Val loss 4.058\n",
      "Ep 1 (Step 011500): Train loss 3.438, Val loss 4.045\n",
      "Ep 1 (Step 012000): Train loss 3.301, Val loss 4.002\n",
      "Ep 1 (Step 012500): Train loss 3.382, Val loss 4.078\n",
      "Ep 1 (Step 013000): Train loss 3.243, Val loss 4.034\n",
      "Ep 1 (Step 013500): Train loss 3.253, Val loss 3.949\n",
      "Ep 1 (Step 014000): Train loss 3.442, Val loss 4.101\n",
      "Ep 1 (Step 014500): Train loss 3.526, Val loss 4.179\n",
      "Ep 1 (Step 015000): Train loss 3.322, Val loss 4.064\n",
      "Ep 1 (Step 015500): Train loss 3.260, Val loss 4.065\n",
      "Ep 1 (Step 016000): Train loss 3.275, Val loss 4.048\n",
      "Ep 1 (Step 016500): Train loss 3.267, Val loss 4.009\n",
      "Ep 1 (Step 017000): Train loss 3.289, Val loss 4.001\n",
      "Ep 1 (Step 017500): Train loss 3.445, Val loss 4.203\n",
      "Ep 1 (Step 018000): Train loss 3.447, Val loss 4.075\n",
      "Ep 1 (Step 018500): Train loss 3.450, Val loss 4.017\n",
      "Ep 1 (Step 019000): Train loss 3.299, Val loss 3.924\n",
      "Ep 1 (Step 019500): Train loss 3.375, Val loss 3.965\n",
      "Ep 1 (Step 020000): Train loss 3.636, Val loss 4.301\n",
      "Ep 1 (Step 020500): Train loss 3.317, Val loss 3.966\n",
      "Ep 1 (Step 021000): Train loss 3.337, Val loss 4.003\n",
      "Ep 1 (Step 021500): Train loss 3.481, Val loss 4.006\n",
      "Ep 1 (Step 022000): Train loss 3.416, Val loss 3.957\n",
      "Ep 1 (Step 022500): Train loss 3.286, Val loss 3.990\n",
      "Ep 1 (Step 023000): Train loss 3.749, Val loss 4.033\n",
      "Ep 1 (Step 023500): Train loss 3.585, Val loss 4.086\n",
      "Ep 1 (Step 024000): Train loss 3.750, Val loss 4.281\n",
      "Ep 1 (Step 024500): Train loss 3.475, Val loss 4.040\n",
      "Ep 1 (Step 025000): Train loss 3.498, Val loss 4.195\n",
      "Ep 1 (Step 025500): Train loss 3.325, Val loss 4.005\n",
      "Ep 1 (Step 026000): Train loss 3.360, Val loss 4.038\n",
      "Ep 1 (Step 026500): Train loss 3.403, Val loss 4.088\n",
      "Ep 1 (Step 027000): Train loss 3.393, Val loss 3.962\n",
      "Ep 1 (Step 027500): Train loss 3.349, Val loss 3.972\n",
      "Ep 1 (Step 028000): Train loss 3.349, Val loss 3.964\n",
      "Ep 1 (Step 028500): Train loss 3.366, Val loss 4.008\n",
      "Ep 1 (Step 029000): Train loss 3.367, Val loss 4.008\n",
      "Ep 1 (Step 029500): Train loss 3.610, Val loss 3.975\n",
      "Ep 1 (Step 030000): Train loss 3.776, Val loss 4.182\n",
      "Ep 1 (Step 030500): Train loss 3.405, Val loss 4.022\n",
      "Ep 1 (Step 031000): Train loss 3.415, Val loss 4.025\n",
      "Ep 1 (Step 031500): Train loss 3.667, Val loss 3.976\n",
      "Ep 1 (Step 032000): Train loss 3.417, Val loss 3.939\n",
      "Ep 1 (Step 032500): Train loss 3.539, Val loss 4.156\n",
      "Ep 1 (Step 033000): Train loss 3.349, Val loss 3.867\n",
      "Ep 1 (Step 033500): Train loss 3.391, Val loss 3.910\n",
      "Ep 1 (Step 034000): Train loss 3.324, Val loss 3.984\n",
      "Ep 1 (Step 034500): Train loss 3.331, Val loss 3.932\n",
      "Ep 1 (Step 035000): Train loss 3.350, Val loss 3.987\n",
      "Ep 1 (Step 035500): Train loss 3.383, Val loss 4.076\n",
      "Ep 1 (Step 036000): Train loss 3.379, Val loss 3.984\n",
      "Ep 1 (Step 036500): Train loss 3.321, Val loss 3.964\n",
      "Ep 1 (Step 037000): Train loss 3.420, Val loss 3.975\n",
      "Ep 1 (Step 037500): Train loss 3.415, Val loss 4.174\n",
      "Ep 1 (Step 038000): Train loss 3.360, Val loss 3.936\n",
      "Ep 1 (Step 038500): Train loss 3.754, Val loss 4.244\n",
      "Ep 1 (Step 039000): Train loss 3.361, Val loss 4.014\n",
      "Ep 1 (Step 039500): Train loss 3.383, Val loss 3.984\n",
      "Ep 1 (Step 040000): Train loss 3.420, Val loss 3.996\n",
      "Ep 1 (Step 040500): Train loss 3.345, Val loss 4.014\n",
      "Ep 1 (Step 041000): Train loss 3.552, Val loss 4.098\n",
      "Ep 1 (Step 041500): Train loss 3.530, Val loss 4.132\n",
      "Ep 1 (Step 042000): Train loss 3.423, Val loss 3.986\n",
      "Ep 1 (Step 042500): Train loss 3.484, Val loss 4.013\n",
      "Ep 1 (Step 043000): Train loss 3.559, Val loss 4.089\n",
      "Ep 1 (Step 043500): Train loss 3.356, Val loss 4.004\n",
      "Ep 1 (Step 044000): Train loss 3.381, Val loss 3.970\n",
      "Ep 1 (Step 044500): Train loss 3.612, Val loss 4.282\n",
      "Ep 1 (Step 045000): Train loss 3.437, Val loss 3.958\n",
      "Ep 1 (Step 045500): Train loss 3.526, Val loss 4.006\n",
      "Ep 1 (Step 046000): Train loss 3.536, Val loss 4.248\n",
      "Ep 1 (Step 046500): Train loss 3.367, Val loss 4.001\n",
      "Ep 1 (Step 047000): Train loss 3.505, Val loss 3.997\n",
      "Ep 1 (Step 047500): Train loss 3.873, Val loss 4.232\n",
      "Ep 1 (Step 048000): Train loss 4.067, Val loss 4.910\n",
      "Ep 1 (Step 048500): Train loss 4.250, Val loss 5.123\n",
      "Ep 1 (Step 049000): Train loss 3.543, Val loss 4.111\n",
      "Ep 1 (Step 049500): Train loss 3.474, Val loss 4.030\n",
      "Ep 1 (Step 050000): Train loss 3.348, Val loss 4.008\n",
      "Ep 1 (Step 050500): Train loss 3.437, Val loss 4.108\n",
      "Ep 1 (Step 051000): Train loss 3.389, Val loss 4.076\n",
      "Ep 1 (Step 051500): Train loss 3.317, Val loss 3.945\n",
      "Ep 1 (Step 052000): Train loss 3.289, Val loss 3.943\n",
      "Ep 1 (Step 052500): Train loss 3.518, Val loss 3.990\n",
      "Ep 1 (Step 053000): Train loss 3.260, Val loss 3.971\n",
      "Ep 1 (Step 053500): Train loss 3.355, Val loss 3.956\n",
      "Ep 1 (Step 054000): Train loss 3.377, Val loss 3.956\n",
      "Ep 1 (Step 054500): Train loss 3.531, Val loss 4.033\n",
      "Ep 1 (Step 055000): Train loss 3.422, Val loss 4.104\n",
      "Ep 1 (Step 055500): Train loss 3.468, Val loss 4.042\n",
      "Ep 1 (Step 056000): Train loss 3.469, Val loss 4.107\n",
      "Ep 1 (Step 056500): Train loss 3.834, Val loss 4.136\n",
      "Ep 1 (Step 057000): Train loss 3.296, Val loss 4.043\n",
      "Ep 1 (Step 057500): Train loss 3.332, Val loss 4.038\n",
      "Ep 1 (Step 058000): Train loss 3.260, Val loss 4.017\n",
      "Ep 1 (Step 058500): Train loss 3.367, Val loss 3.989\n",
      "Ep 1 (Step 059000): Train loss 3.285, Val loss 4.000\n",
      "Ep 1 (Step 059500): Train loss 3.506, Val loss 4.115\n",
      "Ep 1 (Step 060000): Train loss 3.336, Val loss 4.021\n",
      "Ep 1 (Step 060500): Train loss 3.452, Val loss 4.013\n",
      "Ep 1 (Step 061000): Train loss 3.347, Val loss 3.960\n",
      "Ep 1 (Step 061500): Train loss 3.735, Val loss 4.234\n",
      "Ep 1 (Step 062000): Train loss 3.335, Val loss 3.940\n",
      " will not\n",
      "Model saved to /kaggle/working/model_and_optimizer.pth\n",
      "CPU times: user 5h 47min 13s, sys: 1h 16min 54s, total: 7h 4min 8s\n",
      "Wall time: 7h 16min 15s\n"
     ]
    }
   ],
   "source": [
    "%%time\n",
    "\n",
    "num_epochs = 1\n",
    "# Training LLM model from scratch\n",
    "train_losses, val_losses, tokens_seen = training.train_model(model_llm, \n",
    "                                                             train_loader,\n",
    "                                                             val_loader, \n",
    "                                                             optimizer, \n",
    "                                                             device,\n",
    "                                                             num_epochs=num_epochs,\n",
    "                                                             eval_freq=500,   # Loss will be printed every 500 steps\n",
    "                                                             eval_iter=50,    # Number of batches to use for each evaluation\n",
    "                                                             start_context=\"Every effort moves you\", \n",
    "                                                             tokenizer=tokenizer)\n",
    "model.save_model(model_llm, optimizer, model_filepath)"
   ]
  },
  {
   "cell_type": "code",
   "execution_count": 22,
   "id": "3c73e270",
   "metadata": {
    "execution": {
     "iopub.execute_input": "2025-05-15T09:02:29.216567Z",
     "iopub.status.busy": "2025-05-15T09:02:29.216324Z",
     "iopub.status.idle": "2025-05-15T09:02:29.219186Z",
     "shell.execute_reply": "2025-05-15T09:02:29.218664Z"
    },
    "papermill": {
     "duration": 0.017661,
     "end_time": "2025-05-15T09:02:29.220206",
     "exception": false,
     "start_time": "2025-05-15T09:02:29.202545",
     "status": "completed"
    },
    "tags": []
   },
   "outputs": [],
   "source": [
    "# model_llm.to(device)\n",
    "# training.evaluate_model(model_llm, train_loader, val_loader, device, 50)"
   ]
  },
  {
   "cell_type": "markdown",
   "id": "ab447ca7",
   "metadata": {
    "papermill": {
     "duration": 0.011483,
     "end_time": "2025-05-15T09:02:29.243848",
     "exception": false,
     "start_time": "2025-05-15T09:02:29.232365",
     "status": "completed"
    },
    "tags": []
   },
   "source": [
    "### Plot Results Train vs Validation"
   ]
  },
  {
   "cell_type": "code",
   "execution_count": 23,
   "id": "083df884",
   "metadata": {
    "execution": {
     "iopub.execute_input": "2025-05-15T09:02:29.268674Z",
     "iopub.status.busy": "2025-05-15T09:02:29.268160Z",
     "iopub.status.idle": "2025-05-15T09:02:29.410454Z",
     "shell.execute_reply": "2025-05-15T09:02:29.409748Z"
    },
    "papermill": {
     "duration": 0.156065,
     "end_time": "2025-05-15T09:02:29.411647",
     "exception": false,
     "start_time": "2025-05-15T09:02:29.255582",
     "status": "completed"
    },
    "tags": []
   },
   "outputs": [
    {
     "data": {
      "image/png": "[encoded data removed]",
      "text/plain": [
       "<Figure size 500x300 with 1 Axes>"
      ]
     },
     "metadata": {},
     "output_type": "display_data"
    }
   ],
   "source": [
    "epochs_tensor = torch.linspace(0, num_epochs, len(train_losses))\n",
    "training.plot_losses(epochs_tensor, tokens_seen, train_losses, val_losses)"
   ]
  },
  {
   "cell_type": "markdown",
   "id": "3461492e",
   "metadata": {
    "papermill": {
     "duration": 0.012915,
     "end_time": "2025-05-15T09:02:29.437935",
     "exception": false,
     "start_time": "2025-05-15T09:02:29.425020",
     "status": "completed"
    },
    "tags": []
   },
   "source": [
    "### Generate some samples"
   ]
  },
  {
   "cell_type": "code",
   "execution_count": 24,
   "id": "a781fe8d",
   "metadata": {
    "execution": {
     "iopub.execute_input": "2025-05-15T09:02:29.464614Z",
     "iopub.status.busy": "2025-05-15T09:02:29.464380Z",
     "iopub.status.idle": "2025-05-15T09:02:29.472020Z",
     "shell.execute_reply": "2025-05-15T09:02:29.471345Z"
    },
    "papermill": {
     "duration": 0.022028,
     "end_time": "2025-05-15T09:02:29.473151",
     "exception": false,
     "start_time": "2025-05-15T09:02:29.451123",
     "status": "completed"
    },
    "tags": []
   },
   "outputs": [],
   "source": [
    "from llm_bhasa.harmony import generator\n",
    "\n",
    "model_llm.eval()  # Disable dropout during evaluation\n",
    "model_llm.to(device)\n",
    "\n",
    "context_len = config_train['context_length']"
   ]
  },
  {
   "cell_type": "code",
   "execution_count": 25,
   "id": "959d8b15",
   "metadata": {
    "execution": {
     "iopub.execute_input": "2025-05-15T09:02:29.499246Z",
     "iopub.status.busy": "2025-05-15T09:02:29.499047Z",
     "iopub.status.idle": "2025-05-15T09:02:29.502741Z",
     "shell.execute_reply": "2025-05-15T09:02:29.502256Z"
    },
    "papermill": {
     "duration": 0.017898,
     "end_time": "2025-05-15T09:02:29.503704",
     "exception": false,
     "start_time": "2025-05-15T09:02:29.485806",
     "status": "completed"
    },
    "tags": []
   },
   "outputs": [],
   "source": [
    "def generate_text(start_context):\n",
    "    tokenizer = tokenizer_lib.get_tokenizer()\n",
    "    encoded = tokenizer_lib.text_to_token_ids(start_context, tokenizer).to(device)\n",
    "    token_ids  = generator.generate(model=model_llm, idx=encoded, max_new_tokens=50, context_size=context_len)\n",
    "    decoded_text = tokenizer_lib.token_ids_to_text(token_ids, tokenizer)\n",
    "    return decoded_text.replace(\"\\n\", \" \")"
   ]
  },
  {
   "cell_type": "code",
   "execution_count": 26,
   "id": "b4a5c45e",
   "metadata": {
    "execution": {
     "iopub.execute_input": "2025-05-15T09:02:29.678272Z",
     "iopub.status.busy": "2025-05-15T09:02:29.678032Z",
     "iopub.status.idle": "2025-05-15T09:02:30.326141Z",
     "shell.execute_reply": "2025-05-15T09:02:30.325392Z"
    },
    "papermill": {
     "duration": 0.811235,
     "end_time": "2025-05-15T09:02:30.327410",
     "exception": false,
     "start_time": "2025-05-15T09:02:29.516175",
     "status": "completed"
    },
    "tags": []
   },
   "outputs": [
    {
     "data": {
      "text/plain": [
       "'Hello, I am sure,” said the half-caste, “you are right.”\\r \\r “I have no doubt of it,” said the half-caste, “but I have no doubt of it'"
      ]
     },
     "execution_count": 26,
     "metadata": {},
     "output_type": "execute_result"
    }
   ],
   "source": [
    "generate_text(\"Hello, I am\")"
   ]
  },
  {
   "cell_type": "code",
   "execution_count": 27,
   "id": "0f0b9cd8",
   "metadata": {
    "execution": {
     "iopub.execute_input": "2025-05-15T09:02:30.356876Z",
     "iopub.status.busy": "2025-05-15T09:02:30.356625Z",
     "iopub.status.idle": "2025-05-15T09:02:30.941967Z",
     "shell.execute_reply": "2025-05-15T09:02:30.941230Z"
    },
    "papermill": {
     "duration": 0.600485,
     "end_time": "2025-05-15T09:02:30.943185",
     "exception": false,
     "start_time": "2025-05-15T09:02:30.342700",
     "status": "completed"
    },
    "tags": []
   },
   "outputs": [
    {
     "data": {
      "text/plain": [
       "'Lets start, and the half-caste, who,\\r in spite of his apparent calmness, had been so much affected by\\r the expression of the half-caste, that Djalma, who had been so much\\r interested'"
      ]
     },
     "execution_count": 27,
     "metadata": {},
     "output_type": "execute_result"
    }
   ],
   "source": [
    "generate_text(\"Lets start\")"
   ]
  },
  {
   "cell_type": "code",
   "execution_count": 28,
   "id": "0829ac40",
   "metadata": {
    "execution": {
     "iopub.execute_input": "2025-05-15T09:02:30.974463Z",
     "iopub.status.busy": "2025-05-15T09:02:30.973821Z",
     "iopub.status.idle": "2025-05-15T09:02:31.602143Z",
     "shell.execute_reply": "2025-05-15T09:02:31.601492Z"
    },
    "papermill": {
     "duration": 0.646231,
     "end_time": "2025-05-15T09:02:31.603238",
     "exception": false,
     "start_time": "2025-05-15T09:02:30.957007",
     "status": "completed"
    },
    "tags": []
   },
   "outputs": [
    {
     "data": {
      "text/plain": [
       "'How is your\\r friendshipwreck?”\\r \\r “Yes,” answered the Jesuit, “I have been the victim of the\\r crime.”\\r \\r “You are right,” said'"
      ]
     },
     "execution_count": 28,
     "metadata": {},
     "output_type": "execute_result"
    }
   ],
   "source": [
    "generate_text(\"How is your\")"
   ]
  },
  {
   "cell_type": "markdown",
   "id": "ed6399bb",
   "metadata": {
    "papermill": {
     "duration": 0.01263,
     "end_time": "2025-05-15T09:02:31.635363",
     "exception": false,
     "start_time": "2025-05-15T09:02:31.622733",
     "status": "completed"
    },
    "tags": []
   },
   "source": [
    "## Deploy to Huggingface"
   ]
  },
  {
   "cell_type": "code",
   "execution_count": 29,
   "id": "67086954",
   "metadata": {
    "execution": {
     "iopub.execute_input": "2025-05-15T09:02:31.661949Z",
     "iopub.status.busy": "2025-05-15T09:02:31.661721Z",
     "iopub.status.idle": "2025-05-15T09:02:31.664857Z",
     "shell.execute_reply": "2025-05-15T09:02:31.664175Z"
    },
    "papermill": {
     "duration": 0.017567,
     "end_time": "2025-05-15T09:02:31.665968",
     "exception": false,
     "start_time": "2025-05-15T09:02:31.648401",
     "status": "completed"
    },
    "tags": []
   },
   "outputs": [],
   "source": [
    "# from huggingface_hub import notebook_login\n",
    "# notebook_login()"
   ]
  },
  {
   "cell_type": "code",
   "execution_count": 30,
   "id": "6f9936f8",
   "metadata": {
    "execution": {
     "iopub.execute_input": "2025-05-15T09:02:31.692153Z",
     "iopub.status.busy": "2025-05-15T09:02:31.691960Z",
     "iopub.status.idle": "2025-05-15T09:02:31.864084Z",
     "shell.execute_reply": "2025-05-15T09:02:31.863529Z"
    },
    "papermill": {
     "duration": 0.186678,
     "end_time": "2025-05-15T09:02:31.865307",
     "exception": false,
     "start_time": "2025-05-15T09:02:31.678629",
     "status": "completed"
    },
    "tags": []
   },
   "outputs": [],
   "source": [
    "from kaggle_secrets import UserSecretsClient\n",
    "user_secrets = UserSecretsClient()\n",
    "huggingfacetoken = user_secrets.get_secret(\"huggingface\")\n",
    "\n",
    "from huggingface_hub.hf_api import HfFolder\n",
    "HfFolder.save_token(huggingfacetoken)"
   ]
  },
  {
   "cell_type": "markdown",
   "id": "a4879add",
   "metadata": {
    "papermill": {
     "duration": 0.012632,
     "end_time": "2025-05-15T09:02:31.890922",
     "exception": false,
     "start_time": "2025-05-15T09:02:31.878290",
     "status": "completed"
    },
    "tags": []
   },
   "source": [
    "Depending on whether multiple GPU are availaible model_llm can be instance of DataParallel which can cause issue while saving and loading model, hence sorting the issue."
   ]
  },
  {
   "cell_type": "code",
   "execution_count": 31,
   "id": "2d2c437d",
   "metadata": {
    "execution": {
     "iopub.execute_input": "2025-05-15T09:02:31.919149Z",
     "iopub.status.busy": "2025-05-15T09:02:31.918928Z",
     "iopub.status.idle": "2025-05-15T09:02:31.922252Z",
     "shell.execute_reply": "2025-05-15T09:02:31.921725Z"
    },
    "papermill": {
     "duration": 0.017879,
     "end_time": "2025-05-15T09:02:31.923308",
     "exception": false,
     "start_time": "2025-05-15T09:02:31.905429",
     "status": "completed"
    },
    "tags": []
   },
   "outputs": [],
   "source": [
    "from torch.nn.parallel.data_parallel import DataParallel\n",
    "if isinstance(model_llm, DataParallel):\n",
    "    print(\"model is instance of DataParallel, changing the class\")\n",
    "    model_llm = model_llm.module"
   ]
  },
  {
   "cell_type": "code",
   "execution_count": 32,
   "id": "a65ec14d",
   "metadata": {
    "execution": {
     "iopub.execute_input": "2025-05-15T09:02:31.951752Z",
     "iopub.status.busy": "2025-05-15T09:02:31.951560Z",
     "iopub.status.idle": "2025-05-15T09:02:59.987654Z",
     "shell.execute_reply": "2025-05-15T09:02:59.986990Z"
    },
    "papermill": {
     "duration": 28.050948,
     "end_time": "2025-05-15T09:02:59.988878",
     "exception": false,
     "start_time": "2025-05-15T09:02:31.937930",
     "status": "completed"
    },
    "tags": []
   },
   "outputs": [
    {
     "data": {
      "application/vnd.jupyter.widget-view+json": {
       "model_id": "5bd981f414fc464e9b447ceeee942b8a",
       "version_major": 2,
       "version_minor": 0
      },
      "text/plain": [
       "model.safetensors:   0%|          | 0.00/702M [00:00<?, ?B/s]"
      ]
     },
     "metadata": {},
     "output_type": "display_data"
    },
    {
     "data": {
      "text/plain": [
       "CommitInfo(commit_url='https://huggingface.co/pankajr141/llm_bhasa_v1/commit/120c404d9ddd3b8b21c81935ce0a1a843a5069ed', commit_message='Push model using huggingface_hub.', commit_description='', oid='120c404d9ddd3b8b21c81935ce0a1a843a5069ed', pr_url=None, repo_url=RepoUrl('https://huggingface.co/pankajr141/llm_bhasa_v1', endpoint='https://huggingface.co', repo_type='model', repo_id='pankajr141/llm_bhasa_v1'), pr_revision=None, pr_num=None)"
      ]
     },
     "execution_count": 32,
     "metadata": {},
     "output_type": "execute_result"
    }
   ],
   "source": [
    "# save locally\n",
    "model_llm.save_pretrained(modelname)\n",
    "\n",
    "# push to the hub\n",
    "model_llm.push_to_hub(repo_url)\n",
    "\n",
    "# Load from hugging face\n",
    "# model_llm = model.LLMModel.from_pretrained(repo_url)"
   ]
  }
 ],
 "metadata": {
  "kaggle": {
   "accelerator": "gpu",
   "dataSources": [
    {
     "sourceId": 239328575,
     "sourceType": "kernelVersion"
    }
   ],
   "dockerImageVersionId": 31012,
   "isGpuEnabled": true,
   "isInternetEnabled": true,
   "language": "python",
   "sourceType": "notebook"
  },
  "kernelspec": {
   "display_name": "Python 3",
   "language": "python",
   "name": "python3"
  },
  "language_info": {
   "codemirror_mode": {
    "name": "ipython",
    "version": 3
   },
   "file_extension": ".py",
   "mimetype": "text/x-python",
   "name": "python",
   "nbconvert_exporter": "python",
   "pygments_lexer": "ipython3",
   "version": "3.11.11"
  },
  "papermill": {
   "default_parameters": {},
   "duration": 26644.828831,
   "end_time": "2025-05-15T09:03:02.876763",
   "environment_variables": {},
   "exception": null,
   "input_path": "__notebook__.ipynb",
   "output_path": "__notebook__.ipynb",
   "parameters": {},
   "start_time": "2025-05-15T01:38:58.047932",
   "version": "2.6.0"
  },
  "widgets": {
   "application/vnd.jupyter.widget-state+json": {
    "state": {
     "016aafc37a49497d80e9009f3be4210b": {
      "model_module": "@jupyter-widgets/controls",
      "model_module_version": "2.0.0",
      "model_name": "HTMLStyleModel",
      "state": {
       "_model_module": "@jupyter-widgets/controls",
       "_model_module_version": "2.0.0",
       "_model_name": "HTMLStyleModel",
       "_view_count": null,
       "_view_module": "@jupyter-widgets/base",
       "_view_module_version": "2.0.0",
       "_view_name": "StyleView",
       "background": null,
       "description_width": "",
       "font_size": null,
       "text_color": null
      }
     },
     "0924599f56504211afbd6229ca7262d4": {
      "model_module": "@jupyter-widgets/base",
      "model_module_version": "2.0.0",
      "model_name": "LayoutModel",
      "state": {
       "_model_module": "@jupyter-widgets/base",
       "_model_module_version": "2.0.0",
       "_model_name": "LayoutModel",
       "_view_count": null,
       "_view_module": "@jupyter-widgets/base",
       "_view_module_version": "2.0.0",
       "_view_name": "LayoutView",
       "align_content": null,
       "align_items": null,
       "align_self": null,
       "border_bottom": null,
       "border_left": null,
       "border_right": null,
       "border_top": null,
       "bottom": null,
       "display": null,
       "flex": null,
       "flex_flow": null,
       "grid_area": null,
       "grid_auto_columns": null,
       "grid_auto_flow": null,
       "grid_auto_rows": null,
       "grid_column": null,
       "grid_gap": null,
       "grid_row": null,
       "grid_template_areas": null,
       "grid_template_columns": null,
       "grid_template_rows": null,
       "height": null,
       "justify_content": null,
       "justify_items": null,
       "left": null,
       "margin": null,
       "max_height": null,
       "max_width": null,
       "min_height": null,
       "min_width": null,
       "object_fit": null,
       "object_position": null,
       "order": null,
       "overflow": null,
       "padding": null,
       "right": null,
       "top": null,
       "visibility": null,
       "width": null
      }
     },
     "37a4e459159e416f8cf8d00cf6e9b259": {
      "model_module": "@jupyter-widgets/controls",
      "model_module_version": "2.0.0",
      "model_name": "HBoxModel",
      "state": {
       "_dom_classes": [],
       "_model_module": "@jupyter-widgets/controls",
       "_model_module_version": "2.0.0",
       "_model_name": "HBoxModel",
       "_view_count": null,
       "_view_module": "@jupyter-widgets/controls",
       "_view_module_version": "2.0.0",
       "_view_name": "HBoxView",
       "box_style": "",
       "children": [
        "IPY_MODEL_e8bcd49ad98e4522bcfdce56e379de7c",
        "IPY_MODEL_8798ec06af5c4beb886e676d7623effd",
        "IPY_MODEL_f4d5bdb1ec8b46479b5197ad67793af0"
       ],
       "layout": "IPY_MODEL_b21c1b7caac14a1ea5b82c3127eddd16",
       "tabbable": null,
       "tooltip": null
      }
     },
     "3a06f5a0ae1f4400abe1fa252c1b10c1": {
      "model_module": "@jupyter-widgets/controls",
      "model_module_version": "2.0.0",
      "model_name": "HTMLStyleModel",
      "state": {
       "_model_module": "@jupyter-widgets/controls",
       "_model_module_version": "2.0.0",
       "_model_name": "HTMLStyleModel",
       "_view_count": null,
       "_view_module": "@jupyter-widgets/base",
       "_view_module_version": "2.0.0",
       "_view_name": "StyleView",
       "background": null,
       "description_width": "",
       "font_size": null,
       "text_color": null
      }
     },
     "3cc4714dc2d84e3f8b8aef86dd9a797c": {
      "model_module": "@jupyter-widgets/base",
      "model_module_version": "2.0.0",
      "model_name": "LayoutModel",
      "state": {
       "_model_module": "@jupyter-widgets/base",
       "_model_module_version": "2.0.0",
       "_model_name": "LayoutModel",
       "_view_count": null,
       "_view_module": "@jupyter-widgets/base",
       "_view_module_version": "2.0.0",
       "_view_name": "LayoutView",
       "align_content": null,
       "align_items": null,
       "align_self": null,
       "border_bottom": null,
       "border_left": null,
       "border_right": null,
       "border_top": null,
       "bottom": null,
       "display": null,
       "flex": null,
       "flex_flow": null,
       "grid_area": null,
       "grid_auto_columns": null,
       "grid_auto_flow": null,
       "grid_auto_rows": null,
       "grid_column": null,
       "grid_gap": null,
       "grid_row": null,
       "grid_template_areas": null,
       "grid_template_columns": null,
       "grid_template_rows": null,
       "height": null,
       "justify_content": null,
       "justify_items": null,
       "left": null,
       "margin": null,
       "max_height": null,
       "max_width": null,
       "min_height": null,
       "min_width": null,
       "object_fit": null,
       "object_position": null,
       "order": null,
       "overflow": null,
       "padding": null,
       "right": null,
       "top": null,
       "visibility": null,
       "width": null
      }
     },
     "3fcdca4056c644deb22760ff942dc166": {
      "model_module": "@jupyter-widgets/controls",
      "model_module_version": "2.0.0",
      "model_name": "FloatProgressModel",
      "state": {
       "_dom_classes": [],
       "_model_module": "@jupyter-widgets/controls",
       "_model_module_version": "2.0.0",
       "_model_name": "FloatProgressModel",
       "_view_count": null,
       "_view_module": "@jupyter-widgets/controls",
       "_view_module_version": "2.0.0",
       "_view_name": "ProgressView",
       "bar_style": "success",
       "description": "",
       "description_allow_html": false,
       "layout": "IPY_MODEL_3cc4714dc2d84e3f8b8aef86dd9a797c",
       "max": 702387080.0,
       "min": 0.0,
       "orientation": "horizontal",
       "style": "IPY_MODEL_e3397a214b12452ea3477f18f00ddf08",
       "tabbable": null,
       "tooltip": null,
       "value": 702387080.0
      }
     },
     "40ad36aa685946d385337b364542e772": {
      "model_module": "@jupyter-widgets/base",
      "model_module_version": "2.0.0",
      "model_name": "LayoutModel",
      "state": {
       "_model_module": "@jupyter-widgets/base",
       "_model_module_version": "2.0.0",
       "_model_name": "LayoutModel",
       "_view_count": null,
       "_view_module": "@jupyter-widgets/base",
       "_view_module_version": "2.0.0",
       "_view_name": "LayoutView",
       "align_content": null,
       "align_items": null,
       "align_self": null,
       "border_bottom": null,
       "border_left": null,
       "border_right": null,
       "border_top": null,
       "bottom": null,
       "display": null,
       "flex": null,
       "flex_flow": null,
       "grid_area": null,
       "grid_auto_columns": null,
       "grid_auto_flow": null,
       "grid_auto_rows": null,
       "grid_column": null,
       "grid_gap": null,
       "grid_row": null,
       "grid_template_areas": null,
       "grid_template_columns": null,
       "grid_template_rows": null,
       "height": null,
       "justify_content": null,
       "justify_items": null,
       "left": null,
       "margin": null,
       "max_height": null,
       "max_width": null,
       "min_height": null,
       "min_width": null,
       "object_fit": null,
       "object_position": null,
       "order": null,
       "overflow": null,
       "padding": null,
       "right": null,
       "top": null,
       "visibility": null,
       "width": null
      }
     },
     "4990673983d94efb9ed1b5f40fe2ef75": {
      "model_module": "@jupyter-widgets/controls",
      "model_module_version": "2.0.0",
      "model_name": "HTMLStyleModel",
      "state": {
       "_model_module": "@jupyter-widgets/controls",
       "_model_module_version": "2.0.0",
       "_model_name": "HTMLStyleModel",
       "_view_count": null,
       "_view_module": "@jupyter-widgets/base",
       "_view_module_version": "2.0.0",
       "_view_name": "StyleView",
       "background": null,
       "description_width": "",
       "font_size": null,
       "text_color": null
      }
     },
     "4b48a3fddbfc4ea3b94f13ecea04bce3": {
      "model_module": "@jupyter-widgets/base",
      "model_module_version": "2.0.0",
      "model_name": "LayoutModel",
      "state": {
       "_model_module": "@jupyter-widgets/base",
       "_model_module_version": "2.0.0",
       "_model_name": "LayoutModel",
       "_view_count": null,
       "_view_module": "@jupyter-widgets/base",
       "_view_module_version": "2.0.0",
       "_view_name": "LayoutView",
       "align_content": null,
       "align_items": null,
       "align_self": null,
       "border_bottom": null,
       "border_left": null,
       "border_right": null,
       "border_top": null,
       "bottom": null,
       "display": null,
       "flex": null,
       "flex_flow": null,
       "grid_area": null,
       "grid_auto_columns": null,
       "grid_auto_flow": null,
       "grid_auto_rows": null,
       "grid_column": null,
       "grid_gap": null,
       "grid_row": null,
       "grid_template_areas": null,
       "grid_template_columns": null,
       "grid_template_rows": null,
       "height": null,
       "justify_content": null,
       "justify_items": null,
       "left": null,
       "margin": null,
       "max_height": null,
       "max_width": null,
       "min_height": null,
       "min_width": null,
       "object_fit": null,
       "object_position": null,
       "order": null,
       "overflow": null,
       "padding": null,
       "right": null,
       "top": null,
       "visibility": null,
       "width": null
      }
     },
     "50c34fba749a409f86ac79405bbfaac1": {
      "model_module": "@jupyter-widgets/base",
      "model_module_version": "2.0.0",
      "model_name": "LayoutModel",
      "state": {
       "_model_module": "@jupyter-widgets/base",
       "_model_module_version": "2.0.0",
       "_model_name": "LayoutModel",
       "_view_count": null,
       "_view_module": "@jupyter-widgets/base",
       "_view_module_version": "2.0.0",
       "_view_name": "LayoutView",
       "align_content": null,
       "align_items": null,
       "align_self": null,
       "border_bottom": null,
       "border_left": null,
       "border_right": null,
       "border_top": null,
       "bottom": null,
       "display": null,
       "flex": null,
       "flex_flow": null,
       "grid_area": null,
       "grid_auto_columns": null,
       "grid_auto_flow": null,
       "grid_auto_rows": null,
       "grid_column": null,
       "grid_gap": null,
       "grid_row": null,
       "grid_template_areas": null,
       "grid_template_columns": null,
       "grid_template_rows": null,
       "height": null,
       "justify_content": null,
       "justify_items": null,
       "left": null,
       "margin": null,
       "max_height": null,
       "max_width": null,
       "min_height": null,
       "min_width": null,
       "object_fit": null,
       "object_position": null,
       "order": null,
       "overflow": null,
       "padding": null,
       "right": null,
       "top": null,
       "visibility": null,
       "width": null
      }
     },
     "5a84d1a8aabd4e68b1aeeb091fc49192": {
      "model_module": "@jupyter-widgets/controls",
      "model_module_version": "2.0.0",
      "model_name": "HTMLStyleModel",
      "state": {
       "_model_module": "@jupyter-widgets/controls",
       "_model_module_version": "2.0.0",
       "_model_name": "HTMLStyleModel",
       "_view_count": null,
       "_view_module": "@jupyter-widgets/base",
       "_view_module_version": "2.0.0",
       "_view_name": "StyleView",
       "background": null,
       "description_width": "",
       "font_size": null,
       "text_color": null
      }
     },
     "5bd981f414fc464e9b447ceeee942b8a": {
      "model_module": "@jupyter-widgets/controls",
      "model_module_version": "2.0.0",
      "model_name": "HBoxModel",
      "state": {
       "_dom_classes": [],
       "_model_module": "@jupyter-widgets/controls",
       "_model_module_version": "2.0.0",
       "_model_name": "HBoxModel",
       "_view_count": null,
       "_view_module": "@jupyter-widgets/controls",
       "_view_module_version": "2.0.0",
       "_view_name": "HBoxView",
       "box_style": "",
       "children": [
        "IPY_MODEL_735814ad41444ebeb1e2cf7051fee3ff",
        "IPY_MODEL_3fcdca4056c644deb22760ff942dc166",
        "IPY_MODEL_c7cc0f1b02954910b1f204ddc2c63116"
       ],
       "layout": "IPY_MODEL_0924599f56504211afbd6229ca7262d4",
       "tabbable": null,
       "tooltip": null
      }
     },
     "602068a57c0f4c1cac40c01e6978e299": {
      "model_module": "@jupyter-widgets/controls",
      "model_module_version": "2.0.0",
      "model_name": "HTMLStyleModel",
      "state": {
       "_model_module": "@jupyter-widgets/controls",
       "_model_module_version": "2.0.0",
       "_model_name": "HTMLStyleModel",
       "_view_count": null,
       "_view_module": "@jupyter-widgets/base",
       "_view_module_version": "2.0.0",
       "_view_name": "StyleView",
       "background": null,
       "description_width": "",
       "font_size": null,
       "text_color": null
      }
     },
     "6a35aaa2f16a403db2122cd64a5a8868": {
      "model_module": "@jupyter-widgets/controls",
      "model_module_version": "2.0.0",
      "model_name": "HTMLModel",
      "state": {
       "_dom_classes": [],
       "_model_module": "@jupyter-widgets/controls",
       "_model_module_version": "2.0.0",
       "_model_name": "HTMLModel",
       "_view_count": null,
       "_view_module": "@jupyter-widgets/controls",
       "_view_module_version": "2.0.0",
       "_view_name": "HTMLView",
       "description": "",
       "description_allow_html": false,
       "layout": "IPY_MODEL_968d4c105c2449868ebb4345796554a6",
       "placeholder": "​",
       "style": "IPY_MODEL_4990673983d94efb9ed1b5f40fe2ef75",
       "tabbable": null,
       "tooltip": null,
       "value": " 174/174 [00:00&lt;00:00, 20.2kB/s]"
      }
     },
     "707150639bdf42d6ab9bc21666cd5e98": {
      "model_module": "@jupyter-widgets/controls",
      "model_module_version": "2.0.0",
      "model_name": "HTMLModel",
      "state": {
       "_dom_classes": [],
       "_model_module": "@jupyter-widgets/controls",
       "_model_module_version": "2.0.0",
       "_model_name": "HTMLModel",
       "_view_count": null,
       "_view_module": "@jupyter-widgets/controls",
       "_view_module_version": "2.0.0",
       "_view_name": "HTMLView",
       "description": "",
       "description_allow_html": false,
       "layout": "IPY_MODEL_8d1301b9a484400f896c66b960216a69",
       "placeholder": "​",
       "style": "IPY_MODEL_016aafc37a49497d80e9009f3be4210b",
       "tabbable": null,
       "tooltip": null,
       "value": "config.json: 100%"
      }
     },
     "735814ad41444ebeb1e2cf7051fee3ff": {
      "model_module": "@jupyter-widgets/controls",
      "model_module_version": "2.0.0",
      "model_name": "HTMLModel",
      "state": {
       "_dom_classes": [],
       "_model_module": "@jupyter-widgets/controls",
       "_model_module_version": "2.0.0",
       "_model_name": "HTMLModel",
       "_view_count": null,
       "_view_module": "@jupyter-widgets/controls",
       "_view_module_version": "2.0.0",
       "_view_name": "HTMLView",
       "description": "",
       "description_allow_html": false,
       "layout": "IPY_MODEL_40ad36aa685946d385337b364542e772",
       "placeholder": "​",
       "style": "IPY_MODEL_5a84d1a8aabd4e68b1aeeb091fc49192",
       "tabbable": null,
       "tooltip": null,
       "value": "model.safetensors: 100%"
      }
     },
     "75fdab515dd04bd3a0bd27f808464bb8": {
      "model_module": "@jupyter-widgets/base",
      "model_module_version": "2.0.0",
      "model_name": "LayoutModel",
      "state": {
       "_model_module": "@jupyter-widgets/base",
       "_model_module_version": "2.0.0",
       "_model_name": "LayoutModel",
       "_view_count": null,
       "_view_module": "@jupyter-widgets/base",
       "_view_module_version": "2.0.0",
       "_view_name": "LayoutView",
       "align_content": null,
       "align_items": null,
       "align_self": null,
       "border_bottom": null,
       "border_left": null,
       "border_right": null,
       "border_top": null,
       "bottom": null,
       "display": null,
       "flex": null,
       "flex_flow": null,
       "grid_area": null,
       "grid_auto_columns": null,
       "grid_auto_flow": null,
       "grid_auto_rows": null,
       "grid_column": null,
       "grid_gap": null,
       "grid_row": null,
       "grid_template_areas": null,
       "grid_template_columns": null,
       "grid_template_rows": null,
       "height": null,
       "justify_content": null,
       "justify_items": null,
       "left": null,
       "margin": null,
       "max_height": null,
       "max_width": null,
       "min_height": null,
       "min_width": null,
       "object_fit": null,
       "object_position": null,
       "order": null,
       "overflow": null,
       "padding": null,
       "right": null,
       "top": null,
       "visibility": null,
       "width": null
      }
     },
     "79f68309da2740248418b95d1316bab3": {
      "model_module": "@jupyter-widgets/controls",
      "model_module_version": "2.0.0",
      "model_name": "ProgressStyleModel",
      "state": {
       "_model_module": "@jupyter-widgets/controls",
       "_model_module_version": "2.0.0",
       "_model_name": "ProgressStyleModel",
       "_view_count": null,
       "_view_module": "@jupyter-widgets/base",
       "_view_module_version": "2.0.0",
       "_view_name": "StyleView",
       "bar_color": null,
       "description_width": ""
      }
     },
     "7e88fe854b3a457cbf248d030fc0d8e1": {
      "model_module": "@jupyter-widgets/controls",
      "model_module_version": "2.0.0",
      "model_name": "ProgressStyleModel",
      "state": {
       "_model_module": "@jupyter-widgets/controls",
       "_model_module_version": "2.0.0",
       "_model_name": "ProgressStyleModel",
       "_view_count": null,
       "_view_module": "@jupyter-widgets/base",
       "_view_module_version": "2.0.0",
       "_view_name": "StyleView",
       "bar_color": null,
       "description_width": ""
      }
     },
     "8798ec06af5c4beb886e676d7623effd": {
      "model_module": "@jupyter-widgets/controls",
      "model_module_version": "2.0.0",
      "model_name": "FloatProgressModel",
      "state": {
       "_dom_classes": [],
       "_model_module": "@jupyter-widgets/controls",
       "_model_module_version": "2.0.0",
       "_model_name": "FloatProgressModel",
       "_view_count": null,
       "_view_module": "@jupyter-widgets/controls",
       "_view_module_version": "2.0.0",
       "_view_name": "ProgressView",
       "bar_style": "success",
       "description": "",
       "description_allow_html": false,
       "layout": "IPY_MODEL_c996bf14ae7f4432a3f5185185f3c54c",
       "max": 702387080.0,
       "min": 0.0,
       "orientation": "horizontal",
       "style": "IPY_MODEL_79f68309da2740248418b95d1316bab3",
       "tabbable": null,
       "tooltip": null,
       "value": 702387080.0
      }
     },
     "8d1301b9a484400f896c66b960216a69": {
      "model_module": "@jupyter-widgets/base",
      "model_module_version": "2.0.0",
      "model_name": "LayoutModel",
      "state": {
       "_model_module": "@jupyter-widgets/base",
       "_model_module_version": "2.0.0",
       "_model_name": "LayoutModel",
       "_view_count": null,
       "_view_module": "@jupyter-widgets/base",
       "_view_module_version": "2.0.0",
       "_view_name": "LayoutView",
       "align_content": null,
       "align_items": null,
       "align_self": null,
       "border_bottom": null,
       "border_left": null,
       "border_right": null,
       "border_top": null,
       "bottom": null,
       "display": null,
       "flex": null,
       "flex_flow": null,
       "grid_area": null,
       "grid_auto_columns": null,
       "grid_auto_flow": null,
       "grid_auto_rows": null,
       "grid_column": null,
       "grid_gap": null,
       "grid_row": null,
       "grid_template_areas": null,
       "grid_template_columns": null,
       "grid_template_rows": null,
       "height": null,
       "justify_content": null,
       "justify_items": null,
       "left": null,
       "margin": null,
       "max_height": null,
       "max_width": null,
       "min_height": null,
       "min_width": null,
       "object_fit": null,
       "object_position": null,
       "order": null,
       "overflow": null,
       "padding": null,
       "right": null,
       "top": null,
       "visibility": null,
       "width": null
      }
     },
     "968d4c105c2449868ebb4345796554a6": {
      "model_module": "@jupyter-widgets/base",
      "model_module_version": "2.0.0",
      "model_name": "LayoutModel",
      "state": {
       "_model_module": "@jupyter-widgets/base",
       "_model_module_version": "2.0.0",
       "_model_name": "LayoutModel",
       "_view_count": null,
       "_view_module": "@jupyter-widgets/base",
       "_view_module_version": "2.0.0",
       "_view_name": "LayoutView",
       "align_content": null,
       "align_items": null,
       "align_self": null,
       "border_bottom": null,
       "border_left": null,
       "border_right": null,
       "border_top": null,
       "bottom": null,
       "display": null,
       "flex": null,
       "flex_flow": null,
       "grid_area": null,
       "grid_auto_columns": null,
       "grid_auto_flow": null,
       "grid_auto_rows": null,
       "grid_column": null,
       "grid_gap": null,
       "grid_row": null,
       "grid_template_areas": null,
       "grid_template_columns": null,
       "grid_template_rows": null,
       "height": null,
       "justify_content": null,
       "justify_items": null,
       "left": null,
       "margin": null,
       "max_height": null,
       "max_width": null,
       "min_height": null,
       "min_width": null,
       "object_fit": null,
       "object_position": null,
       "order": null,
       "overflow": null,
       "padding": null,
       "right": null,
       "top": null,
       "visibility": null,
       "width": null
      }
     },
     "9a6044332ed14cd6a05e91f851655170": {
      "model_module": "@jupyter-widgets/controls",
      "model_module_version": "2.0.0",
      "model_name": "FloatProgressModel",
      "state": {
       "_dom_classes": [],
       "_model_module": "@jupyter-widgets/controls",
       "_model_module_version": "2.0.0",
       "_model_name": "FloatProgressModel",
       "_view_count": null,
       "_view_module": "@jupyter-widgets/controls",
       "_view_module_version": "2.0.0",
       "_view_name": "ProgressView",
       "bar_style": "success",
       "description": "",
       "description_allow_html": false,
       "layout": "IPY_MODEL_50c34fba749a409f86ac79405bbfaac1",
       "max": 174.0,
       "min": 0.0,
       "orientation": "horizontal",
       "style": "IPY_MODEL_7e88fe854b3a457cbf248d030fc0d8e1",
       "tabbable": null,
       "tooltip": null,
       "value": 174.0
      }
     },
     "b21c1b7caac14a1ea5b82c3127eddd16": {
      "model_module": "@jupyter-widgets/base",
      "model_module_version": "2.0.0",
      "model_name": "LayoutModel",
      "state": {
       "_model_module": "@jupyter-widgets/base",
       "_model_module_version": "2.0.0",
       "_model_name": "LayoutModel",
       "_view_count": null,
       "_view_module": "@jupyter-widgets/base",
       "_view_module_version": "2.0.0",
       "_view_name": "LayoutView",
       "align_content": null,
       "align_items": null,
       "align_self": null,
       "border_bottom": null,
       "border_left": null,
       "border_right": null,
       "border_top": null,
       "bottom": null,
       "display": null,
       "flex": null,
       "flex_flow": null,
       "grid_area": null,
       "grid_auto_columns": null,
       "grid_auto_flow": null,
       "grid_auto_rows": null,
       "grid_column": null,
       "grid_gap": null,
       "grid_row": null,
       "grid_template_areas": null,
       "grid_template_columns": null,
       "grid_template_rows": null,
       "height": null,
       "justify_content": null,
       "justify_items": null,
       "left": null,
       "margin": null,
       "max_height": null,
       "max_width": null,
       "min_height": null,
       "min_width": null,
       "object_fit": null,
       "object_position": null,
       "order": null,
       "overflow": null,
       "padding": null,
       "right": null,
       "top": null,
       "visibility": null,
       "width": null
      }
     },
     "c5c6d2984225402db8741d820907175b": {
      "model_module": "@jupyter-widgets/controls",
      "model_module_version": "2.0.0",
      "model_name": "HBoxModel",
      "state": {
       "_dom_classes": [],
       "_model_module": "@jupyter-widgets/controls",
       "_model_module_version": "2.0.0",
       "_model_name": "HBoxModel",
       "_view_count": null,
       "_view_module": "@jupyter-widgets/controls",
       "_view_module_version": "2.0.0",
       "_view_name": "HBoxView",
       "box_style": "",
       "children": [
        "IPY_MODEL_707150639bdf42d6ab9bc21666cd5e98",
        "IPY_MODEL_9a6044332ed14cd6a05e91f851655170",
        "IPY_MODEL_6a35aaa2f16a403db2122cd64a5a8868"
       ],
       "layout": "IPY_MODEL_cbe67c4c52944f048b96f5f697ed9c93",
       "tabbable": null,
       "tooltip": null
      }
     },
     "c7cc0f1b02954910b1f204ddc2c63116": {
      "model_module": "@jupyter-widgets/controls",
      "model_module_version": "2.0.0",
      "model_name": "HTMLModel",
      "state": {
       "_dom_classes": [],
       "_model_module": "@jupyter-widgets/controls",
       "_model_module_version": "2.0.0",
       "_model_name": "HTMLModel",
       "_view_count": null,
       "_view_module": "@jupyter-widgets/controls",
       "_view_module_version": "2.0.0",
       "_view_name": "HTMLView",
       "description": "",
       "description_allow_html": false,
       "layout": "IPY_MODEL_4b48a3fddbfc4ea3b94f13ecea04bce3",
       "placeholder": "​",
       "style": "IPY_MODEL_3a06f5a0ae1f4400abe1fa252c1b10c1",
       "tabbable": null,
       "tooltip": null,
       "value": " 702M/702M [00:20&lt;00:00, 38.2MB/s]"
      }
     },
     "c996bf14ae7f4432a3f5185185f3c54c": {
      "model_module": "@jupyter-widgets/base",
      "model_module_version": "2.0.0",
      "model_name": "LayoutModel",
      "state": {
       "_model_module": "@jupyter-widgets/base",
       "_model_module_version": "2.0.0",
       "_model_name": "LayoutModel",
       "_view_count": null,
       "_view_module": "@jupyter-widgets/base",
       "_view_module_version": "2.0.0",
       "_view_name": "LayoutView",
       "align_content": null,
       "align_items": null,
       "align_self": null,
       "border_bottom": null,
       "border_left": null,
       "border_right": null,
       "border_top": null,
       "bottom": null,
       "display": null,
       "flex": null,
       "flex_flow": null,
       "grid_area": null,
       "grid_auto_columns": null,
       "grid_auto_flow": null,
       "grid_auto_rows": null,
       "grid_column": null,
       "grid_gap": null,
       "grid_row": null,
       "grid_template_areas": null,
       "grid_template_columns": null,
       "grid_template_rows": null,
       "height": null,
       "justify_content": null,
       "justify_items": null,
       "left": null,
       "margin": null,
       "max_height": null,
       "max_width": null,
       "min_height": null,
       "min_width": null,
       "object_fit": null,
       "object_position": null,
       "order": null,
       "overflow": null,
       "padding": null,
       "right": null,
       "top": null,
       "visibility": null,
       "width": null
      }
     },
     "cbe67c4c52944f048b96f5f697ed9c93": {
      "model_module": "@jupyter-widgets/base",
      "model_module_version": "2.0.0",
      "model_name": "LayoutModel",
      "state": {
       "_model_module": "@jupyter-widgets/base",
       "_model_module_version": "2.0.0",
       "_model_name": "LayoutModel",
       "_view_count": null,
       "_view_module": "@jupyter-widgets/base",
       "_view_module_version": "2.0.0",
       "_view_name": "LayoutView",
       "align_content": null,
       "align_items": null,
       "align_self": null,
       "border_bottom": null,
       "border_left": null,
       "border_right": null,
       "border_top": null,
       "bottom": null,
       "display": null,
       "flex": null,
       "flex_flow": null,
       "grid_area": null,
       "grid_auto_columns": null,
       "grid_auto_flow": null,
       "grid_auto_rows": null,
       "grid_column": null,
       "grid_gap": null,
       "grid_row": null,
       "grid_template_areas": null,
       "grid_template_columns": null,
       "grid_template_rows": null,
       "height": null,
       "justify_content": null,
       "justify_items": null,
       "left": null,
       "margin": null,
       "max_height": null,
       "max_width": null,
       "min_height": null,
       "min_width": null,
       "object_fit": null,
       "object_position": null,
       "order": null,
       "overflow": null,
       "padding": null,
       "right": null,
       "top": null,
       "visibility": null,
       "width": null
      }
     },
     "e063da4efc6045d3be01eb97a72ddd8b": {
      "model_module": "@jupyter-widgets/controls",
      "model_module_version": "2.0.0",
      "model_name": "HTMLStyleModel",
      "state": {
       "_model_module": "@jupyter-widgets/controls",
       "_model_module_version": "2.0.0",
       "_model_name": "HTMLStyleModel",
       "_view_count": null,
       "_view_module": "@jupyter-widgets/base",
       "_view_module_version": "2.0.0",
       "_view_name": "StyleView",
       "background": null,
       "description_width": "",
       "font_size": null,
       "text_color": null
      }
     },
     "e3397a214b12452ea3477f18f00ddf08": {
      "model_module": "@jupyter-widgets/controls",
      "model_module_version": "2.0.0",
      "model_name": "ProgressStyleModel",
      "state": {
       "_model_module": "@jupyter-widgets/controls",
       "_model_module_version": "2.0.0",
       "_model_name": "ProgressStyleModel",
       "_view_count": null,
       "_view_module": "@jupyter-widgets/base",
       "_view_module_version": "2.0.0",
       "_view_name": "StyleView",
       "bar_color": null,
       "description_width": ""
      }
     },
     "e8bcd49ad98e4522bcfdce56e379de7c": {
      "model_module": "@jupyter-widgets/controls",
      "model_module_version": "2.0.0",
      "model_name": "HTMLModel",
      "state": {
       "_dom_classes": [],
       "_model_module": "@jupyter-widgets/controls",
       "_model_module_version": "2.0.0",
       "_model_name": "HTMLModel",
       "_view_count": null,
       "_view_module": "@jupyter-widgets/controls",
       "_view_module_version": "2.0.0",
       "_view_name": "HTMLView",
       "description": "",
       "description_allow_html": false,
       "layout": "IPY_MODEL_ff20eee2869043dd9c02961a80fe65e3",
       "placeholder": "​",
       "style": "IPY_MODEL_602068a57c0f4c1cac40c01e6978e299",
       "tabbable": null,
       "tooltip": null,
       "value": "model.safetensors: 100%"
      }
     },
     "f4d5bdb1ec8b46479b5197ad67793af0": {
      "model_module": "@jupyter-widgets/controls",
      "model_module_version": "2.0.0",
      "model_name": "HTMLModel",
      "state": {
       "_dom_classes": [],
       "_model_module": "@jupyter-widgets/controls",
       "_model_module_version": "2.0.0",
       "_model_name": "HTMLModel",
       "_view_count": null,
       "_view_module": "@jupyter-widgets/controls",
       "_view_module_version": "2.0.0",
       "_view_name": "HTMLView",
       "description": "",
       "description_allow_html": false,
       "layout": "IPY_MODEL_75fdab515dd04bd3a0bd27f808464bb8",
       "placeholder": "​",
       "style": "IPY_MODEL_e063da4efc6045d3be01eb97a72ddd8b",
       "tabbable": null,
       "tooltip": null,
       "value": " 702M/702M [00:12&lt;00:00, 71.0MB/s]"
      }
     },
     "ff20eee2869043dd9c02961a80fe65e3": {
      "model_module": "@jupyter-widgets/base",
      "model_module_version": "2.0.0",
      "model_name": "LayoutModel",
      "state": {
       "_model_module": "@jupyter-widgets/base",
       "_model_module_version": "2.0.0",
       "_model_name": "LayoutModel",
       "_view_count": null,
       "_view_module": "@jupyter-widgets/base",
       "_view_module_version": "2.0.0",
       "_view_name": "LayoutView",
       "align_content": null,
       "align_items": null,
       "align_self": null,
       "border_bottom": null,
       "border_left": null,
       "border_right": null,
       "border_top": null,
       "bottom": null,
       "display": null,
       "flex": null,
       "flex_flow": null,
       "grid_area": null,
       "grid_auto_columns": null,
       "grid_auto_flow": null,
       "grid_auto_rows": null,
       "grid_column": null,
       "grid_gap": null,
       "grid_row": null,
       "grid_template_areas": null,
       "grid_template_columns": null,
       "grid_template_rows": null,
       "height": null,
       "justify_content": null,
       "justify_items": null,
       "left": null,
       "margin": null,
       "max_height": null,
       "max_width": null,
       "min_height": null,
       "min_width": null,
       "object_fit": null,
       "object_position": null,
       "order": null,
       "overflow": null,
       "padding": null,
       "right": null,
       "top": null,
       "visibility": null,
       "width": null
      }
     }
    },
    "version_major": 2,
    "version_minor": 0
   }
  }
 },
 "nbformat": 4,
 "nbformat_minor": 5
}
