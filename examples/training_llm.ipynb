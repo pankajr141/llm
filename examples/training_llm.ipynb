{
 "cells": [
  {
   "cell_type": "code",
   "execution_count": 1,
   "id": "a6a475b4",
   "metadata": {
    "_cell_guid": "b1076dfc-b9ad-4769-8c92-a6c4dae69d19",
    "_uuid": "8f2839f25d086af736a60e9eeb907d3b93b6e0e5",
    "execution": {
     "iopub.execute_input": "2025-05-15T09:23:24.700191Z",
     "iopub.status.busy": "2025-05-15T09:23:24.699925Z",
     "iopub.status.idle": "2025-05-15T09:23:27.184784Z",
     "shell.execute_reply": "2025-05-15T09:23:27.184061Z"
    },
    "papermill": {
     "duration": 2.493856,
     "end_time": "2025-05-15T09:23:27.186214",
     "exception": false,
     "start_time": "2025-05-15T09:23:24.692358",
     "status": "completed"
    },
    "tags": []
   },
   "outputs": [
    {
     "name": "stdout",
     "output_type": "stream",
     "text": [
      "Collecting llm_bhasa\r\n",
      "  Downloading llm_bhasa-0.5-py3-none-any.whl.metadata (953 bytes)\r\n",
      "Downloading llm_bhasa-0.5-py3-none-any.whl (19 kB)\r\n",
      "Installing collected packages: llm_bhasa\r\n",
      "Successfully installed llm_bhasa-0.5\r\n"
     ]
    }
   ],
   "source": [
    "!pip install --upgrade --no-dependencies llm_bhasa"
   ]
  },
  {
   "cell_type": "markdown",
   "id": "2e658fc5",
   "metadata": {
    "papermill": {
     "duration": 0.005535,
     "end_time": "2025-05-15T09:23:27.197861",
     "exception": false,
     "start_time": "2025-05-15T09:23:27.192326",
     "status": "completed"
    },
    "tags": []
   },
   "source": [
    "# LLM Training"
   ]
  },
  {
   "cell_type": "markdown",
   "id": "136a6801",
   "metadata": {
    "papermill": {
     "duration": 0.005436,
     "end_time": "2025-05-15T09:23:27.208763",
     "exception": false,
     "start_time": "2025-05-15T09:23:27.203327",
     "status": "completed"
    },
    "tags": []
   },
   "source": [
    "## Training - Direct through library"
   ]
  },
  {
   "cell_type": "code",
   "execution_count": 2,
   "id": "73fd8436",
   "metadata": {
    "execution": {
     "iopub.execute_input": "2025-05-15T09:23:27.220933Z",
     "iopub.status.busy": "2025-05-15T09:23:27.220670Z",
     "iopub.status.idle": "2025-05-15T09:23:33.015490Z",
     "shell.execute_reply": "2025-05-15T09:23:33.014656Z"
    },
    "papermill": {
     "duration": 5.802773,
     "end_time": "2025-05-15T09:23:33.016998",
     "exception": false,
     "start_time": "2025-05-15T09:23:27.214225",
     "status": "completed"
    },
    "tags": []
   },
   "outputs": [],
   "source": [
    "from llm_bhasa.harmony import training\n",
    "training.train?"
   ]
  },
  {
   "cell_type": "code",
   "execution_count": 3,
   "id": "41903d72",
   "metadata": {
    "execution": {
     "iopub.execute_input": "2025-05-15T09:23:33.029523Z",
     "iopub.status.busy": "2025-05-15T09:23:33.029009Z",
     "iopub.status.idle": "2025-05-15T09:30:15.958102Z",
     "shell.execute_reply": "2025-05-15T09:30:15.957350Z"
    },
    "papermill": {
     "duration": 402.936325,
     "end_time": "2025-05-15T09:30:15.959170",
     "exception": false,
     "start_time": "2025-05-15T09:23:33.022845",
     "status": "completed"
    },
    "tags": []
   },
   "outputs": [
    {
     "name": "stdout",
     "output_type": "stream",
     "text": [
      "Model cannot be loaded as model_and_optimizer.pth doesnt exist\n",
      "Device: cuda\n",
      "##============== Model Summary =========================##\n",
      "# Total number of parameters: 163,009,536\n",
      "# Token embedding layer shape: torch.Size([50257, 768])\n",
      "# Output layer shape: torch.Size([50257, 768])\n",
      "# Number of trainable parameters considering weight tying: 124,412,160\n",
      "# Total size of the model: 621.83 MB\n",
      "##======================================================##\n"
     ]
    },
    {
     "name": "stderr",
     "output_type": "stream",
     "text": [
      "Downloading gutenberg books: 100%|██████████| 3/3 [00:00<00:00,  4.41it/s, success=3, failure=0]\n"
     ]
    },
    {
     "name": "stdout",
     "output_type": "stream",
     "text": [
      "Total filepaths: len['the-verdict.txt', 'gutenberg_books/1342.txt', 'gutenberg_books/84.txt', 'gutenberg_books/1661.txt']\n",
      "Ep 1 (Step 000000): Train loss 11.946, Val loss 11.964\n",
      "Every effort moves you, and                                                \n",
      "Ep 2 (Step 000100): Train loss 7.194, Val loss 8.380\n",
      "Every effort moves you, and I am    ” ” ” ” ” ” ” ” ” ” ” ” ” ” \n",
      "Ep 3 (Step 000200): Train loss 6.590, Val loss 8.195\n",
      "Every effort moves you, and                                                \n",
      "Ep 4 (Step 000300): Train loss 6.071, Val loss 8.021\n",
      "Every effort moves you, and I am sure, and I am sure, and I am not                                   \n",
      "Ep 5 (Step 000400): Train loss 5.487, Val loss 7.952\n",
      "Every effort moves you, and I was a    ” “I have ” ” ” ” ” ” ” ” ” ” ” \n",
      "Ep 6 (Step 000500): Train loss 4.993, Val loss 7.984\n",
      "Every effort moves you  ” “I have been ” ” ” ” ” ” ” ” ” ” ” ” ” \n",
      "Ep 7 (Step 000600): Train loss 4.252, Val loss 7.967\n",
      "Every effort moves you   ” “I have you.” “I am not.” ” ”  ” ”   ”  “I have you.�\n",
      "Ep 8 (Step 000700): Train loss 3.715, Val loss 8.176\n",
      "Every effort moves you   “You may. I will you.” ”  ” ” “You. I will not to be. I have you.” ” ” ”\n",
      "Ep 9 (Step 000800): Train loss 3.085, Val loss 8.387\n",
      "Every effort moves you  “I cannot be “I should be so, that I will be “I am.“You may have no such as I amiable,” “I am sure I am not know that\n",
      "Ep 10 (Step 000900): Train loss 2.415, Val loss 8.637\n",
      "Every effort moves you have been in the trouble        “I will be so. I can, I was in the  ”  “I do you, I was in the “I do you?\n",
      "Model saved to model_and_optimizer.pth\n",
      "CPU times: user 5min 25s, sys: 1min 15s, total: 6min 40s\n",
      "Wall time: 6min 42s\n"
     ]
    },
    {
     "data": {
      "image/png": "[encoded data removed]",
      "text/plain": [
       "<Figure size 500x300 with 1 Axes>"
      ]
     },
     "metadata": {},
     "output_type": "display_data"
    }
   ],
   "source": [
    "%%time\n",
    "\n",
    "from llm_bhasa.harmony import training\n",
    "training.train(num_epochs=10, eval_freq=100)  # Print eval every 100 steps"
   ]
  },
  {
   "cell_type": "markdown",
   "id": "a09ce1de",
   "metadata": {
    "papermill": {
     "duration": 0.007198,
     "end_time": "2025-05-15T09:30:15.980684",
     "exception": false,
     "start_time": "2025-05-15T09:30:15.973486",
     "status": "completed"
    },
    "tags": []
   },
   "source": [
    "## Training - Lets break down\n",
    "\n",
    "Below we will break above single line function into building blocks to have more fine grain control"
   ]
  },
  {
   "cell_type": "code",
   "execution_count": 4,
   "id": "e501281e",
   "metadata": {
    "execution": {
     "iopub.execute_input": "2025-05-15T09:30:15.996953Z",
     "iopub.status.busy": "2025-05-15T09:30:15.996638Z",
     "iopub.status.idle": "2025-05-15T09:30:17.526312Z",
     "shell.execute_reply": "2025-05-15T09:30:17.525748Z"
    },
    "papermill": {
     "duration": 1.539625,
     "end_time": "2025-05-15T09:30:17.527696",
     "exception": false,
     "start_time": "2025-05-15T09:30:15.988071",
     "status": "completed"
    },
    "tags": []
   },
   "outputs": [],
   "source": [
    "import os\n",
    "import pandas as pd\n",
    "\n",
    "import torch\n",
    "import torch.nn as nn\n",
    "from llm_bhasa.harmony import config\n",
    "from llm_bhasa.harmony import model\n",
    "from llm_bhasa.harmony import training\n",
    "from llm_bhasa.harmony import data, dataset"
   ]
  },
  {
   "cell_type": "markdown",
   "id": "c4c154e9",
   "metadata": {
    "papermill": {
     "duration": 0.007295,
     "end_time": "2025-05-15T09:30:17.542976",
     "exception": false,
     "start_time": "2025-05-15T09:30:17.535681",
     "status": "completed"
    },
    "tags": []
   },
   "source": [
    "### Download data"
   ]
  },
  {
   "cell_type": "code",
   "execution_count": 5,
   "id": "4f68411e",
   "metadata": {
    "execution": {
     "iopub.execute_input": "2025-05-15T09:30:17.558543Z",
     "iopub.status.busy": "2025-05-15T09:30:17.558158Z",
     "iopub.status.idle": "2025-05-15T09:30:17.561586Z",
     "shell.execute_reply": "2025-05-15T09:30:17.561035Z"
    },
    "papermill": {
     "duration": 0.012425,
     "end_time": "2025-05-15T09:30:17.562567",
     "exception": false,
     "start_time": "2025-05-15T09:30:17.550142",
     "status": "completed"
    },
    "tags": []
   },
   "outputs": [],
   "source": [
    "gutenberg_book_ids = range(50000)"
   ]
  },
  {
   "cell_type": "markdown",
   "id": "1696e609",
   "metadata": {
    "papermill": {
     "duration": 0.007009,
     "end_time": "2025-05-15T09:30:17.576829",
     "exception": false,
     "start_time": "2025-05-15T09:30:17.569820",
     "status": "completed"
    },
    "tags": []
   },
   "source": [
    "#### Filter only availiable book_ids"
   ]
  },
  {
   "cell_type": "code",
   "execution_count": 6,
   "id": "91fe04f0",
   "metadata": {
    "execution": {
     "iopub.execute_input": "2025-05-15T09:30:17.591904Z",
     "iopub.status.busy": "2025-05-15T09:30:17.591702Z",
     "iopub.status.idle": "2025-05-15T09:30:17.880080Z",
     "shell.execute_reply": "2025-05-15T09:30:17.879219Z"
    },
    "papermill": {
     "duration": 0.297855,
     "end_time": "2025-05-15T09:30:17.881785",
     "exception": false,
     "start_time": "2025-05-15T09:30:17.583930",
     "status": "completed"
    },
    "tags": []
   },
   "outputs": [
    {
     "name": "stdout",
     "output_type": "stream",
     "text": [
      "Total book_ids after taking only available files: 47719\n"
     ]
    }
   ],
   "source": [
    "bookkeep_available_book_ids_file = \"/kaggle/input/download-gutenberg-book-dataset/guthenberg_bookkeeper.csv\"\n",
    "\n",
    "if os.path.exists(bookkeep_available_book_ids_file):\n",
    "    df_bookkeep = pd.read_csv(bookkeep_available_book_ids_file)\n",
    "    df_bookkeep = df_bookkeep[df_bookkeep['status'] == True]\n",
    "    gutenberg_book_ids = df_bookkeep['book_id'].tolist()\n",
    "\n",
    "print(f\"Total book_ids after taking only available files: {len(gutenberg_book_ids)}\")"
   ]
  },
  {
   "cell_type": "markdown",
   "id": "074f1d0d",
   "metadata": {
    "papermill": {
     "duration": 0.007048,
     "end_time": "2025-05-15T09:30:17.897121",
     "exception": false,
     "start_time": "2025-05-15T09:30:17.890073",
     "status": "completed"
    },
    "tags": []
   },
   "source": [
    "#### Filter processed book_ids"
   ]
  },
  {
   "cell_type": "code",
   "execution_count": 7,
   "id": "8302ca52",
   "metadata": {
    "execution": {
     "iopub.execute_input": "2025-05-15T09:30:17.956715Z",
     "iopub.status.busy": "2025-05-15T09:30:17.956483Z",
     "iopub.status.idle": "2025-05-15T09:30:17.961091Z",
     "shell.execute_reply": "2025-05-15T09:30:17.960553Z"
    },
    "papermill": {
     "duration": 0.057815,
     "end_time": "2025-05-15T09:30:17.962148",
     "exception": false,
     "start_time": "2025-05-15T09:30:17.904333",
     "status": "completed"
    },
    "tags": []
   },
   "outputs": [
    {
     "name": "stdout",
     "output_type": "stream",
     "text": [
      "Total book_ids after removing processed files: 47719\n"
     ]
    }
   ],
   "source": [
    "bookkeep_processed_book_ids_file = \"/kaggle/input/training-llm/guthenberg_bookkeeper.csv\"\n",
    "\n",
    "if os.path.exists(bookkeep_processed_book_ids_file):\n",
    "    df_bookkeep = pd.read_csv(bookkeep_processed_book_ids_file)\n",
    "\n",
    "    # Removing book_id which are already processed\n",
    "    gutenberg_book_ids = list(set(gutenberg_book_ids) - set(df_bookkeep['book_id'].tolist()))\n",
    "\n",
    "print(f\"Total book_ids after removing processed files: {len(gutenberg_book_ids)}\")"
   ]
  },
  {
   "cell_type": "markdown",
   "id": "3b625446",
   "metadata": {
    "papermill": {
     "duration": 0.007062,
     "end_time": "2025-05-15T09:30:17.976615",
     "exception": false,
     "start_time": "2025-05-15T09:30:17.969553",
     "status": "completed"
    },
    "tags": []
   },
   "source": [
    "#### Limit files to process\n",
    "\n",
    "Due to Kaggle time limitation we can only keep kernel alive for certain amount of time, so we will limit the number of books to be processed"
   ]
  },
  {
   "cell_type": "code",
   "execution_count": 8,
   "id": "20293513",
   "metadata": {
    "execution": {
     "iopub.execute_input": "2025-05-15T09:30:17.991870Z",
     "iopub.status.busy": "2025-05-15T09:30:17.991648Z",
     "iopub.status.idle": "2025-05-15T09:30:17.994869Z",
     "shell.execute_reply": "2025-05-15T09:30:17.994348Z"
    },
    "papermill": {
     "duration": 0.012059,
     "end_time": "2025-05-15T09:30:17.995881",
     "exception": false,
     "start_time": "2025-05-15T09:30:17.983822",
     "status": "completed"
    },
    "tags": []
   },
   "outputs": [],
   "source": [
    "limit = 1000\n",
    "# gutenberg_book_ids_train = gutenberg_book_ids[0: limit]\n",
    "gutenberg_book_ids_train = gutenberg_book_ids[2000: 2000 + limit]"
   ]
  },
  {
   "cell_type": "markdown",
   "id": "05ae62d5",
   "metadata": {
    "papermill": {
     "duration": 0.007085,
     "end_time": "2025-05-15T09:30:18.010441",
     "exception": false,
     "start_time": "2025-05-15T09:30:18.003356",
     "status": "completed"
    },
    "tags": []
   },
   "source": [
    "#### URL prepration"
   ]
  },
  {
   "cell_type": "code",
   "execution_count": 9,
   "id": "dde3e01d",
   "metadata": {
    "execution": {
     "iopub.execute_input": "2025-05-15T09:30:18.027176Z",
     "iopub.status.busy": "2025-05-15T09:30:18.026963Z",
     "iopub.status.idle": "2025-05-15T09:30:18.029657Z",
     "shell.execute_reply": "2025-05-15T09:30:18.029169Z"
    },
    "papermill": {
     "duration": 0.013131,
     "end_time": "2025-05-15T09:30:18.030728",
     "exception": false,
     "start_time": "2025-05-15T09:30:18.017597",
     "status": "completed"
    },
    "tags": []
   },
   "outputs": [],
   "source": [
    "# #comment/uncomment to download gutenberg directly from websites\n",
    "# filepaths = data.download_sample_text(gutenberg_book_ids=gutenberg_book_ids_train, verbose=False, njobs=4)\n",
    "# print(f\"Total Downloaded Books: {len(filepaths)}\")"
   ]
  },
  {
   "cell_type": "code",
   "execution_count": 10,
   "id": "0396ecd7",
   "metadata": {
    "execution": {
     "iopub.execute_input": "2025-05-15T09:30:18.046312Z",
     "iopub.status.busy": "2025-05-15T09:30:18.046122Z",
     "iopub.status.idle": "2025-05-15T09:30:18.050382Z",
     "shell.execute_reply": "2025-05-15T09:30:18.049821Z"
    },
    "papermill": {
     "duration": 0.013377,
     "end_time": "2025-05-15T09:30:18.051454",
     "exception": false,
     "start_time": "2025-05-15T09:30:18.038077",
     "status": "completed"
    },
    "tags": []
   },
   "outputs": [
    {
     "name": "stdout",
     "output_type": "stream",
     "text": [
      "Total Downloaded Books: 1000\n"
     ]
    }
   ],
   "source": [
    "# #comment/uncomment to generate URI, which will be downloaded later\n",
    "base_url = \"https://www.gutenberg.org/files/{}/{}-0.txt\"\n",
    "fileurls = [base_url.format(book_id, book_id) for book_id in gutenberg_book_ids_train]\n",
    "print(f\"Total Downloaded Books: {len(fileurls)}\")"
   ]
  },
  {
   "cell_type": "markdown",
   "id": "5407627b",
   "metadata": {
    "papermill": {
     "duration": 0.007197,
     "end_time": "2025-05-15T09:30:18.066092",
     "exception": false,
     "start_time": "2025-05-15T09:30:18.058895",
     "status": "completed"
    },
    "tags": []
   },
   "source": [
    "### Data Loaders"
   ]
  },
  {
   "cell_type": "code",
   "execution_count": 11,
   "id": "eed980d4",
   "metadata": {
    "execution": {
     "iopub.execute_input": "2025-05-15T09:30:18.081393Z",
     "iopub.status.busy": "2025-05-15T09:30:18.081192Z",
     "iopub.status.idle": "2025-05-15T09:30:18.084377Z",
     "shell.execute_reply": "2025-05-15T09:30:18.083723Z"
    },
    "papermill": {
     "duration": 0.012135,
     "end_time": "2025-05-15T09:30:18.085480",
     "exception": false,
     "start_time": "2025-05-15T09:30:18.073345",
     "status": "completed"
    },
    "tags": []
   },
   "outputs": [],
   "source": [
    "model_filepath = \"/kaggle/working/model_and_optimizer.pth\"\n",
    "config_train = config.GPT_CONFIG_124M\n",
    "context_len = config_train['context_length']"
   ]
  },
  {
   "cell_type": "code",
   "execution_count": 12,
   "id": "ceeb3602",
   "metadata": {
    "execution": {
     "iopub.execute_input": "2025-05-15T09:30:18.101503Z",
     "iopub.status.busy": "2025-05-15T09:30:18.101293Z",
     "iopub.status.idle": "2025-05-15T09:30:18.104507Z",
     "shell.execute_reply": "2025-05-15T09:30:18.103853Z"
    },
    "papermill": {
     "duration": 0.012246,
     "end_time": "2025-05-15T09:30:18.105513",
     "exception": false,
     "start_time": "2025-05-15T09:30:18.093267",
     "status": "completed"
    },
    "tags": []
   },
   "outputs": [],
   "source": [
    "train_data, val_data = training.split_data(fileurls, train_ratio=0.90) # Limit number of files"
   ]
  },
  {
   "cell_type": "code",
   "execution_count": 13,
   "id": "a38bb37c",
   "metadata": {
    "execution": {
     "iopub.execute_input": "2025-05-15T09:30:18.120976Z",
     "iopub.status.busy": "2025-05-15T09:30:18.120778Z",
     "iopub.status.idle": "2025-05-15T09:30:18.124731Z",
     "shell.execute_reply": "2025-05-15T09:30:18.124070Z"
    },
    "papermill": {
     "duration": 0.013043,
     "end_time": "2025-05-15T09:30:18.125906",
     "exception": false,
     "start_time": "2025-05-15T09:30:18.112863",
     "status": "completed"
    },
    "tags": []
   },
   "outputs": [],
   "source": [
    "# Creating data loader for both train and validation\n",
    "train_loader = dataset.create_dataloader(train_data, batch_size=2, max_length=context_len, stride=context_len,\n",
    "                                         drop_last=True, num_workers=0)\n",
    "\n",
    "val_loader = dataset.create_dataloader(val_data, batch_size=2, max_length=context_len, stride=context_len,\n",
    "                                        drop_last=False, num_workers=0)\n",
    "\n",
    "## Since number of files which wikll be downloaded will be huge, this step can be skipped\n",
    "# for cntr, data in enumerate(train_loader):\n",
    "#     pass\n",
    "# print(f\"Total batches: {cntr}\")"
   ]
  },
  {
   "cell_type": "markdown",
   "id": "a9d8e25a",
   "metadata": {
    "papermill": {
     "duration": 0.00727,
     "end_time": "2025-05-15T09:30:18.140642",
     "exception": false,
     "start_time": "2025-05-15T09:30:18.133372",
     "status": "completed"
    },
    "tags": []
   },
   "source": [
    "### Model Defination"
   ]
  },
  {
   "cell_type": "code",
   "execution_count": 14,
   "id": "c37f1cab",
   "metadata": {
    "execution": {
     "iopub.execute_input": "2025-05-15T09:30:18.156016Z",
     "iopub.status.busy": "2025-05-15T09:30:18.155837Z",
     "iopub.status.idle": "2025-05-15T09:30:18.159920Z",
     "shell.execute_reply": "2025-05-15T09:30:18.159429Z"
    },
    "papermill": {
     "duration": 0.012994,
     "end_time": "2025-05-15T09:30:18.160975",
     "exception": false,
     "start_time": "2025-05-15T09:30:18.147981",
     "status": "completed"
    },
    "tags": []
   },
   "outputs": [
    {
     "data": {
      "text/plain": [
       "device(type='cuda')"
      ]
     },
     "execution_count": 14,
     "metadata": {},
     "output_type": "execute_result"
    }
   ],
   "source": [
    "device = torch.device(\"cuda\" if torch.cuda.is_available() else \"cpu\")\n",
    "device"
   ]
  },
  {
   "cell_type": "code",
   "execution_count": 15,
   "id": "1dd539b9",
   "metadata": {
    "execution": {
     "iopub.execute_input": "2025-05-15T09:30:18.176712Z",
     "iopub.status.busy": "2025-05-15T09:30:18.176538Z",
     "iopub.status.idle": "2025-05-15T09:30:18.180701Z",
     "shell.execute_reply": "2025-05-15T09:30:18.180044Z"
    },
    "papermill": {
     "duration": 0.013331,
     "end_time": "2025-05-15T09:30:18.181807",
     "exception": false,
     "start_time": "2025-05-15T09:30:18.168476",
     "status": "completed"
    },
    "tags": []
   },
   "outputs": [
    {
     "data": {
      "text/plain": [
       "{'vocab_size': 50257,\n",
       " 'context_length': 1024,\n",
       " 'emb_dim': 768,\n",
       " 'n_heads': 12,\n",
       " 'n_layers': 12,\n",
       " 'drop_rate': 0.1,\n",
       " 'qkv_bias': False}"
      ]
     },
     "execution_count": 15,
     "metadata": {},
     "output_type": "execute_result"
    }
   ],
   "source": [
    "config_train"
   ]
  },
  {
   "cell_type": "markdown",
   "id": "0ca1d068",
   "metadata": {
    "papermill": {
     "duration": 0.007522,
     "end_time": "2025-05-15T09:30:18.197072",
     "exception": false,
     "start_time": "2025-05-15T09:30:18.189550",
     "status": "completed"
    },
    "tags": []
   },
   "source": [
    "define our model based on passed configuration, different configuration can also be passed"
   ]
  },
  {
   "cell_type": "code",
   "execution_count": 16,
   "id": "7146fd5e",
   "metadata": {
    "execution": {
     "iopub.execute_input": "2025-05-15T09:30:18.213178Z",
     "iopub.status.busy": "2025-05-15T09:30:18.212686Z",
     "iopub.status.idle": "2025-05-15T09:30:19.624848Z",
     "shell.execute_reply": "2025-05-15T09:30:19.624197Z"
    },
    "papermill": {
     "duration": 1.421544,
     "end_time": "2025-05-15T09:30:19.626196",
     "exception": false,
     "start_time": "2025-05-15T09:30:18.204652",
     "status": "completed"
    },
    "tags": []
   },
   "outputs": [],
   "source": [
    "model_llm = model.LLMModel(config_train)"
   ]
  },
  {
   "cell_type": "code",
   "execution_count": 17,
   "id": "76814035",
   "metadata": {
    "execution": {
     "iopub.execute_input": "2025-05-15T09:30:19.643504Z",
     "iopub.status.busy": "2025-05-15T09:30:19.643227Z",
     "iopub.status.idle": "2025-05-15T09:30:19.804940Z",
     "shell.execute_reply": "2025-05-15T09:30:19.803787Z"
    },
    "papermill": {
     "duration": 0.171654,
     "end_time": "2025-05-15T09:30:19.806390",
     "exception": false,
     "start_time": "2025-05-15T09:30:19.634736",
     "status": "completed"
    },
    "tags": []
   },
   "outputs": [],
   "source": [
    "!rm -rf ~/.cache/huggingface/hub  -- delete any cache"
   ]
  },
  {
   "cell_type": "markdown",
   "id": "d58881fd",
   "metadata": {
    "papermill": {
     "duration": 0.007526,
     "end_time": "2025-05-15T09:30:19.822093",
     "exception": false,
     "start_time": "2025-05-15T09:30:19.814567",
     "status": "completed"
    },
    "tags": []
   },
   "source": [
    "### Loading Previously trained model from HuggingFace\n",
    "we dont want to train from scratch, lets load previously trained model of same config from huggingface \n",
    "<br/>\n",
    "\n",
    "<b>repo</b> - https://huggingface.co/pankajr141/llm_bhasa_v1"
   ]
  },
  {
   "cell_type": "code",
   "execution_count": 18,
   "id": "8493de01",
   "metadata": {
    "execution": {
     "iopub.execute_input": "2025-05-15T09:30:19.838807Z",
     "iopub.status.busy": "2025-05-15T09:30:19.838553Z",
     "iopub.status.idle": "2025-05-15T09:30:19.843649Z",
     "shell.execute_reply": "2025-05-15T09:30:19.843103Z"
    },
    "papermill": {
     "duration": 0.01478,
     "end_time": "2025-05-15T09:30:19.844817",
     "exception": false,
     "start_time": "2025-05-15T09:30:19.830037",
     "status": "completed"
    },
    "tags": []
   },
   "outputs": [
    {
     "data": {
      "text/plain": [
       "'pankajr141/llm_bhasa_v1'"
      ]
     },
     "execution_count": 18,
     "metadata": {},
     "output_type": "execute_result"
    }
   ],
   "source": [
    "repo = \"pankajr141\"\n",
    "modelname = \"llm_bhasa_v1\"\n",
    "\n",
    "repo_url = f\"{repo}/{modelname}\"\n",
    "repo_url"
   ]
  },
  {
   "cell_type": "code",
   "execution_count": 19,
   "id": "26bbc18d",
   "metadata": {
    "execution": {
     "iopub.execute_input": "2025-05-15T09:30:19.861956Z",
     "iopub.status.busy": "2025-05-15T09:30:19.861775Z",
     "iopub.status.idle": "2025-05-15T09:30:33.870911Z",
     "shell.execute_reply": "2025-05-15T09:30:33.870327Z"
    },
    "papermill": {
     "duration": 14.019865,
     "end_time": "2025-05-15T09:30:33.872929",
     "exception": false,
     "start_time": "2025-05-15T09:30:19.853064",
     "status": "completed"
    },
    "tags": []
   },
   "outputs": [
    {
     "data": {
      "application/vnd.jupyter.widget-view+json": {
       "model_id": "455ba03946ba4bf1af7328edb6466931",
       "version_major": 2,
       "version_minor": 0
      },
      "text/plain": [
       "config.json:   0%|          | 0.00/174 [00:00<?, ?B/s]"
      ]
     },
     "metadata": {},
     "output_type": "display_data"
    },
    {
     "data": {
      "application/vnd.jupyter.widget-view+json": {
       "model_id": "1d8980f4467f436b8d4ade812e4438ac",
       "version_major": 2,
       "version_minor": 0
      },
      "text/plain": [
       "model.safetensors:   0%|          | 0.00/702M [00:00<?, ?B/s]"
      ]
     },
     "metadata": {},
     "output_type": "display_data"
    }
   ],
   "source": [
    "# Load from hugging face\n",
    "model_llm = model.LLMModel.from_pretrained(repo_url)"
   ]
  },
  {
   "cell_type": "code",
   "execution_count": 20,
   "id": "3c12b090",
   "metadata": {
    "execution": {
     "iopub.execute_input": "2025-05-15T09:30:33.890900Z",
     "iopub.status.busy": "2025-05-15T09:30:33.890333Z",
     "iopub.status.idle": "2025-05-15T09:30:34.087667Z",
     "shell.execute_reply": "2025-05-15T09:30:34.086823Z"
    },
    "papermill": {
     "duration": 0.207268,
     "end_time": "2025-05-15T09:30:34.088890",
     "exception": false,
     "start_time": "2025-05-15T09:30:33.881622",
     "status": "completed"
    },
    "tags": []
   },
   "outputs": [
    {
     "name": "stdout",
     "output_type": "stream",
     "text": [
      "##============== Model Summary =========================##\n",
      "# Total number of parameters: 163,009,536\n",
      "# Token embedding layer shape: torch.Size([50257, 768])\n",
      "# Output layer shape: torch.Size([50257, 768])\n",
      "# Number of trainable parameters considering weight tying: 124,412,160\n",
      "# Total size of the model: 621.83 MB\n",
      "##======================================================##\n",
      "Model Defined\n"
     ]
    }
   ],
   "source": [
    "# model_llm = model.load_model(model_llm, model_filepath) # Resuming training by loading previously trained model\n",
    "model.print_model_information(model_llm)\n",
    "\n",
    "if torch.cuda.device_count() > 1:\n",
    "    model_llm = nn.DataParallel(model_llm)\n",
    "\n",
    "model_llm.to(device)                                    # Assigning GPU/CPU to model\n",
    "print(\"Model Defined\")"
   ]
  },
  {
   "cell_type": "markdown",
   "id": "70c0a998",
   "metadata": {
    "papermill": {
     "duration": 0.008161,
     "end_time": "2025-05-15T09:30:34.105532",
     "exception": false,
     "start_time": "2025-05-15T09:30:34.097371",
     "status": "completed"
    },
    "tags": []
   },
   "source": [
    "### Additional Defination"
   ]
  },
  {
   "cell_type": "code",
   "execution_count": 21,
   "id": "49ff75a3",
   "metadata": {
    "execution": {
     "iopub.execute_input": "2025-05-15T09:30:34.123467Z",
     "iopub.status.busy": "2025-05-15T09:30:34.122791Z",
     "iopub.status.idle": "2025-05-15T09:30:34.127076Z",
     "shell.execute_reply": "2025-05-15T09:30:34.126371Z"
    },
    "papermill": {
     "duration": 0.01394,
     "end_time": "2025-05-15T09:30:34.128068",
     "exception": false,
     "start_time": "2025-05-15T09:30:34.114128",
     "status": "completed"
    },
    "tags": []
   },
   "outputs": [],
   "source": [
    "optimizer = torch.optim.AdamW(model_llm.parameters(), lr=0.0004, weight_decay=0.1)"
   ]
  },
  {
   "cell_type": "code",
   "execution_count": 22,
   "id": "fc619187",
   "metadata": {
    "execution": {
     "iopub.execute_input": "2025-05-15T09:30:34.145784Z",
     "iopub.status.busy": "2025-05-15T09:30:34.145572Z",
     "iopub.status.idle": "2025-05-15T09:30:34.150014Z",
     "shell.execute_reply": "2025-05-15T09:30:34.149328Z"
    },
    "papermill": {
     "duration": 0.014083,
     "end_time": "2025-05-15T09:30:34.150999",
     "exception": false,
     "start_time": "2025-05-15T09:30:34.136916",
     "status": "completed"
    },
    "tags": []
   },
   "outputs": [
    {
     "data": {
      "text/plain": [
       "<Encoding 'gpt2'>"
      ]
     },
     "execution_count": 22,
     "metadata": {},
     "output_type": "execute_result"
    }
   ],
   "source": [
    "from llm_bhasa.harmony import tokenizer as tokenizer_lib\n",
    "tokenizer = tokenizer_lib.get_tokenizer()\n",
    "tokenizer"
   ]
  },
  {
   "cell_type": "markdown",
   "id": "2c04932f",
   "metadata": {
    "papermill": {
     "duration": 0.00787,
     "end_time": "2025-05-15T09:30:34.167008",
     "exception": false,
     "start_time": "2025-05-15T09:30:34.159138",
     "status": "completed"
    },
    "tags": []
   },
   "source": [
    "### Lets train"
   ]
  },
  {
   "cell_type": "code",
   "execution_count": 23,
   "id": "bb60db38",
   "metadata": {
    "execution": {
     "iopub.execute_input": "2025-05-15T09:30:34.184335Z",
     "iopub.status.busy": "2025-05-15T09:30:34.184128Z",
     "iopub.status.idle": "2025-05-15T18:00:59.046675Z",
     "shell.execute_reply": "2025-05-15T18:00:59.045865Z"
    },
    "papermill": {
     "duration": 30624.872396,
     "end_time": "2025-05-15T18:00:59.048018",
     "exception": false,
     "start_time": "2025-05-15T09:30:34.175622",
     "status": "completed"
    },
    "tags": []
   },
   "outputs": [
    {
     "name": "stdout",
     "output_type": "stream",
     "text": [
      "Ep 1 (Step 000000): Train loss 3.672, Val loss 4.265\n",
      "Ep 1 (Step 000500): Train loss 3.257, Val loss 4.316\n",
      "Ep 1 (Step 001000): Train loss 3.345, Val loss 4.221\n",
      "Ep 1 (Step 001500): Train loss 3.698, Val loss 4.555\n",
      "Ep 1 (Step 002000): Train loss 3.391, Val loss 4.257\n",
      "Ep 1 (Step 002500): Train loss 3.427, Val loss 4.165\n",
      "Ep 1 (Step 003000): Train loss 3.621, Val loss 4.421\n",
      "Ep 1 (Step 003500): Train loss 3.401, Val loss 4.197\n",
      "Ep 1 (Step 004000): Train loss 3.559, Val loss 4.267\n",
      "Ep 1 (Step 004500): Train loss 3.582, Val loss 4.223\n",
      "Ep 1 (Step 005000): Train loss 3.491, Val loss 4.142\n",
      "Ep 1 (Step 005500): Train loss 3.531, Val loss 4.184\n",
      "Ep 1 (Step 006000): Train loss 3.561, Val loss 4.175\n",
      "Ep 1 (Step 006500): Train loss 3.705, Val loss 4.319\n",
      "Ep 1 (Step 007000): Train loss 3.714, Val loss 4.322\n",
      "Ep 1 (Step 007500): Train loss 3.692, Val loss 4.362\n",
      "Ep 1 (Step 008000): Train loss 3.543, Val loss 4.244\n",
      "Ep 1 (Step 008500): Train loss 3.566, Val loss 4.224\n",
      "Ep 1 (Step 009000): Train loss 3.738, Val loss 4.370\n",
      "Ep 1 (Step 009500): Train loss 3.720, Val loss 4.327\n",
      "Ep 1 (Step 010000): Train loss 3.940, Val loss 4.451\n",
      "Ep 1 (Step 010500): Train loss 4.042, Val loss 4.645\n",
      "Ep 1 (Step 011000): Train loss 3.801, Val loss 4.398\n",
      "Ep 1 (Step 011500): Train loss 3.648, Val loss 4.304\n",
      "Ep 1 (Step 012000): Train loss 3.667, Val loss 4.268\n",
      "Ep 1 (Step 012500): Train loss 3.686, Val loss 4.345\n",
      "Ep 1 (Step 013000): Train loss 3.599, Val loss 4.265\n",
      "Ep 1 (Step 013500): Train loss 3.788, Val loss 4.353\n",
      "Ep 1 (Step 014000): Train loss 3.583, Val loss 4.229\n",
      "Ep 1 (Step 014500): Train loss 3.577, Val loss 4.244\n",
      "Ep 1 (Step 015000): Train loss 3.566, Val loss 4.270\n",
      "Ep 1 (Step 015500): Train loss 3.591, Val loss 4.257\n",
      "Ep 1 (Step 016000): Train loss 3.653, Val loss 4.359\n",
      "Ep 1 (Step 016500): Train loss 3.748, Val loss 4.426\n",
      "Ep 1 (Step 017000): Train loss 3.675, Val loss 4.335\n",
      "Ep 1 (Step 017500): Train loss 3.806, Val loss 4.575\n",
      "Ep 1 (Step 018000): Train loss 6.640, Val loss 6.877\n",
      "Ep 1 (Step 018500): Train loss 3.722, Val loss 4.442\n",
      "Ep 1 (Step 019000): Train loss 3.612, Val loss 4.318\n",
      "Ep 1 (Step 019500): Train loss 3.713, Val loss 4.308\n",
      "Ep 1 (Step 020000): Train loss 3.705, Val loss 4.296\n",
      "Ep 1 (Step 020500): Train loss 3.639, Val loss 4.253\n",
      "Ep 1 (Step 021000): Train loss 3.658, Val loss 4.308\n",
      "Ep 1 (Step 021500): Train loss 3.634, Val loss 4.221\n",
      "Ep 1 (Step 022000): Train loss 3.729, Val loss 4.287\n",
      "Ep 1 (Step 022500): Train loss 3.598, Val loss 4.149\n",
      "Ep 1 (Step 023000): Train loss 3.644, Val loss 4.230\n",
      "Ep 1 (Step 023500): Train loss 3.568, Val loss 4.183\n",
      "Ep 1 (Step 024000): Train loss 3.655, Val loss 4.282\n",
      "Ep 1 (Step 024500): Train loss 3.701, Val loss 4.334\n",
      "Ep 1 (Step 025000): Train loss 3.732, Val loss 4.311\n",
      "Ep 1 (Step 025500): Train loss 3.791, Val loss 4.323\n",
      "Ep 1 (Step 026000): Train loss 3.707, Val loss 4.310\n",
      "Ep 1 (Step 026500): Train loss 3.608, Val loss 4.207\n",
      "Ep 1 (Step 027000): Train loss 3.662, Val loss 4.327\n",
      "Ep 1 (Step 027500): Train loss 3.626, Val loss 4.179\n",
      "Ep 1 (Step 028000): Train loss 3.629, Val loss 4.189\n",
      "Ep 1 (Step 028500): Train loss 3.695, Val loss 4.063\n",
      "Ep 1 (Step 029000): Train loss 3.573, Val loss 4.111\n",
      "Ep 1 (Step 029500): Train loss 3.655, Val loss 4.116\n",
      "Ep 1 (Step 030000): Train loss 3.681, Val loss 4.165\n",
      "Ep 1 (Step 030500): Train loss 3.659, Val loss 4.086\n",
      "Ep 1 (Step 031000): Train loss 3.567, Val loss 4.133\n",
      "Ep 1 (Step 031500): Train loss 3.597, Val loss 4.154\n",
      "Ep 1 (Step 032000): Train loss 3.787, Val loss 4.330\n",
      "Ep 1 (Step 032500): Train loss 3.606, Val loss 4.187\n",
      "Ep 1 (Step 033000): Train loss 3.603, Val loss 4.108\n",
      "Ep 1 (Step 033500): Train loss 3.609, Val loss 4.162\n",
      "Ep 1 (Step 034000): Train loss 3.594, Val loss 4.100\n",
      "Ep 1 (Step 034500): Train loss 3.653, Val loss 4.216\n",
      "Ep 1 (Step 035000): Train loss 3.692, Val loss 4.234\n",
      "Ep 1 (Step 035500): Train loss 3.564, Val loss 4.121\n",
      "Ep 1 (Step 036000): Train loss 3.527, Val loss 4.136\n",
      "Ep 1 (Step 036500): Train loss 3.492, Val loss 4.136\n",
      "Ep 1 (Step 037000): Train loss 3.612, Val loss 4.232\n",
      "Ep 1 (Step 037500): Train loss 3.627, Val loss 4.212\n",
      "Ep 1 (Step 038000): Train loss 3.639, Val loss 4.256\n",
      "Ep 1 (Step 038500): Train loss 3.733, Val loss 4.330\n",
      "Ep 1 (Step 039000): Train loss 3.829, Val loss 4.373\n",
      "Ep 1 (Step 039500): Train loss 3.838, Val loss 4.341\n",
      "Ep 1 (Step 040000): Train loss 3.579, Val loss 4.172\n",
      "Ep 1 (Step 040500): Train loss 3.502, Val loss 4.104\n",
      "Ep 1 (Step 041000): Train loss 3.572, Val loss 4.060\n",
      "Ep 1 (Step 041500): Train loss 3.537, Val loss 4.134\n",
      "Ep 1 (Step 042000): Train loss 3.524, Val loss 4.115\n",
      "Ep 1 (Step 042500): Train loss 3.531, Val loss 4.110\n",
      "Ep 1 (Step 043000): Train loss 3.567, Val loss 4.135\n",
      "Ep 1 (Step 043500): Train loss 3.587, Val loss 4.092\n",
      "Ep 1 (Step 044000): Train loss 3.616, Val loss 4.220\n",
      "Ep 1 (Step 044500): Train loss 3.568, Val loss 4.161\n",
      "Ep 1 (Step 045000): Train loss 3.556, Val loss 4.197\n",
      "Ep 1 (Step 045500): Train loss 3.527, Val loss 4.192\n",
      "Ep 1 (Step 046000): Train loss 3.622, Val loss 4.257\n",
      "Ep 1 (Step 046500): Train loss 3.540, Val loss 4.117\n",
      "Ep 1 (Step 047000): Train loss 3.781, Val loss 4.351\n",
      "Ep 1 (Step 047500): Train loss 3.925, Val loss 4.388\n",
      "Ep 1 (Step 048000): Train loss 4.007, Val loss 4.431\n",
      "Ep 1 (Step 048500): Train loss 4.151, Val loss 4.528\n",
      "Ep 1 (Step 049000): Train loss 4.128, Val loss 4.502\n",
      "Ep 1 (Step 049500): Train loss 4.145, Val loss 4.734\n",
      "Ep 1 (Step 050000): Train loss 3.631, Val loss 4.289\n",
      "Ep 1 (Step 050500): Train loss 3.644, Val loss 4.244\n",
      "Ep 1 (Step 051000): Train loss 3.793, Val loss 4.432\n",
      "Ep 1 (Step 051500): Train loss 3.682, Val loss 4.267\n",
      "Ep 1 (Step 052000): Train loss 3.672, Val loss 4.245\n",
      "Ep 1 (Step 052500): Train loss 3.601, Val loss 4.274\n",
      "Ep 1 (Step 053000): Train loss 3.548, Val loss 4.276\n",
      "Ep 1 (Step 053500): Train loss 3.587, Val loss 4.300\n",
      "Ep 1 (Step 054000): Train loss 3.716, Val loss 4.343\n",
      "Ep 1 (Step 054500): Train loss 3.717, Val loss 4.306\n",
      "Ep 1 (Step 055000): Train loss 3.813, Val loss 4.474\n",
      "Ep 1 (Step 055500): Train loss 3.828, Val loss 4.353\n",
      "Ep 1 (Step 056000): Train loss 3.642, Val loss 4.344\n",
      "Ep 1 (Step 056500): Train loss 3.568, Val loss 4.250\n",
      "Ep 1 (Step 057000): Train loss 3.614, Val loss 4.323\n",
      "Ep 1 (Step 057500): Train loss 3.615, Val loss 4.278\n",
      "Ep 1 (Step 058000): Train loss 3.545, Val loss 4.220\n",
      "Ep 1 (Step 058500): Train loss 3.619, Val loss 4.233\n",
      "Ep 1 (Step 059000): Train loss 3.663, Val loss 4.345\n",
      "Ep 1 (Step 059500): Train loss 4.280, Val loss 5.220\n",
      "Ep 1 (Step 060000): Train loss 4.995, Val loss 5.868\n",
      "Ep 1 (Step 060500): Train loss 3.872, Val loss 4.304\n",
      "Ep 1 (Step 061000): Train loss 3.656, Val loss 4.131\n",
      "Ep 1 (Step 061500): Train loss 3.720, Val loss 4.242\n",
      "Ep 1 (Step 062000): Train loss 3.787, Val loss 4.246\n",
      "Ep 1 (Step 062500): Train loss 3.617, Val loss 4.172\n",
      "Ep 1 (Step 063000): Train loss 3.576, Val loss 4.079\n",
      "Ep 1 (Step 063500): Train loss 3.742, Val loss 4.229\n",
      "Ep 1 (Step 064000): Train loss 3.626, Val loss 4.222\n",
      "Ep 1 (Step 064500): Train loss 3.659, Val loss 4.150\n",
      "Ep 1 (Step 065000): Train loss 3.541, Val loss 4.098\n",
      "Ep 1 (Step 065500): Train loss 3.526, Val loss 4.165\n",
      "Ep 1 (Step 066000): Train loss 3.579, Val loss 4.056\n",
      "Ep 1 (Step 066500): Train loss 3.602, Val loss 4.167\n",
      "Ep 1 (Step 067000): Train loss 3.646, Val loss 4.191\n",
      "Ep 1 (Step 067500): Train loss 3.555, Val loss 4.100\n",
      "Ep 1 (Step 068000): Train loss 3.562, Val loss 4.167\n",
      "Ep 1 (Step 068500): Train loss 3.621, Val loss 4.192\n",
      "Ep 1 (Step 069000): Train loss 3.730, Val loss 4.262\n",
      "Ep 1 (Step 069500): Train loss 3.580, Val loss 4.133\n",
      "Ep 1 (Step 070000): Train loss 3.553, Val loss 4.128\n",
      "Ep 1 (Step 070500): Train loss 3.554, Val loss 4.149\n",
      "Ep 1 (Step 071000): Train loss 3.566, Val loss 4.176\n",
      "Ep 1 (Step 071500): Train loss 3.622, Val loss 4.078\n",
      "Ep 1 (Step 072000): Train loss 4.886, Val loss 5.448\n",
      " “You are not,” said Nora. �\n",
      "Model saved to /kaggle/working/model_and_optimizer.pth\n",
      "CPU times: user 6h 41min 10s, sys: 1h 29min 55s, total: 8h 11min 5s\n",
      "Wall time: 8h 30min 24s\n"
     ]
    }
   ],
   "source": [
    "%%time\n",
    "\n",
    "num_epochs = 1\n",
    "# Training LLM model from scratch\n",
    "train_losses, val_losses, tokens_seen = training.train_model(model_llm, \n",
    "                                                             train_loader,\n",
    "                                                             val_loader, \n",
    "                                                             optimizer, \n",
    "                                                             device,\n",
    "                                                             num_epochs=num_epochs,\n",
    "                                                             eval_freq=500,   # Loss will be printed every 500 steps\n",
    "                                                             eval_iter=50,    # Number of batches to use for each evaluation\n",
    "                                                             start_context=\"Every effort moves you\", \n",
    "                                                             tokenizer=tokenizer)\n",
    "model.save_model(model_llm, optimizer, model_filepath)"
   ]
  },
  {
   "cell_type": "code",
   "execution_count": 24,
   "id": "daa2a725",
   "metadata": {
    "execution": {
     "iopub.execute_input": "2025-05-15T18:00:59.076513Z",
     "iopub.status.busy": "2025-05-15T18:00:59.076256Z",
     "iopub.status.idle": "2025-05-15T18:00:59.079502Z",
     "shell.execute_reply": "2025-05-15T18:00:59.078831Z"
    },
    "papermill": {
     "duration": 0.018544,
     "end_time": "2025-05-15T18:00:59.080705",
     "exception": false,
     "start_time": "2025-05-15T18:00:59.062161",
     "status": "completed"
    },
    "tags": []
   },
   "outputs": [],
   "source": [
    "# model_llm.to(device)\n",
    "# training.evaluate_model(model_llm, train_loader, val_loader, device, 50)"
   ]
  },
  {
   "cell_type": "markdown",
   "id": "f9aafa66",
   "metadata": {
    "papermill": {
     "duration": 0.013025,
     "end_time": "2025-05-15T18:00:59.107202",
     "exception": false,
     "start_time": "2025-05-15T18:00:59.094177",
     "status": "completed"
    },
    "tags": []
   },
   "source": [
    "### Plot Results Train vs Validation"
   ]
  },
  {
   "cell_type": "code",
   "execution_count": 25,
   "id": "2ded4220",
   "metadata": {
    "execution": {
     "iopub.execute_input": "2025-05-15T18:00:59.134860Z",
     "iopub.status.busy": "2025-05-15T18:00:59.134650Z",
     "iopub.status.idle": "2025-05-15T18:00:59.291163Z",
     "shell.execute_reply": "2025-05-15T18:00:59.290526Z"
    },
    "papermill": {
     "duration": 0.171855,
     "end_time": "2025-05-15T18:00:59.292159",
     "exception": false,
     "start_time": "2025-05-15T18:00:59.120304",
     "status": "completed"
    },
    "tags": []
   },
   "outputs": [
    {
     "data": {
      "image/png": "[encoded data removed]",
      "text/plain": [
       "<Figure size 500x300 with 1 Axes>"
      ]
     },
     "metadata": {},
     "output_type": "display_data"
    }
   ],
   "source": [
    "epochs_tensor = torch.linspace(0, num_epochs, len(train_losses))\n",
    "training.plot_losses(epochs_tensor, tokens_seen, train_losses, val_losses)"
   ]
  },
  {
   "cell_type": "markdown",
   "id": "c5b4566d",
   "metadata": {
    "papermill": {
     "duration": 0.013645,
     "end_time": "2025-05-15T18:00:59.319811",
     "exception": false,
     "start_time": "2025-05-15T18:00:59.306166",
     "status": "completed"
    },
    "tags": []
   },
   "source": [
    "### Generate some samples"
   ]
  },
  {
   "cell_type": "code",
   "execution_count": 26,
   "id": "329275df",
   "metadata": {
    "execution": {
     "iopub.execute_input": "2025-05-15T18:00:59.348219Z",
     "iopub.status.busy": "2025-05-15T18:00:59.348021Z",
     "iopub.status.idle": "2025-05-15T18:00:59.354916Z",
     "shell.execute_reply": "2025-05-15T18:00:59.354285Z"
    },
    "papermill": {
     "duration": 0.02236,
     "end_time": "2025-05-15T18:00:59.355935",
     "exception": false,
     "start_time": "2025-05-15T18:00:59.333575",
     "status": "completed"
    },
    "tags": []
   },
   "outputs": [],
   "source": [
    "from llm_bhasa.harmony import generator\n",
    "\n",
    "model_llm.eval()  # Disable dropout during evaluation\n",
    "model_llm.to(device)\n",
    "\n",
    "context_len = config_train['context_length']"
   ]
  },
  {
   "cell_type": "code",
   "execution_count": 27,
   "id": "112d5eec",
   "metadata": {
    "execution": {
     "iopub.execute_input": "2025-05-15T18:00:59.384647Z",
     "iopub.status.busy": "2025-05-15T18:00:59.384425Z",
     "iopub.status.idle": "2025-05-15T18:00:59.387937Z",
     "shell.execute_reply": "2025-05-15T18:00:59.387454Z"
    },
    "papermill": {
     "duration": 0.018926,
     "end_time": "2025-05-15T18:00:59.388907",
     "exception": false,
     "start_time": "2025-05-15T18:00:59.369981",
     "status": "completed"
    },
    "tags": []
   },
   "outputs": [],
   "source": [
    "def generate_text(start_context):\n",
    "    tokenizer = tokenizer_lib.get_tokenizer()\n",
    "    encoded = tokenizer_lib.text_to_token_ids(start_context, tokenizer).to(device)\n",
    "    token_ids  = generator.generate(model=model_llm, idx=encoded, max_new_tokens=50, context_size=context_len)\n",
    "    decoded_text = tokenizer_lib.token_ids_to_text(token_ids, tokenizer)\n",
    "    return decoded_text.replace(\"\\n\", \" \")"
   ]
  },
  {
   "cell_type": "code",
   "execution_count": 28,
   "id": "c977453d",
   "metadata": {
    "execution": {
     "iopub.execute_input": "2025-05-15T18:00:59.418190Z",
     "iopub.status.busy": "2025-05-15T18:00:59.417994Z",
     "iopub.status.idle": "2025-05-15T18:00:59.989061Z",
     "shell.execute_reply": "2025-05-15T18:00:59.988275Z"
    },
    "papermill": {
     "duration": 0.586805,
     "end_time": "2025-05-15T18:00:59.990188",
     "exception": false,
     "start_time": "2025-05-15T18:00:59.403383",
     "status": "completed"
    },
    "tags": []
   },
   "outputs": [
    {
     "data": {
      "text/plain": [
       "'Hello, I am glad to have you,” said Nora.\\r \\r \\r “You are very angry,” said Nora. “You are very angry, and I am not so angry.”\\r \\r \\r '"
      ]
     },
     "execution_count": 28,
     "metadata": {},
     "output_type": "execute_result"
    }
   ],
   "source": [
    "generate_text(\"Hello, I am\")"
   ]
  },
  {
   "cell_type": "code",
   "execution_count": 29,
   "id": "dea1e70a",
   "metadata": {
    "execution": {
     "iopub.execute_input": "2025-05-15T18:01:00.022211Z",
     "iopub.status.busy": "2025-05-15T18:01:00.021781Z",
     "iopub.status.idle": "2025-05-15T18:01:00.607382Z",
     "shell.execute_reply": "2025-05-15T18:01:00.606829Z"
    },
    "papermill": {
     "duration": 0.603499,
     "end_time": "2025-05-15T18:01:00.608497",
     "exception": false,
     "start_time": "2025-05-15T18:01:00.004998",
     "status": "completed"
    },
    "tags": []
   },
   "outputs": [
    {
     "data": {
      "text/plain": [
       "'Lets start.\\r \\r \\r \\r “I am,” said Nora. “I am glad to see you.”\\r \\r \\r “You are,” said Nora. “I am'"
      ]
     },
     "execution_count": 29,
     "metadata": {},
     "output_type": "execute_result"
    }
   ],
   "source": [
    "generate_text(\"Lets start\")"
   ]
  },
  {
   "cell_type": "code",
   "execution_count": 30,
   "id": "09a28000",
   "metadata": {
    "execution": {
     "iopub.execute_input": "2025-05-15T18:01:00.637984Z",
     "iopub.status.busy": "2025-05-15T18:01:00.637793Z",
     "iopub.status.idle": "2025-05-15T18:01:01.226120Z",
     "shell.execute_reply": "2025-05-15T18:01:01.225427Z"
    },
    "papermill": {
     "duration": 0.604378,
     "end_time": "2025-05-15T18:01:01.227302",
     "exception": false,
     "start_time": "2025-05-15T18:01:00.622924",
     "status": "completed"
    },
    "tags": []
   },
   "outputs": [
    {
     "data": {
      "text/plain": [
       "'How is your father,” said Nora.\\r \\r “I am glad to see you,” said Nora. “I am glad to see you.”\\r \\r \\r “You are very fond of me'"
      ]
     },
     "execution_count": 30,
     "metadata": {},
     "output_type": "execute_result"
    }
   ],
   "source": [
    "generate_text(\"How is your\")"
   ]
  },
  {
   "cell_type": "markdown",
   "id": "d47f1ad3",
   "metadata": {
    "papermill": {
     "duration": 0.014211,
     "end_time": "2025-05-15T18:01:01.256305",
     "exception": false,
     "start_time": "2025-05-15T18:01:01.242094",
     "status": "completed"
    },
    "tags": []
   },
   "source": [
    "## Deploy to Huggingface"
   ]
  },
  {
   "cell_type": "code",
   "execution_count": 31,
   "id": "07d4ef84",
   "metadata": {
    "execution": {
     "iopub.execute_input": "2025-05-15T18:01:01.286116Z",
     "iopub.status.busy": "2025-05-15T18:01:01.285753Z",
     "iopub.status.idle": "2025-05-15T18:01:01.288750Z",
     "shell.execute_reply": "2025-05-15T18:01:01.288109Z"
    },
    "papermill": {
     "duration": 0.019282,
     "end_time": "2025-05-15T18:01:01.289848",
     "exception": false,
     "start_time": "2025-05-15T18:01:01.270566",
     "status": "completed"
    },
    "tags": []
   },
   "outputs": [],
   "source": [
    "# from huggingface_hub import notebook_login\n",
    "# notebook_login()"
   ]
  },
  {
   "cell_type": "code",
   "execution_count": 32,
   "id": "a58ce5cd",
   "metadata": {
    "execution": {
     "iopub.execute_input": "2025-05-15T18:01:01.320497Z",
     "iopub.status.busy": "2025-05-15T18:01:01.320285Z",
     "iopub.status.idle": "2025-05-15T18:01:01.422353Z",
     "shell.execute_reply": "2025-05-15T18:01:01.421878Z"
    },
    "papermill": {
     "duration": 0.11878,
     "end_time": "2025-05-15T18:01:01.423595",
     "exception": false,
     "start_time": "2025-05-15T18:01:01.304815",
     "status": "completed"
    },
    "tags": []
   },
   "outputs": [],
   "source": [
    "from kaggle_secrets import UserSecretsClient\n",
    "user_secrets = UserSecretsClient()\n",
    "huggingfacetoken = user_secrets.get_secret(\"huggingface\")\n",
    "\n",
    "from huggingface_hub.hf_api import HfFolder\n",
    "HfFolder.save_token(huggingfacetoken)"
   ]
  },
  {
   "cell_type": "markdown",
   "id": "600dfe3c",
   "metadata": {
    "papermill": {
     "duration": 0.014646,
     "end_time": "2025-05-15T18:01:01.452991",
     "exception": false,
     "start_time": "2025-05-15T18:01:01.438345",
     "status": "completed"
    },
    "tags": []
   },
   "source": [
    "Depending on whether multiple GPU are availaible model_llm can be instance of DataParallel which can cause issue while saving and loading model, hence sorting the issue."
   ]
  },
  {
   "cell_type": "code",
   "execution_count": 33,
   "id": "99b0add6",
   "metadata": {
    "execution": {
     "iopub.execute_input": "2025-05-15T18:01:01.483709Z",
     "iopub.status.busy": "2025-05-15T18:01:01.483513Z",
     "iopub.status.idle": "2025-05-15T18:01:01.486746Z",
     "shell.execute_reply": "2025-05-15T18:01:01.486219Z"
    },
    "papermill": {
     "duration": 0.019451,
     "end_time": "2025-05-15T18:01:01.487798",
     "exception": false,
     "start_time": "2025-05-15T18:01:01.468347",
     "status": "completed"
    },
    "tags": []
   },
   "outputs": [],
   "source": [
    "from torch.nn.parallel.data_parallel import DataParallel\n",
    "if isinstance(model_llm, DataParallel):\n",
    "    print(\"model is instance of DataParallel, changing the class\")\n",
    "    model_llm = model_llm.module"
   ]
  },
  {
   "cell_type": "code",
   "execution_count": 34,
   "id": "b731a6d1",
   "metadata": {
    "execution": {
     "iopub.execute_input": "2025-05-15T18:01:01.518916Z",
     "iopub.status.busy": "2025-05-15T18:01:01.518341Z",
     "iopub.status.idle": "2025-05-15T18:01:21.948479Z",
     "shell.execute_reply": "2025-05-15T18:01:21.947594Z"
    },
    "papermill": {
     "duration": 20.446365,
     "end_time": "2025-05-15T18:01:21.949738",
     "exception": false,
     "start_time": "2025-05-15T18:01:01.503373",
     "status": "completed"
    },
    "tags": []
   },
   "outputs": [
    {
     "data": {
      "application/vnd.jupyter.widget-view+json": {
       "model_id": "2a60800d18614c82a74e963ba44758a5",
       "version_major": 2,
       "version_minor": 0
      },
      "text/plain": [
       "model.safetensors:   0%|          | 0.00/702M [00:00<?, ?B/s]"
      ]
     },
     "metadata": {},
     "output_type": "display_data"
    },
    {
     "data": {
      "text/plain": [
       "CommitInfo(commit_url='https://huggingface.co/pankajr141/llm_bhasa_v1/commit/9ff74cbb7b5a628d624f18bd9103019959c206fb', commit_message='Push model using huggingface_hub.', commit_description='', oid='9ff74cbb7b5a628d624f18bd9103019959c206fb', pr_url=None, repo_url=RepoUrl('https://huggingface.co/pankajr141/llm_bhasa_v1', endpoint='https://huggingface.co', repo_type='model', repo_id='pankajr141/llm_bhasa_v1'), pr_revision=None, pr_num=None)"
      ]
     },
     "execution_count": 34,
     "metadata": {},
     "output_type": "execute_result"
    }
   ],
   "source": [
    "# save locally\n",
    "model_llm.save_pretrained(modelname)\n",
    "\n",
    "# push to the hub\n",
    "model_llm.push_to_hub(repo_url)\n",
    "\n",
    "# Load from hugging face\n",
    "# model_llm = model.LLMModel.from_pretrained(repo_url)"
   ]
  },
  {
   "cell_type": "markdown",
   "id": "4882cb26",
   "metadata": {
    "papermill": {
     "duration": 0.014601,
     "end_time": "2025-05-15T18:01:21.980363",
     "exception": false,
     "start_time": "2025-05-15T18:01:21.965762",
     "status": "completed"
    },
    "tags": []
   },
   "source": [
    "remove model outputfile"
   ]
  },
  {
   "cell_type": "code",
   "execution_count": 35,
   "id": "1c918fa5",
   "metadata": {
    "execution": {
     "iopub.execute_input": "2025-05-15T18:01:22.011517Z",
     "iopub.status.busy": "2025-05-15T18:01:22.011142Z",
     "iopub.status.idle": "2025-05-15T18:01:22.406718Z",
     "shell.execute_reply": "2025-05-15T18:01:22.406165Z"
    },
    "papermill": {
     "duration": 0.412957,
     "end_time": "2025-05-15T18:01:22.407857",
     "exception": false,
     "start_time": "2025-05-15T18:01:21.994900",
     "status": "completed"
    },
    "tags": []
   },
   "outputs": [
    {
     "name": "stdout",
     "output_type": "stream",
     "text": [
      "Removing: /kaggle/working/model_and_optimizer.pth\n"
     ]
    }
   ],
   "source": [
    "if os.path.exists(model_filepath):\n",
    "    print(f\"Removing: {model_filepath}\")\n",
    "    os.remove(model_filepath)"
   ]
  },
  {
   "cell_type": "markdown",
   "id": "85f5845f",
   "metadata": {
    "papermill": {
     "duration": 0.014732,
     "end_time": "2025-05-15T18:01:22.438525",
     "exception": false,
     "start_time": "2025-05-15T18:01:22.423793",
     "status": "completed"
    },
    "tags": []
   },
   "source": [
    "## BookKeep for future training"
   ]
  },
  {
   "cell_type": "code",
   "execution_count": 36,
   "id": "5d66b2bb",
   "metadata": {
    "execution": {
     "iopub.execute_input": "2025-05-15T18:01:22.469274Z",
     "iopub.status.busy": "2025-05-15T18:01:22.468720Z",
     "iopub.status.idle": "2025-05-15T18:01:22.495037Z",
     "shell.execute_reply": "2025-05-15T18:01:22.494468Z"
    },
    "papermill": {
     "duration": 0.042846,
     "end_time": "2025-05-15T18:01:22.496008",
     "exception": false,
     "start_time": "2025-05-15T18:01:22.453162",
     "status": "completed"
    },
    "tags": []
   },
   "outputs": [
    {
     "data": {
      "text/html": [
       "<div>\n",
       "<style scoped>\n",
       "    .dataframe tbody tr th:only-of-type {\n",
       "        vertical-align: middle;\n",
       "    }\n",
       "\n",
       "    .dataframe tbody tr th {\n",
       "        vertical-align: top;\n",
       "    }\n",
       "\n",
       "    .dataframe thead th {\n",
       "        text-align: right;\n",
       "    }\n",
       "</style>\n",
       "<table border=\"1\" class=\"dataframe\">\n",
       "  <thead>\n",
       "    <tr style=\"text-align: right;\">\n",
       "      <th></th>\n",
       "      <th>book_id</th>\n",
       "    </tr>\n",
       "  </thead>\n",
       "  <tbody>\n",
       "    <tr>\n",
       "      <th>0</th>\n",
       "      <td>1</td>\n",
       "    </tr>\n",
       "    <tr>\n",
       "      <th>1</th>\n",
       "      <td>3</td>\n",
       "    </tr>\n",
       "    <tr>\n",
       "      <th>2</th>\n",
       "      <td>7</td>\n",
       "    </tr>\n",
       "    <tr>\n",
       "      <th>3</th>\n",
       "      <td>9</td>\n",
       "    </tr>\n",
       "    <tr>\n",
       "      <th>4</th>\n",
       "      <td>10</td>\n",
       "    </tr>\n",
       "    <tr>\n",
       "      <th>...</th>\n",
       "      <td>...</td>\n",
       "    </tr>\n",
       "    <tr>\n",
       "      <th>2995</th>\n",
       "      <td>7467</td>\n",
       "    </tr>\n",
       "    <tr>\n",
       "      <th>2996</th>\n",
       "      <td>7468</td>\n",
       "    </tr>\n",
       "    <tr>\n",
       "      <th>2997</th>\n",
       "      <td>7469</td>\n",
       "    </tr>\n",
       "    <tr>\n",
       "      <th>2998</th>\n",
       "      <td>7472</td>\n",
       "    </tr>\n",
       "    <tr>\n",
       "      <th>2999</th>\n",
       "      <td>7477</td>\n",
       "    </tr>\n",
       "  </tbody>\n",
       "</table>\n",
       "<p>3000 rows × 1 columns</p>\n",
       "</div>"
      ],
      "text/plain": [
       "      book_id\n",
       "0           1\n",
       "1           3\n",
       "2           7\n",
       "3           9\n",
       "4          10\n",
       "...       ...\n",
       "2995     7467\n",
       "2996     7468\n",
       "2997     7469\n",
       "2998     7472\n",
       "2999     7477\n",
       "\n",
       "[3000 rows x 1 columns]"
      ]
     },
     "execution_count": 36,
     "metadata": {},
     "output_type": "execute_result"
    }
   ],
   "source": [
    "# bookkeep_processed_book_ids_file\n",
    "df_bookkeep_delta = pd.DataFrame([{'book_id': book_id} for book_id in gutenberg_book_ids[0:3000]])\n",
    "\n",
    "if os.path.exists(bookkeep_processed_book_ids_file):\n",
    "    df_bookkeep = pd.read_csv(bookkeep_processed_book_ids_file)\n",
    "    df_bookkeep_delta = pd.concat([df_bookkeep, df_bookkeep_delta], axis=0)\n",
    "    \n",
    "df_bookkeep_delta.to_csv(os.path.basename(bookkeep_processed_book_ids_file), index=False)\n",
    "df_bookkeep_delta"
   ]
  },
  {
   "cell_type": "markdown",
   "id": "bbe10590",
   "metadata": {
    "papermill": {
     "duration": 0.014661,
     "end_time": "2025-05-15T18:01:22.525600",
     "exception": false,
     "start_time": "2025-05-15T18:01:22.510939",
     "status": "completed"
    },
    "tags": []
   },
   "source": [
    "#"
   ]
  }
 ],
 "metadata": {
  "kaggle": {
   "accelerator": "none",
   "dataSources": [
    {
     "sourceId": 239328575,
     "sourceType": "kernelVersion"
    }
   ],
   "dockerImageVersionId": 31012,
   "isGpuEnabled": false,
   "isInternetEnabled": true,
   "language": "python",
   "sourceType": "notebook"
  },
  "kernelspec": {
   "display_name": "Python 3",
   "language": "python",
   "name": "python3"
  },
  "language_info": {
   "codemirror_mode": {
    "name": "ipython",
    "version": 3
   },
   "file_extension": ".py",
   "mimetype": "text/x-python",
   "name": "python",
   "nbconvert_exporter": "python",
   "pygments_lexer": "ipython3",
   "version": "3.11.11"
  },
  "papermill": {
   "default_parameters": {},
   "duration": 31084.822276,
   "end_time": "2025-05-15T18:01:25.425254",
   "environment_variables": {},
   "exception": null,
   "input_path": "__notebook__.ipynb",
   "output_path": "__notebook__.ipynb",
   "parameters": {},
   "start_time": "2025-05-15T09:23:20.602978",
   "version": "2.6.0"
  },
  "widgets": {
   "application/vnd.jupyter.widget-state+json": {
    "state": {
     "0a0bb1f1b42647fa8d928edbc3b9e7fa": {
      "model_module": "@jupyter-widgets/base",
      "model_module_version": "2.0.0",
      "model_name": "LayoutModel",
      "state": {
       "_model_module": "@jupyter-widgets/base",
       "_model_module_version": "2.0.0",
       "_model_name": "LayoutModel",
       "_view_count": null,
       "_view_module": "@jupyter-widgets/base",
       "_view_module_version": "2.0.0",
       "_view_name": "LayoutView",
       "align_content": null,
       "align_items": null,
       "align_self": null,
       "border_bottom": null,
       "border_left": null,
       "border_right": null,
       "border_top": null,
       "bottom": null,
       "display": null,
       "flex": null,
       "flex_flow": null,
       "grid_area": null,
       "grid_auto_columns": null,
       "grid_auto_flow": null,
       "grid_auto_rows": null,
       "grid_column": null,
       "grid_gap": null,
       "grid_row": null,
       "grid_template_areas": null,
       "grid_template_columns": null,
       "grid_template_rows": null,
       "height": null,
       "justify_content": null,
       "justify_items": null,
       "left": null,
       "margin": null,
       "max_height": null,
       "max_width": null,
       "min_height": null,
       "min_width": null,
       "object_fit": null,
       "object_position": null,
       "order": null,
       "overflow": null,
       "padding": null,
       "right": null,
       "top": null,
       "visibility": null,
       "width": null
      }
     },
     "117b2d0175f547bc9d0a9ba2bc5ec86b": {
      "model_module": "@jupyter-widgets/base",
      "model_module_version": "2.0.0",
      "model_name": "LayoutModel",
      "state": {
       "_model_module": "@jupyter-widgets/base",
       "_model_module_version": "2.0.0",
       "_model_name": "LayoutModel",
       "_view_count": null,
       "_view_module": "@jupyter-widgets/base",
       "_view_module_version": "2.0.0",
       "_view_name": "LayoutView",
       "align_content": null,
       "align_items": null,
       "align_self": null,
       "border_bottom": null,
       "border_left": null,
       "border_right": null,
       "border_top": null,
       "bottom": null,
       "display": null,
       "flex": null,
       "flex_flow": null,
       "grid_area": null,
       "grid_auto_columns": null,
       "grid_auto_flow": null,
       "grid_auto_rows": null,
       "grid_column": null,
       "grid_gap": null,
       "grid_row": null,
       "grid_template_areas": null,
       "grid_template_columns": null,
       "grid_template_rows": null,
       "height": null,
       "justify_content": null,
       "justify_items": null,
       "left": null,
       "margin": null,
       "max_height": null,
       "max_width": null,
       "min_height": null,
       "min_width": null,
       "object_fit": null,
       "object_position": null,
       "order": null,
       "overflow": null,
       "padding": null,
       "right": null,
       "top": null,
       "visibility": null,
       "width": null
      }
     },
     "1d8980f4467f436b8d4ade812e4438ac": {
      "model_module": "@jupyter-widgets/controls",
      "model_module_version": "2.0.0",
      "model_name": "HBoxModel",
      "state": {
       "_dom_classes": [],
       "_model_module": "@jupyter-widgets/controls",
       "_model_module_version": "2.0.0",
       "_model_name": "HBoxModel",
       "_view_count": null,
       "_view_module": "@jupyter-widgets/controls",
       "_view_module_version": "2.0.0",
       "_view_name": "HBoxView",
       "box_style": "",
       "children": [
        "IPY_MODEL_d942f4e2b7a842c6a22e9e59ce9f2347",
        "IPY_MODEL_89a9be70ad804745aa2eebf90ffa3e36",
        "IPY_MODEL_2e6cc4b501d44ec4af0d222ff0242d62"
       ],
       "layout": "IPY_MODEL_75c3845365fc43ea80d1a0df4903895b",
       "tabbable": null,
       "tooltip": null
      }
     },
     "20969a987cf043abac3b4a8e7d9f40b1": {
      "model_module": "@jupyter-widgets/controls",
      "model_module_version": "2.0.0",
      "model_name": "HTMLStyleModel",
      "state": {
       "_model_module": "@jupyter-widgets/controls",
       "_model_module_version": "2.0.0",
       "_model_name": "HTMLStyleModel",
       "_view_count": null,
       "_view_module": "@jupyter-widgets/base",
       "_view_module_version": "2.0.0",
       "_view_name": "StyleView",
       "background": null,
       "description_width": "",
       "font_size": null,
       "text_color": null
      }
     },
     "22439519b6f444fa9d87b0f0672b64f8": {
      "model_module": "@jupyter-widgets/controls",
      "model_module_version": "2.0.0",
      "model_name": "HTMLModel",
      "state": {
       "_dom_classes": [],
       "_model_module": "@jupyter-widgets/controls",
       "_model_module_version": "2.0.0",
       "_model_name": "HTMLModel",
       "_view_count": null,
       "_view_module": "@jupyter-widgets/controls",
       "_view_module_version": "2.0.0",
       "_view_name": "HTMLView",
       "description": "",
       "description_allow_html": false,
       "layout": "IPY_MODEL_b058782b61ef4b7aa979c7f4afe7884f",
       "placeholder": "​",
       "style": "IPY_MODEL_f19bda35ec144c4aac5bbdad6c5b07bd",
       "tabbable": null,
       "tooltip": null,
       "value": "model.safetensors: 100%"
      }
     },
     "2a60800d18614c82a74e963ba44758a5": {
      "model_module": "@jupyter-widgets/controls",
      "model_module_version": "2.0.0",
      "model_name": "HBoxModel",
      "state": {
       "_dom_classes": [],
       "_model_module": "@jupyter-widgets/controls",
       "_model_module_version": "2.0.0",
       "_model_name": "HBoxModel",
       "_view_count": null,
       "_view_module": "@jupyter-widgets/controls",
       "_view_module_version": "2.0.0",
       "_view_name": "HBoxView",
       "box_style": "",
       "children": [
        "IPY_MODEL_22439519b6f444fa9d87b0f0672b64f8",
        "IPY_MODEL_5aca96493fa14a749e37964dbbcb1dd4",
        "IPY_MODEL_8a46ac2875714973bfe9e135b457d9cd"
       ],
       "layout": "IPY_MODEL_0a0bb1f1b42647fa8d928edbc3b9e7fa",
       "tabbable": null,
       "tooltip": null
      }
     },
     "2e6cc4b501d44ec4af0d222ff0242d62": {
      "model_module": "@jupyter-widgets/controls",
      "model_module_version": "2.0.0",
      "model_name": "HTMLModel",
      "state": {
       "_dom_classes": [],
       "_model_module": "@jupyter-widgets/controls",
       "_model_module_version": "2.0.0",
       "_model_name": "HTMLModel",
       "_view_count": null,
       "_view_module": "@jupyter-widgets/controls",
       "_view_module_version": "2.0.0",
       "_view_name": "HTMLView",
       "description": "",
       "description_allow_html": false,
       "layout": "IPY_MODEL_65aca07c59804db7a3c33eb8b078d4b0",
       "placeholder": "​",
       "style": "IPY_MODEL_5bc504180f714bc4875828713263ed9e",
       "tabbable": null,
       "tooltip": null,
       "value": " 702M/702M [00:11&lt;00:00, 67.9MB/s]"
      }
     },
     "39d43bba5ca04218961b7c6ae0533afd": {
      "model_module": "@jupyter-widgets/controls",
      "model_module_version": "2.0.0",
      "model_name": "HTMLModel",
      "state": {
       "_dom_classes": [],
       "_model_module": "@jupyter-widgets/controls",
       "_model_module_version": "2.0.0",
       "_model_name": "HTMLModel",
       "_view_count": null,
       "_view_module": "@jupyter-widgets/controls",
       "_view_module_version": "2.0.0",
       "_view_name": "HTMLView",
       "description": "",
       "description_allow_html": false,
       "layout": "IPY_MODEL_d882a0da5d8141458e75ed0fbe914b7c",
       "placeholder": "​",
       "style": "IPY_MODEL_42632642e99c4b7c9fb0610b99337b39",
       "tabbable": null,
       "tooltip": null,
       "value": "config.json: 100%"
      }
     },
     "42632642e99c4b7c9fb0610b99337b39": {
      "model_module": "@jupyter-widgets/controls",
      "model_module_version": "2.0.0",
      "model_name": "HTMLStyleModel",
      "state": {
       "_model_module": "@jupyter-widgets/controls",
       "_model_module_version": "2.0.0",
       "_model_name": "HTMLStyleModel",
       "_view_count": null,
       "_view_module": "@jupyter-widgets/base",
       "_view_module_version": "2.0.0",
       "_view_name": "StyleView",
       "background": null,
       "description_width": "",
       "font_size": null,
       "text_color": null
      }
     },
     "455ba03946ba4bf1af7328edb6466931": {
      "model_module": "@jupyter-widgets/controls",
      "model_module_version": "2.0.0",
      "model_name": "HBoxModel",
      "state": {
       "_dom_classes": [],
       "_model_module": "@jupyter-widgets/controls",
       "_model_module_version": "2.0.0",
       "_model_name": "HBoxModel",
       "_view_count": null,
       "_view_module": "@jupyter-widgets/controls",
       "_view_module_version": "2.0.0",
       "_view_name": "HBoxView",
       "box_style": "",
       "children": [
        "IPY_MODEL_39d43bba5ca04218961b7c6ae0533afd",
        "IPY_MODEL_d39f59d67f56432d8370eb427eb306d1",
        "IPY_MODEL_c613c08162ca41a4a401fd50e790c842"
       ],
       "layout": "IPY_MODEL_7c1b063b38e6447ba4ade4f6122dba69",
       "tabbable": null,
       "tooltip": null
      }
     },
     "5aca96493fa14a749e37964dbbcb1dd4": {
      "model_module": "@jupyter-widgets/controls",
      "model_module_version": "2.0.0",
      "model_name": "FloatProgressModel",
      "state": {
       "_dom_classes": [],
       "_model_module": "@jupyter-widgets/controls",
       "_model_module_version": "2.0.0",
       "_model_name": "FloatProgressModel",
       "_view_count": null,
       "_view_module": "@jupyter-widgets/controls",
       "_view_module_version": "2.0.0",
       "_view_name": "ProgressView",
       "bar_style": "success",
       "description": "",
       "description_allow_html": false,
       "layout": "IPY_MODEL_d839b867e83c491f871700e72eee5905",
       "max": 702387080,
       "min": 0,
       "orientation": "horizontal",
       "style": "IPY_MODEL_ee1d0a5cee5b4a29a583ee2514b785b2",
       "tabbable": null,
       "tooltip": null,
       "value": 702387080
      }
     },
     "5b39db27c6c2435090f148bd26bc950b": {
      "model_module": "@jupyter-widgets/controls",
      "model_module_version": "2.0.0",
      "model_name": "ProgressStyleModel",
      "state": {
       "_model_module": "@jupyter-widgets/controls",
       "_model_module_version": "2.0.0",
       "_model_name": "ProgressStyleModel",
       "_view_count": null,
       "_view_module": "@jupyter-widgets/base",
       "_view_module_version": "2.0.0",
       "_view_name": "StyleView",
       "bar_color": null,
       "description_width": ""
      }
     },
     "5bc504180f714bc4875828713263ed9e": {
      "model_module": "@jupyter-widgets/controls",
      "model_module_version": "2.0.0",
      "model_name": "HTMLStyleModel",
      "state": {
       "_model_module": "@jupyter-widgets/controls",
       "_model_module_version": "2.0.0",
       "_model_name": "HTMLStyleModel",
       "_view_count": null,
       "_view_module": "@jupyter-widgets/base",
       "_view_module_version": "2.0.0",
       "_view_name": "StyleView",
       "background": null,
       "description_width": "",
       "font_size": null,
       "text_color": null
      }
     },
     "642407a3169346e2b6fa8ca0c945fa4e": {
      "model_module": "@jupyter-widgets/base",
      "model_module_version": "2.0.0",
      "model_name": "LayoutModel",
      "state": {
       "_model_module": "@jupyter-widgets/base",
       "_model_module_version": "2.0.0",
       "_model_name": "LayoutModel",
       "_view_count": null,
       "_view_module": "@jupyter-widgets/base",
       "_view_module_version": "2.0.0",
       "_view_name": "LayoutView",
       "align_content": null,
       "align_items": null,
       "align_self": null,
       "border_bottom": null,
       "border_left": null,
       "border_right": null,
       "border_top": null,
       "bottom": null,
       "display": null,
       "flex": null,
       "flex_flow": null,
       "grid_area": null,
       "grid_auto_columns": null,
       "grid_auto_flow": null,
       "grid_auto_rows": null,
       "grid_column": null,
       "grid_gap": null,
       "grid_row": null,
       "grid_template_areas": null,
       "grid_template_columns": null,
       "grid_template_rows": null,
       "height": null,
       "justify_content": null,
       "justify_items": null,
       "left": null,
       "margin": null,
       "max_height": null,
       "max_width": null,
       "min_height": null,
       "min_width": null,
       "object_fit": null,
       "object_position": null,
       "order": null,
       "overflow": null,
       "padding": null,
       "right": null,
       "top": null,
       "visibility": null,
       "width": null
      }
     },
     "65aca07c59804db7a3c33eb8b078d4b0": {
      "model_module": "@jupyter-widgets/base",
      "model_module_version": "2.0.0",
      "model_name": "LayoutModel",
      "state": {
       "_model_module": "@jupyter-widgets/base",
       "_model_module_version": "2.0.0",
       "_model_name": "LayoutModel",
       "_view_count": null,
       "_view_module": "@jupyter-widgets/base",
       "_view_module_version": "2.0.0",
       "_view_name": "LayoutView",
       "align_content": null,
       "align_items": null,
       "align_self": null,
       "border_bottom": null,
       "border_left": null,
       "border_right": null,
       "border_top": null,
       "bottom": null,
       "display": null,
       "flex": null,
       "flex_flow": null,
       "grid_area": null,
       "grid_auto_columns": null,
       "grid_auto_flow": null,
       "grid_auto_rows": null,
       "grid_column": null,
       "grid_gap": null,
       "grid_row": null,
       "grid_template_areas": null,
       "grid_template_columns": null,
       "grid_template_rows": null,
       "height": null,
       "justify_content": null,
       "justify_items": null,
       "left": null,
       "margin": null,
       "max_height": null,
       "max_width": null,
       "min_height": null,
       "min_width": null,
       "object_fit": null,
       "object_position": null,
       "order": null,
       "overflow": null,
       "padding": null,
       "right": null,
       "top": null,
       "visibility": null,
       "width": null
      }
     },
     "6f61f9e8c9014ed0985ac96712698813": {
      "model_module": "@jupyter-widgets/controls",
      "model_module_version": "2.0.0",
      "model_name": "HTMLStyleModel",
      "state": {
       "_model_module": "@jupyter-widgets/controls",
       "_model_module_version": "2.0.0",
       "_model_name": "HTMLStyleModel",
       "_view_count": null,
       "_view_module": "@jupyter-widgets/base",
       "_view_module_version": "2.0.0",
       "_view_name": "StyleView",
       "background": null,
       "description_width": "",
       "font_size": null,
       "text_color": null
      }
     },
     "7396a3b16ff9442b89a8e40ea1e4b3d5": {
      "model_module": "@jupyter-widgets/base",
      "model_module_version": "2.0.0",
      "model_name": "LayoutModel",
      "state": {
       "_model_module": "@jupyter-widgets/base",
       "_model_module_version": "2.0.0",
       "_model_name": "LayoutModel",
       "_view_count": null,
       "_view_module": "@jupyter-widgets/base",
       "_view_module_version": "2.0.0",
       "_view_name": "LayoutView",
       "align_content": null,
       "align_items": null,
       "align_self": null,
       "border_bottom": null,
       "border_left": null,
       "border_right": null,
       "border_top": null,
       "bottom": null,
       "display": null,
       "flex": null,
       "flex_flow": null,
       "grid_area": null,
       "grid_auto_columns": null,
       "grid_auto_flow": null,
       "grid_auto_rows": null,
       "grid_column": null,
       "grid_gap": null,
       "grid_row": null,
       "grid_template_areas": null,
       "grid_template_columns": null,
       "grid_template_rows": null,
       "height": null,
       "justify_content": null,
       "justify_items": null,
       "left": null,
       "margin": null,
       "max_height": null,
       "max_width": null,
       "min_height": null,
       "min_width": null,
       "object_fit": null,
       "object_position": null,
       "order": null,
       "overflow": null,
       "padding": null,
       "right": null,
       "top": null,
       "visibility": null,
       "width": null
      }
     },
     "75c3845365fc43ea80d1a0df4903895b": {
      "model_module": "@jupyter-widgets/base",
      "model_module_version": "2.0.0",
      "model_name": "LayoutModel",
      "state": {
       "_model_module": "@jupyter-widgets/base",
       "_model_module_version": "2.0.0",
       "_model_name": "LayoutModel",
       "_view_count": null,
       "_view_module": "@jupyter-widgets/base",
       "_view_module_version": "2.0.0",
       "_view_name": "LayoutView",
       "align_content": null,
       "align_items": null,
       "align_self": null,
       "border_bottom": null,
       "border_left": null,
       "border_right": null,
       "border_top": null,
       "bottom": null,
       "display": null,
       "flex": null,
       "flex_flow": null,
       "grid_area": null,
       "grid_auto_columns": null,
       "grid_auto_flow": null,
       "grid_auto_rows": null,
       "grid_column": null,
       "grid_gap": null,
       "grid_row": null,
       "grid_template_areas": null,
       "grid_template_columns": null,
       "grid_template_rows": null,
       "height": null,
       "justify_content": null,
       "justify_items": null,
       "left": null,
       "margin": null,
       "max_height": null,
       "max_width": null,
       "min_height": null,
       "min_width": null,
       "object_fit": null,
       "object_position": null,
       "order": null,
       "overflow": null,
       "padding": null,
       "right": null,
       "top": null,
       "visibility": null,
       "width": null
      }
     },
     "7c1b063b38e6447ba4ade4f6122dba69": {
      "model_module": "@jupyter-widgets/base",
      "model_module_version": "2.0.0",
      "model_name": "LayoutModel",
      "state": {
       "_model_module": "@jupyter-widgets/base",
       "_model_module_version": "2.0.0",
       "_model_name": "LayoutModel",
       "_view_count": null,
       "_view_module": "@jupyter-widgets/base",
       "_view_module_version": "2.0.0",
       "_view_name": "LayoutView",
       "align_content": null,
       "align_items": null,
       "align_self": null,
       "border_bottom": null,
       "border_left": null,
       "border_right": null,
       "border_top": null,
       "bottom": null,
       "display": null,
       "flex": null,
       "flex_flow": null,
       "grid_area": null,
       "grid_auto_columns": null,
       "grid_auto_flow": null,
       "grid_auto_rows": null,
       "grid_column": null,
       "grid_gap": null,
       "grid_row": null,
       "grid_template_areas": null,
       "grid_template_columns": null,
       "grid_template_rows": null,
       "height": null,
       "justify_content": null,
       "justify_items": null,
       "left": null,
       "margin": null,
       "max_height": null,
       "max_width": null,
       "min_height": null,
       "min_width": null,
       "object_fit": null,
       "object_position": null,
       "order": null,
       "overflow": null,
       "padding": null,
       "right": null,
       "top": null,
       "visibility": null,
       "width": null
      }
     },
     "839e941de6d24b44ae4869ea4c0381cf": {
      "model_module": "@jupyter-widgets/controls",
      "model_module_version": "2.0.0",
      "model_name": "HTMLStyleModel",
      "state": {
       "_model_module": "@jupyter-widgets/controls",
       "_model_module_version": "2.0.0",
       "_model_name": "HTMLStyleModel",
       "_view_count": null,
       "_view_module": "@jupyter-widgets/base",
       "_view_module_version": "2.0.0",
       "_view_name": "StyleView",
       "background": null,
       "description_width": "",
       "font_size": null,
       "text_color": null
      }
     },
     "89a9be70ad804745aa2eebf90ffa3e36": {
      "model_module": "@jupyter-widgets/controls",
      "model_module_version": "2.0.0",
      "model_name": "FloatProgressModel",
      "state": {
       "_dom_classes": [],
       "_model_module": "@jupyter-widgets/controls",
       "_model_module_version": "2.0.0",
       "_model_name": "FloatProgressModel",
       "_view_count": null,
       "_view_module": "@jupyter-widgets/controls",
       "_view_module_version": "2.0.0",
       "_view_name": "ProgressView",
       "bar_style": "success",
       "description": "",
       "description_allow_html": false,
       "layout": "IPY_MODEL_642407a3169346e2b6fa8ca0c945fa4e",
       "max": 702387080,
       "min": 0,
       "orientation": "horizontal",
       "style": "IPY_MODEL_5b39db27c6c2435090f148bd26bc950b",
       "tabbable": null,
       "tooltip": null,
       "value": 702387080
      }
     },
     "8a46ac2875714973bfe9e135b457d9cd": {
      "model_module": "@jupyter-widgets/controls",
      "model_module_version": "2.0.0",
      "model_name": "HTMLModel",
      "state": {
       "_dom_classes": [],
       "_model_module": "@jupyter-widgets/controls",
       "_model_module_version": "2.0.0",
       "_model_name": "HTMLModel",
       "_view_count": null,
       "_view_module": "@jupyter-widgets/controls",
       "_view_module_version": "2.0.0",
       "_view_name": "HTMLView",
       "description": "",
       "description_allow_html": false,
       "layout": "IPY_MODEL_117b2d0175f547bc9d0a9ba2bc5ec86b",
       "placeholder": "​",
       "style": "IPY_MODEL_20969a987cf043abac3b4a8e7d9f40b1",
       "tabbable": null,
       "tooltip": null,
       "value": " 702M/702M [00:14&lt;00:00, 44.2MB/s]"
      }
     },
     "97875b3f9af74d36a194442eebdcd3bc": {
      "model_module": "@jupyter-widgets/controls",
      "model_module_version": "2.0.0",
      "model_name": "ProgressStyleModel",
      "state": {
       "_model_module": "@jupyter-widgets/controls",
       "_model_module_version": "2.0.0",
       "_model_name": "ProgressStyleModel",
       "_view_count": null,
       "_view_module": "@jupyter-widgets/base",
       "_view_module_version": "2.0.0",
       "_view_name": "StyleView",
       "bar_color": null,
       "description_width": ""
      }
     },
     "b058782b61ef4b7aa979c7f4afe7884f": {
      "model_module": "@jupyter-widgets/base",
      "model_module_version": "2.0.0",
      "model_name": "LayoutModel",
      "state": {
       "_model_module": "@jupyter-widgets/base",
       "_model_module_version": "2.0.0",
       "_model_name": "LayoutModel",
       "_view_count": null,
       "_view_module": "@jupyter-widgets/base",
       "_view_module_version": "2.0.0",
       "_view_name": "LayoutView",
       "align_content": null,
       "align_items": null,
       "align_self": null,
       "border_bottom": null,
       "border_left": null,
       "border_right": null,
       "border_top": null,
       "bottom": null,
       "display": null,
       "flex": null,
       "flex_flow": null,
       "grid_area": null,
       "grid_auto_columns": null,
       "grid_auto_flow": null,
       "grid_auto_rows": null,
       "grid_column": null,
       "grid_gap": null,
       "grid_row": null,
       "grid_template_areas": null,
       "grid_template_columns": null,
       "grid_template_rows": null,
       "height": null,
       "justify_content": null,
       "justify_items": null,
       "left": null,
       "margin": null,
       "max_height": null,
       "max_width": null,
       "min_height": null,
       "min_width": null,
       "object_fit": null,
       "object_position": null,
       "order": null,
       "overflow": null,
       "padding": null,
       "right": null,
       "top": null,
       "visibility": null,
       "width": null
      }
     },
     "c613c08162ca41a4a401fd50e790c842": {
      "model_module": "@jupyter-widgets/controls",
      "model_module_version": "2.0.0",
      "model_name": "HTMLModel",
      "state": {
       "_dom_classes": [],
       "_model_module": "@jupyter-widgets/controls",
       "_model_module_version": "2.0.0",
       "_model_name": "HTMLModel",
       "_view_count": null,
       "_view_module": "@jupyter-widgets/controls",
       "_view_module_version": "2.0.0",
       "_view_name": "HTMLView",
       "description": "",
       "description_allow_html": false,
       "layout": "IPY_MODEL_ea76407af3bc4f5f9fc00094aa79fd90",
       "placeholder": "​",
       "style": "IPY_MODEL_6f61f9e8c9014ed0985ac96712698813",
       "tabbable": null,
       "tooltip": null,
       "value": " 174/174 [00:00&lt;00:00, 19.8kB/s]"
      }
     },
     "d39f59d67f56432d8370eb427eb306d1": {
      "model_module": "@jupyter-widgets/controls",
      "model_module_version": "2.0.0",
      "model_name": "FloatProgressModel",
      "state": {
       "_dom_classes": [],
       "_model_module": "@jupyter-widgets/controls",
       "_model_module_version": "2.0.0",
       "_model_name": "FloatProgressModel",
       "_view_count": null,
       "_view_module": "@jupyter-widgets/controls",
       "_view_module_version": "2.0.0",
       "_view_name": "ProgressView",
       "bar_style": "success",
       "description": "",
       "description_allow_html": false,
       "layout": "IPY_MODEL_7396a3b16ff9442b89a8e40ea1e4b3d5",
       "max": 174,
       "min": 0,
       "orientation": "horizontal",
       "style": "IPY_MODEL_97875b3f9af74d36a194442eebdcd3bc",
       "tabbable": null,
       "tooltip": null,
       "value": 174
      }
     },
     "d839b867e83c491f871700e72eee5905": {
      "model_module": "@jupyter-widgets/base",
      "model_module_version": "2.0.0",
      "model_name": "LayoutModel",
      "state": {
       "_model_module": "@jupyter-widgets/base",
       "_model_module_version": "2.0.0",
       "_model_name": "LayoutModel",
       "_view_count": null,
       "_view_module": "@jupyter-widgets/base",
       "_view_module_version": "2.0.0",
       "_view_name": "LayoutView",
       "align_content": null,
       "align_items": null,
       "align_self": null,
       "border_bottom": null,
       "border_left": null,
       "border_right": null,
       "border_top": null,
       "bottom": null,
       "display": null,
       "flex": null,
       "flex_flow": null,
       "grid_area": null,
       "grid_auto_columns": null,
       "grid_auto_flow": null,
       "grid_auto_rows": null,
       "grid_column": null,
       "grid_gap": null,
       "grid_row": null,
       "grid_template_areas": null,
       "grid_template_columns": null,
       "grid_template_rows": null,
       "height": null,
       "justify_content": null,
       "justify_items": null,
       "left": null,
       "margin": null,
       "max_height": null,
       "max_width": null,
       "min_height": null,
       "min_width": null,
       "object_fit": null,
       "object_position": null,
       "order": null,
       "overflow": null,
       "padding": null,
       "right": null,
       "top": null,
       "visibility": null,
       "width": null
      }
     },
     "d882a0da5d8141458e75ed0fbe914b7c": {
      "model_module": "@jupyter-widgets/base",
      "model_module_version": "2.0.0",
      "model_name": "LayoutModel",
      "state": {
       "_model_module": "@jupyter-widgets/base",
       "_model_module_version": "2.0.0",
       "_model_name": "LayoutModel",
       "_view_count": null,
       "_view_module": "@jupyter-widgets/base",
       "_view_module_version": "2.0.0",
       "_view_name": "LayoutView",
       "align_content": null,
       "align_items": null,
       "align_self": null,
       "border_bottom": null,
       "border_left": null,
       "border_right": null,
       "border_top": null,
       "bottom": null,
       "display": null,
       "flex": null,
       "flex_flow": null,
       "grid_area": null,
       "grid_auto_columns": null,
       "grid_auto_flow": null,
       "grid_auto_rows": null,
       "grid_column": null,
       "grid_gap": null,
       "grid_row": null,
       "grid_template_areas": null,
       "grid_template_columns": null,
       "grid_template_rows": null,
       "height": null,
       "justify_content": null,
       "justify_items": null,
       "left": null,
       "margin": null,
       "max_height": null,
       "max_width": null,
       "min_height": null,
       "min_width": null,
       "object_fit": null,
       "object_position": null,
       "order": null,
       "overflow": null,
       "padding": null,
       "right": null,
       "top": null,
       "visibility": null,
       "width": null
      }
     },
     "d942f4e2b7a842c6a22e9e59ce9f2347": {
      "model_module": "@jupyter-widgets/controls",
      "model_module_version": "2.0.0",
      "model_name": "HTMLModel",
      "state": {
       "_dom_classes": [],
       "_model_module": "@jupyter-widgets/controls",
       "_model_module_version": "2.0.0",
       "_model_name": "HTMLModel",
       "_view_count": null,
       "_view_module": "@jupyter-widgets/controls",
       "_view_module_version": "2.0.0",
       "_view_name": "HTMLView",
       "description": "",
       "description_allow_html": false,
       "layout": "IPY_MODEL_df1b03807331471cab47f98271738cdc",
       "placeholder": "​",
       "style": "IPY_MODEL_839e941de6d24b44ae4869ea4c0381cf",
       "tabbable": null,
       "tooltip": null,
       "value": "model.safetensors: 100%"
      }
     },
     "df1b03807331471cab47f98271738cdc": {
      "model_module": "@jupyter-widgets/base",
      "model_module_version": "2.0.0",
      "model_name": "LayoutModel",
      "state": {
       "_model_module": "@jupyter-widgets/base",
       "_model_module_version": "2.0.0",
       "_model_name": "LayoutModel",
       "_view_count": null,
       "_view_module": "@jupyter-widgets/base",
       "_view_module_version": "2.0.0",
       "_view_name": "LayoutView",
       "align_content": null,
       "align_items": null,
       "align_self": null,
       "border_bottom": null,
       "border_left": null,
       "border_right": null,
       "border_top": null,
       "bottom": null,
       "display": null,
       "flex": null,
       "flex_flow": null,
       "grid_area": null,
       "grid_auto_columns": null,
       "grid_auto_flow": null,
       "grid_auto_rows": null,
       "grid_column": null,
       "grid_gap": null,
       "grid_row": null,
       "grid_template_areas": null,
       "grid_template_columns": null,
       "grid_template_rows": null,
       "height": null,
       "justify_content": null,
       "justify_items": null,
       "left": null,
       "margin": null,
       "max_height": null,
       "max_width": null,
       "min_height": null,
       "min_width": null,
       "object_fit": null,
       "object_position": null,
       "order": null,
       "overflow": null,
       "padding": null,
       "right": null,
       "top": null,
       "visibility": null,
       "width": null
      }
     },
     "ea76407af3bc4f5f9fc00094aa79fd90": {
      "model_module": "@jupyter-widgets/base",
      "model_module_version": "2.0.0",
      "model_name": "LayoutModel",
      "state": {
       "_model_module": "@jupyter-widgets/base",
       "_model_module_version": "2.0.0",
       "_model_name": "LayoutModel",
       "_view_count": null,
       "_view_module": "@jupyter-widgets/base",
       "_view_module_version": "2.0.0",
       "_view_name": "LayoutView",
       "align_content": null,
       "align_items": null,
       "align_self": null,
       "border_bottom": null,
       "border_left": null,
       "border_right": null,
       "border_top": null,
       "bottom": null,
       "display": null,
       "flex": null,
       "flex_flow": null,
       "grid_area": null,
       "grid_auto_columns": null,
       "grid_auto_flow": null,
       "grid_auto_rows": null,
       "grid_column": null,
       "grid_gap": null,
       "grid_row": null,
       "grid_template_areas": null,
       "grid_template_columns": null,
       "grid_template_rows": null,
       "height": null,
       "justify_content": null,
       "justify_items": null,
       "left": null,
       "margin": null,
       "max_height": null,
       "max_width": null,
       "min_height": null,
       "min_width": null,
       "object_fit": null,
       "object_position": null,
       "order": null,
       "overflow": null,
       "padding": null,
       "right": null,
       "top": null,
       "visibility": null,
       "width": null
      }
     },
     "ee1d0a5cee5b4a29a583ee2514b785b2": {
      "model_module": "@jupyter-widgets/controls",
      "model_module_version": "2.0.0",
      "model_name": "ProgressStyleModel",
      "state": {
       "_model_module": "@jupyter-widgets/controls",
       "_model_module_version": "2.0.0",
       "_model_name": "ProgressStyleModel",
       "_view_count": null,
       "_view_module": "@jupyter-widgets/base",
       "_view_module_version": "2.0.0",
       "_view_name": "StyleView",
       "bar_color": null,
       "description_width": ""
      }
     },
     "f19bda35ec144c4aac5bbdad6c5b07bd": {
      "model_module": "@jupyter-widgets/controls",
      "model_module_version": "2.0.0",
      "model_name": "HTMLStyleModel",
      "state": {
       "_model_module": "@jupyter-widgets/controls",
       "_model_module_version": "2.0.0",
       "_model_name": "HTMLStyleModel",
       "_view_count": null,
       "_view_module": "@jupyter-widgets/base",
       "_view_module_version": "2.0.0",
       "_view_name": "StyleView",
       "background": null,
       "description_width": "",
       "font_size": null,
       "text_color": null
      }
     }
    },
    "version_major": 2,
    "version_minor": 0
   }
  }
 },
 "nbformat": 4,
 "nbformat_minor": 5
}
