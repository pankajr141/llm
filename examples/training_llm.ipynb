{
 "cells": [
  {
   "cell_type": "code",
   "execution_count": 1,
   "id": "91f92f8d",
   "metadata": {
    "_cell_guid": "b1076dfc-b9ad-4769-8c92-a6c4dae69d19",
    "_uuid": "8f2839f25d086af736a60e9eeb907d3b93b6e0e5",
    "execution": {
     "iopub.execute_input": "2025-05-14T17:52:47.570302Z",
     "iopub.status.busy": "2025-05-14T17:52:47.569943Z",
     "iopub.status.idle": "2025-05-14T17:52:50.414427Z",
     "shell.execute_reply": "2025-05-14T17:52:50.413501Z"
    },
    "papermill": {
     "duration": 2.853503,
     "end_time": "2025-05-14T17:52:50.416118",
     "exception": false,
     "start_time": "2025-05-14T17:52:47.562615",
     "status": "completed"
    },
    "tags": []
   },
   "outputs": [
    {
     "name": "stdout",
     "output_type": "stream",
     "text": [
      "Collecting llm_bhasa\r\n",
      "  Downloading llm_bhasa-0.5-py3-none-any.whl.metadata (953 bytes)\r\n",
      "Downloading llm_bhasa-0.5-py3-none-any.whl (19 kB)\r\n",
      "Installing collected packages: llm_bhasa\r\n",
      "Successfully installed llm_bhasa-0.5\r\n"
     ]
    }
   ],
   "source": [
    "!pip install --upgrade --no-dependencies llm_bhasa"
   ]
  },
  {
   "cell_type": "markdown",
   "id": "9050ec95",
   "metadata": {
    "papermill": {
     "duration": 0.005229,
     "end_time": "2025-05-14T17:52:50.427464",
     "exception": false,
     "start_time": "2025-05-14T17:52:50.422235",
     "status": "completed"
    },
    "tags": []
   },
   "source": [
    "# LLM Training"
   ]
  },
  {
   "cell_type": "markdown",
   "id": "f115350d",
   "metadata": {
    "papermill": {
     "duration": 0.005157,
     "end_time": "2025-05-14T17:52:50.439082",
     "exception": false,
     "start_time": "2025-05-14T17:52:50.433925",
     "status": "completed"
    },
    "tags": []
   },
   "source": [
    "## Training - Direct through library"
   ]
  },
  {
   "cell_type": "code",
   "execution_count": 2,
   "id": "ded7b28e",
   "metadata": {
    "execution": {
     "iopub.execute_input": "2025-05-14T17:52:50.451340Z",
     "iopub.status.busy": "2025-05-14T17:52:50.450628Z",
     "iopub.status.idle": "2025-05-14T17:52:57.007596Z",
     "shell.execute_reply": "2025-05-14T17:52:57.006625Z"
    },
    "papermill": {
     "duration": 6.564784,
     "end_time": "2025-05-14T17:52:57.009102",
     "exception": false,
     "start_time": "2025-05-14T17:52:50.444318",
     "status": "completed"
    },
    "tags": []
   },
   "outputs": [],
   "source": [
    "from llm_bhasa.harmony import training\n",
    "training.train?"
   ]
  },
  {
   "cell_type": "code",
   "execution_count": 3,
   "id": "827a71d1",
   "metadata": {
    "execution": {
     "iopub.execute_input": "2025-05-14T17:52:57.022255Z",
     "iopub.status.busy": "2025-05-14T17:52:57.021363Z",
     "iopub.status.idle": "2025-05-14T17:59:45.066876Z",
     "shell.execute_reply": "2025-05-14T17:59:45.065905Z"
    },
    "papermill": {
     "duration": 408.053471,
     "end_time": "2025-05-14T17:59:45.068497",
     "exception": false,
     "start_time": "2025-05-14T17:52:57.015026",
     "status": "completed"
    },
    "tags": []
   },
   "outputs": [
    {
     "name": "stdout",
     "output_type": "stream",
     "text": [
      "Model cannot be loaded as model_and_optimizer.pth doesnt exist\n",
      "Device: cuda\n",
      "##============== Model Summary =========================##\n",
      "# Total number of parameters: 163,009,536\n",
      "# Token embedding layer shape: torch.Size([50257, 768])\n",
      "# Output layer shape: torch.Size([50257, 768])\n",
      "# Number of trainable parameters considering weight tying: 124,412,160\n",
      "# Total size of the model: 621.83 MB\n",
      "##======================================================##\n"
     ]
    },
    {
     "name": "stderr",
     "output_type": "stream",
     "text": [
      "Downloading gutenberg books: 100%|██████████| 3/3 [00:01<00:00,  2.03it/s, success=3, failure=0]\n"
     ]
    },
    {
     "name": "stdout",
     "output_type": "stream",
     "text": [
      "Total filepaths: len['the-verdict.txt', 'gutenberg_books/1342.txt', 'gutenberg_books/84.txt', 'gutenberg_books/1661.txt']\n",
      "Ep 1 (Step 000000): Train loss 11.946, Val loss 11.964\n",
      "Every effort moves you, and                                                \n",
      "Ep 2 (Step 000100): Train loss 7.194, Val loss 8.380\n",
      "Every effort moves you, and I am    ” ” ” ” ” ” ” ” ” ” ” ” ” ” \n",
      "Ep 3 (Step 000200): Train loss 6.590, Val loss 8.195\n",
      "Every effort moves you, and                                                \n",
      "Ep 4 (Step 000300): Train loss 6.071, Val loss 8.021\n",
      "Every effort moves you, and I am sure, and I am sure, and I am not                                   \n",
      "Ep 5 (Step 000400): Train loss 5.487, Val loss 7.952\n",
      "Every effort moves you, and I was a    ” “I have ” ” ” ” ” ” ” ” ” ” ” \n",
      "Ep 6 (Step 000500): Train loss 4.993, Val loss 7.984\n",
      "Every effort moves you  ” “I have been ” ” ” ” ” ” ” ” ” ” ” ” ” \n",
      "Ep 7 (Step 000600): Train loss 4.252, Val loss 7.967\n",
      "Every effort moves you   ” “I have you.” “I am not.” ” ”  ” ”   ”  “I have you.�\n",
      "Ep 8 (Step 000700): Train loss 3.715, Val loss 8.176\n",
      "Every effort moves you   “You may. I will you.” ”  ” ” “You. I will not to be. I have you.” ” ” ”\n",
      "Ep 9 (Step 000800): Train loss 3.085, Val loss 8.387\n",
      "Every effort moves you  “I cannot be “I should be so, that I will be “I am.“You may have no such as I amiable,” “I am sure I am not know that\n",
      "Ep 10 (Step 000900): Train loss 2.415, Val loss 8.637\n",
      "Every effort moves you have been in the trouble        “I will be so. I can, I was in the  ”  “I do you, I was in the “I do you?\n",
      "Model saved to model_and_optimizer.pth\n",
      "CPU times: user 5min 34s, sys: 1min 10s, total: 6min 45s\n",
      "Wall time: 6min 47s\n"
     ]
    },
    {
     "data": {
      "image/png": "[encoded data removed]",
      "text/plain": [
       "<Figure size 500x300 with 1 Axes>"
      ]
     },
     "metadata": {},
     "output_type": "display_data"
    }
   ],
   "source": [
    "%%time\n",
    "\n",
    "from llm_bhasa.harmony import training\n",
    "training.train(num_epochs=10, eval_freq=100)  # Print eval every 100 steps"
   ]
  },
  {
   "cell_type": "markdown",
   "id": "afa8d347",
   "metadata": {
    "papermill": {
     "duration": 0.007272,
     "end_time": "2025-05-14T17:59:45.083547",
     "exception": false,
     "start_time": "2025-05-14T17:59:45.076275",
     "status": "completed"
    },
    "tags": []
   },
   "source": [
    "## Training - Lets break down\n",
    "\n",
    "Below we will break above single line function into building blocks to have more fine grain control"
   ]
  },
  {
   "cell_type": "code",
   "execution_count": 4,
   "id": "cbb719c6",
   "metadata": {
    "execution": {
     "iopub.execute_input": "2025-05-14T17:59:45.100224Z",
     "iopub.status.busy": "2025-05-14T17:59:45.099447Z",
     "iopub.status.idle": "2025-05-14T17:59:45.103872Z",
     "shell.execute_reply": "2025-05-14T17:59:45.103193Z"
    },
    "papermill": {
     "duration": 0.014373,
     "end_time": "2025-05-14T17:59:45.105205",
     "exception": false,
     "start_time": "2025-05-14T17:59:45.090832",
     "status": "completed"
    },
    "tags": []
   },
   "outputs": [],
   "source": [
    "import os\n",
    "import torch\n",
    "import torch.nn as nn\n",
    "from llm_bhasa.harmony import config\n",
    "from llm_bhasa.harmony import model\n",
    "from llm_bhasa.harmony import training\n",
    "from llm_bhasa.harmony import data, dataset"
   ]
  },
  {
   "cell_type": "markdown",
   "id": "0cf6a5ea",
   "metadata": {
    "papermill": {
     "duration": 0.007311,
     "end_time": "2025-05-14T17:59:45.120240",
     "exception": false,
     "start_time": "2025-05-14T17:59:45.112929",
     "status": "completed"
    },
    "tags": []
   },
   "source": [
    "### Download data"
   ]
  },
  {
   "cell_type": "code",
   "execution_count": 5,
   "id": "7a7f3c86",
   "metadata": {
    "execution": {
     "iopub.execute_input": "2025-05-14T17:59:45.136612Z",
     "iopub.status.busy": "2025-05-14T17:59:45.135938Z",
     "iopub.status.idle": "2025-05-14T17:59:45.139771Z",
     "shell.execute_reply": "2025-05-14T17:59:45.139169Z"
    },
    "papermill": {
     "duration": 0.013222,
     "end_time": "2025-05-14T17:59:45.140889",
     "exception": false,
     "start_time": "2025-05-14T17:59:45.127667",
     "status": "completed"
    },
    "tags": []
   },
   "outputs": [],
   "source": [
    "gutenberg_book_ids = range(50000)"
   ]
  },
  {
   "cell_type": "code",
   "execution_count": 6,
   "id": "83c1f828",
   "metadata": {
    "execution": {
     "iopub.execute_input": "2025-05-14T17:59:45.157386Z",
     "iopub.status.busy": "2025-05-14T17:59:45.157009Z",
     "iopub.status.idle": "2025-05-14T17:59:47.302626Z",
     "shell.execute_reply": "2025-05-14T17:59:47.301472Z"
    },
    "papermill": {
     "duration": 2.156288,
     "end_time": "2025-05-14T17:59:47.304676",
     "exception": false,
     "start_time": "2025-05-14T17:59:45.148388",
     "status": "completed"
    },
    "tags": []
   },
   "outputs": [
    {
     "name": "stdout",
     "output_type": "stream",
     "text": [
      "Total book_ids: 47719\n"
     ]
    }
   ],
   "source": [
    "bookkeep_file = \"/kaggle/input/download-gutenberg-book-dataset/guthenberg_bookkeeper.csv\"\n",
    "import pandas as pd\n",
    "\n",
    "if os.path.exists(bookkeep_file):\n",
    "    df_bookkeep = pd.read_csv(bookkeep_file)\n",
    "    df_bookkeep = df_bookkeep[df_bookkeep['status'] == True]\n",
    "    gutenberg_book_ids = df_bookkeep['book_id'].tolist()\n",
    "\n",
    "print(f\"Total book_ids: {len(gutenberg_book_ids)}\")"
   ]
  },
  {
   "cell_type": "code",
   "execution_count": 7,
   "id": "415b675e",
   "metadata": {
    "execution": {
     "iopub.execute_input": "2025-05-14T17:59:47.330110Z",
     "iopub.status.busy": "2025-05-14T17:59:47.329616Z",
     "iopub.status.idle": "2025-05-14T17:59:47.334752Z",
     "shell.execute_reply": "2025-05-14T17:59:47.333551Z"
    },
    "papermill": {
     "duration": 0.023543,
     "end_time": "2025-05-14T17:59:47.336567",
     "exception": false,
     "start_time": "2025-05-14T17:59:47.313024",
     "status": "completed"
    },
    "tags": []
   },
   "outputs": [],
   "source": [
    "# #comment/uncomment to download gutenberg directly from websites\n",
    "# filepaths = data.download_sample_text(gutenberg_book_ids=gutenberg_book_ids, verbose=False, njobs=4)\n",
    "# print(f\"Total Downloaded Books: {len(filepaths)}\")"
   ]
  },
  {
   "cell_type": "code",
   "execution_count": 8,
   "id": "8ce4d980",
   "metadata": {
    "execution": {
     "iopub.execute_input": "2025-05-14T17:59:47.356467Z",
     "iopub.status.busy": "2025-05-14T17:59:47.356004Z",
     "iopub.status.idle": "2025-05-14T17:59:47.393916Z",
     "shell.execute_reply": "2025-05-14T17:59:47.392982Z"
    },
    "papermill": {
     "duration": 0.049044,
     "end_time": "2025-05-14T17:59:47.395518",
     "exception": false,
     "start_time": "2025-05-14T17:59:47.346474",
     "status": "completed"
    },
    "tags": []
   },
   "outputs": [
    {
     "name": "stdout",
     "output_type": "stream",
     "text": [
      "Total Downloaded Books: 47719\n"
     ]
    }
   ],
   "source": [
    "# #comment/uncomment to generate URI, which will be downloaded later\n",
    "base_url = \"https://www.gutenberg.org/files/{}/{}-0.txt\"\n",
    "fileurls = [base_url.format(book_id, book_id) for book_id in gutenberg_book_ids]\n",
    "print(f\"Total Downloaded Books: {len(fileurls)}\")"
   ]
  },
  {
   "cell_type": "code",
   "execution_count": 9,
   "id": "79f508e8",
   "metadata": {
    "execution": {
     "iopub.execute_input": "2025-05-14T17:59:47.412286Z",
     "iopub.status.busy": "2025-05-14T17:59:47.411933Z",
     "iopub.status.idle": "2025-05-14T17:59:47.416191Z",
     "shell.execute_reply": "2025-05-14T17:59:47.415523Z"
    },
    "papermill": {
     "duration": 0.013878,
     "end_time": "2025-05-14T17:59:47.417360",
     "exception": false,
     "start_time": "2025-05-14T17:59:47.403482",
     "status": "completed"
    },
    "tags": []
   },
   "outputs": [],
   "source": [
    "train_data, val_data = training.split_data(fileurls[100:1000], train_ratio=0.90) # Limit number of files"
   ]
  },
  {
   "cell_type": "markdown",
   "id": "db4a461d",
   "metadata": {
    "papermill": {
     "duration": 0.071519,
     "end_time": "2025-05-14T17:59:47.496700",
     "exception": false,
     "start_time": "2025-05-14T17:59:47.425181",
     "status": "completed"
    },
    "tags": []
   },
   "source": [
    "### Data Loaders"
   ]
  },
  {
   "cell_type": "code",
   "execution_count": 10,
   "id": "44c19cd2",
   "metadata": {
    "execution": {
     "iopub.execute_input": "2025-05-14T17:59:47.513742Z",
     "iopub.status.busy": "2025-05-14T17:59:47.513435Z",
     "iopub.status.idle": "2025-05-14T17:59:47.517304Z",
     "shell.execute_reply": "2025-05-14T17:59:47.516659Z"
    },
    "papermill": {
     "duration": 0.013881,
     "end_time": "2025-05-14T17:59:47.518496",
     "exception": false,
     "start_time": "2025-05-14T17:59:47.504615",
     "status": "completed"
    },
    "tags": []
   },
   "outputs": [],
   "source": [
    "model_filepath = \"/kaggle/working/model_and_optimizer.pth\"\n",
    "config_train = config.GPT_CONFIG_124M\n",
    "context_len = config_train['context_length']"
   ]
  },
  {
   "cell_type": "code",
   "execution_count": 11,
   "id": "7b7960ee",
   "metadata": {
    "execution": {
     "iopub.execute_input": "2025-05-14T17:59:47.534971Z",
     "iopub.status.busy": "2025-05-14T17:59:47.534690Z",
     "iopub.status.idle": "2025-05-14T17:59:47.539792Z",
     "shell.execute_reply": "2025-05-14T17:59:47.538916Z"
    },
    "papermill": {
     "duration": 0.015045,
     "end_time": "2025-05-14T17:59:47.541348",
     "exception": false,
     "start_time": "2025-05-14T17:59:47.526303",
     "status": "completed"
    },
    "tags": []
   },
   "outputs": [],
   "source": [
    "# Creating data loader for both train and validation\n",
    "train_loader = dataset.create_dataloader(train_data, batch_size=2, max_length=context_len, stride=context_len,\n",
    "                                         drop_last=True, num_workers=0)\n",
    "\n",
    "val_loader = dataset.create_dataloader(val_data, batch_size=2, max_length=context_len, stride=context_len,\n",
    "                                        drop_last=False, num_workers=0)\n",
    "\n",
    "## Since number of files which wikll be downloaded will be huge, this step can be skipped\n",
    "# for cntr, data in enumerate(train_loader):\n",
    "#     pass\n",
    "# print(f\"Total batches: {cntr}\")"
   ]
  },
  {
   "cell_type": "markdown",
   "id": "21a54c4f",
   "metadata": {
    "papermill": {
     "duration": 0.007483,
     "end_time": "2025-05-14T17:59:47.556873",
     "exception": false,
     "start_time": "2025-05-14T17:59:47.549390",
     "status": "completed"
    },
    "tags": []
   },
   "source": [
    "### Model Defination"
   ]
  },
  {
   "cell_type": "code",
   "execution_count": 12,
   "id": "c4794502",
   "metadata": {
    "execution": {
     "iopub.execute_input": "2025-05-14T17:59:47.573855Z",
     "iopub.status.busy": "2025-05-14T17:59:47.573218Z",
     "iopub.status.idle": "2025-05-14T17:59:47.578585Z",
     "shell.execute_reply": "2025-05-14T17:59:47.577894Z"
    },
    "papermill": {
     "duration": 0.015253,
     "end_time": "2025-05-14T17:59:47.579823",
     "exception": false,
     "start_time": "2025-05-14T17:59:47.564570",
     "status": "completed"
    },
    "tags": []
   },
   "outputs": [
    {
     "data": {
      "text/plain": [
       "device(type='cuda')"
      ]
     },
     "execution_count": 12,
     "metadata": {},
     "output_type": "execute_result"
    }
   ],
   "source": [
    "device = torch.device(\"cuda\" if torch.cuda.is_available() else \"cpu\")\n",
    "device"
   ]
  },
  {
   "cell_type": "code",
   "execution_count": 13,
   "id": "2ca290f0",
   "metadata": {
    "execution": {
     "iopub.execute_input": "2025-05-14T17:59:47.597636Z",
     "iopub.status.busy": "2025-05-14T17:59:47.597336Z",
     "iopub.status.idle": "2025-05-14T17:59:47.603112Z",
     "shell.execute_reply": "2025-05-14T17:59:47.602455Z"
    },
    "papermill": {
     "duration": 0.016413,
     "end_time": "2025-05-14T17:59:47.604512",
     "exception": false,
     "start_time": "2025-05-14T17:59:47.588099",
     "status": "completed"
    },
    "tags": []
   },
   "outputs": [
    {
     "data": {
      "text/plain": [
       "{'vocab_size': 50257,\n",
       " 'context_length': 1024,\n",
       " 'emb_dim': 768,\n",
       " 'n_heads': 12,\n",
       " 'n_layers': 12,\n",
       " 'drop_rate': 0.1,\n",
       " 'qkv_bias': False}"
      ]
     },
     "execution_count": 13,
     "metadata": {},
     "output_type": "execute_result"
    }
   ],
   "source": [
    "config_train"
   ]
  },
  {
   "cell_type": "markdown",
   "id": "3e0d4001",
   "metadata": {
    "papermill": {
     "duration": 0.008139,
     "end_time": "2025-05-14T17:59:47.620976",
     "exception": false,
     "start_time": "2025-05-14T17:59:47.612837",
     "status": "completed"
    },
    "tags": []
   },
   "source": [
    "define our model based on passed configuration, different configuration can also be passed"
   ]
  },
  {
   "cell_type": "code",
   "execution_count": 14,
   "id": "82cf74d5",
   "metadata": {
    "execution": {
     "iopub.execute_input": "2025-05-14T17:59:47.638768Z",
     "iopub.status.busy": "2025-05-14T17:59:47.638317Z",
     "iopub.status.idle": "2025-05-14T17:59:49.298512Z",
     "shell.execute_reply": "2025-05-14T17:59:49.297751Z"
    },
    "papermill": {
     "duration": 1.670749,
     "end_time": "2025-05-14T17:59:49.300026",
     "exception": false,
     "start_time": "2025-05-14T17:59:47.629277",
     "status": "completed"
    },
    "tags": []
   },
   "outputs": [],
   "source": [
    "model_llm = model.LLMModel(config_train)"
   ]
  },
  {
   "cell_type": "code",
   "execution_count": 15,
   "id": "bea6d5e7",
   "metadata": {
    "execution": {
     "iopub.execute_input": "2025-05-14T17:59:49.318318Z",
     "iopub.status.busy": "2025-05-14T17:59:49.318016Z",
     "iopub.status.idle": "2025-05-14T17:59:49.321989Z",
     "shell.execute_reply": "2025-05-14T17:59:49.321165Z"
    },
    "papermill": {
     "duration": 0.01467,
     "end_time": "2025-05-14T17:59:49.323372",
     "exception": false,
     "start_time": "2025-05-14T17:59:49.308702",
     "status": "completed"
    },
    "tags": []
   },
   "outputs": [],
   "source": [
    "# !rm -rf ~/.cache/huggingface/hub  -- delete any cache"
   ]
  },
  {
   "cell_type": "markdown",
   "id": "c321a401",
   "metadata": {
    "papermill": {
     "duration": 0.008126,
     "end_time": "2025-05-14T17:59:49.339874",
     "exception": false,
     "start_time": "2025-05-14T17:59:49.331748",
     "status": "completed"
    },
    "tags": []
   },
   "source": [
    "### Loading Previously trained model from HuggingFace\n",
    "we dont want to train from scratch, lets load previously trained model of same config from huggingface \n",
    "<br/>\n",
    "\n",
    "<b>repo</b> - https://huggingface.co/pankajr141/llm_bhasa_v1"
   ]
  },
  {
   "cell_type": "code",
   "execution_count": 16,
   "id": "cc537b53",
   "metadata": {
    "execution": {
     "iopub.execute_input": "2025-05-14T17:59:49.357971Z",
     "iopub.status.busy": "2025-05-14T17:59:49.357325Z",
     "iopub.status.idle": "2025-05-14T17:59:49.362941Z",
     "shell.execute_reply": "2025-05-14T17:59:49.362071Z"
    },
    "papermill": {
     "duration": 0.015906,
     "end_time": "2025-05-14T17:59:49.364253",
     "exception": false,
     "start_time": "2025-05-14T17:59:49.348347",
     "status": "completed"
    },
    "tags": []
   },
   "outputs": [
    {
     "data": {
      "text/plain": [
       "'pankajr141/llm_bhasa_v1'"
      ]
     },
     "execution_count": 16,
     "metadata": {},
     "output_type": "execute_result"
    }
   ],
   "source": [
    "repo = \"pankajr141\"\n",
    "modelname = \"llm_bhasa_v1\"\n",
    "\n",
    "repo_url = f\"{repo}/{modelname}\"\n",
    "repo_url"
   ]
  },
  {
   "cell_type": "code",
   "execution_count": 17,
   "id": "41c93321",
   "metadata": {
    "execution": {
     "iopub.execute_input": "2025-05-14T17:59:49.382582Z",
     "iopub.status.busy": "2025-05-14T17:59:49.382291Z",
     "iopub.status.idle": "2025-05-14T18:00:04.103560Z",
     "shell.execute_reply": "2025-05-14T18:00:04.102858Z"
    },
    "papermill": {
     "duration": 14.732238,
     "end_time": "2025-05-14T18:00:04.105144",
     "exception": false,
     "start_time": "2025-05-14T17:59:49.372906",
     "status": "completed"
    },
    "tags": []
   },
   "outputs": [
    {
     "data": {
      "application/vnd.jupyter.widget-view+json": {
       "model_id": "9538a13feef64233b06b8fe070aefbc6",
       "version_major": 2,
       "version_minor": 0
      },
      "text/plain": [
       "config.json:   0%|          | 0.00/174 [00:00<?, ?B/s]"
      ]
     },
     "metadata": {},
     "output_type": "display_data"
    },
    {
     "data": {
      "application/vnd.jupyter.widget-view+json": {
       "model_id": "4d55291f9d1b487aa50743886460cb15",
       "version_major": 2,
       "version_minor": 0
      },
      "text/plain": [
       "model.safetensors:   0%|          | 0.00/702M [00:00<?, ?B/s]"
      ]
     },
     "metadata": {},
     "output_type": "display_data"
    }
   ],
   "source": [
    "# Load from hugging face\n",
    "model_llm = model.LLMModel.from_pretrained(repo_url)"
   ]
  },
  {
   "cell_type": "code",
   "execution_count": 18,
   "id": "78e11efd",
   "metadata": {
    "execution": {
     "iopub.execute_input": "2025-05-14T18:00:04.125614Z",
     "iopub.status.busy": "2025-05-14T18:00:04.124904Z",
     "iopub.status.idle": "2025-05-14T18:00:04.341789Z",
     "shell.execute_reply": "2025-05-14T18:00:04.340790Z"
    },
    "papermill": {
     "duration": 0.228945,
     "end_time": "2025-05-14T18:00:04.343267",
     "exception": false,
     "start_time": "2025-05-14T18:00:04.114322",
     "status": "completed"
    },
    "tags": []
   },
   "outputs": [
    {
     "name": "stdout",
     "output_type": "stream",
     "text": [
      "##============== Model Summary =========================##\n",
      "# Total number of parameters: 163,009,536\n",
      "# Token embedding layer shape: torch.Size([50257, 768])\n",
      "# Output layer shape: torch.Size([50257, 768])\n",
      "# Number of trainable parameters considering weight tying: 124,412,160\n",
      "# Total size of the model: 621.83 MB\n",
      "##======================================================##\n",
      "Model Defined\n"
     ]
    }
   ],
   "source": [
    "# model_llm = model.load_model(model_llm, model_filepath) # Resuming training by loading previously trained model\n",
    "model.print_model_information(model_llm)\n",
    "\n",
    "if torch.cuda.device_count() > 1:\n",
    "    model_llm = nn.DataParallel(model_llm)\n",
    "\n",
    "model_llm.to(device)                                    # Assigning GPU/CPU to model\n",
    "print(\"Model Defined\")"
   ]
  },
  {
   "cell_type": "markdown",
   "id": "e4e5dec4",
   "metadata": {
    "papermill": {
     "duration": 0.008404,
     "end_time": "2025-05-14T18:00:04.360526",
     "exception": false,
     "start_time": "2025-05-14T18:00:04.352122",
     "status": "completed"
    },
    "tags": []
   },
   "source": [
    "### Additional Defination"
   ]
  },
  {
   "cell_type": "code",
   "execution_count": 19,
   "id": "8c7fc7bc",
   "metadata": {
    "execution": {
     "iopub.execute_input": "2025-05-14T18:00:04.379430Z",
     "iopub.status.busy": "2025-05-14T18:00:04.378655Z",
     "iopub.status.idle": "2025-05-14T18:00:04.383436Z",
     "shell.execute_reply": "2025-05-14T18:00:04.382762Z"
    },
    "papermill": {
     "duration": 0.01553,
     "end_time": "2025-05-14T18:00:04.384685",
     "exception": false,
     "start_time": "2025-05-14T18:00:04.369155",
     "status": "completed"
    },
    "tags": []
   },
   "outputs": [],
   "source": [
    "optimizer = torch.optim.AdamW(model_llm.parameters(), lr=0.0004, weight_decay=0.1)"
   ]
  },
  {
   "cell_type": "code",
   "execution_count": 20,
   "id": "566d17d3",
   "metadata": {
    "execution": {
     "iopub.execute_input": "2025-05-14T18:00:04.406281Z",
     "iopub.status.busy": "2025-05-14T18:00:04.405529Z",
     "iopub.status.idle": "2025-05-14T18:00:04.410813Z",
     "shell.execute_reply": "2025-05-14T18:00:04.410157Z"
    },
    "papermill": {
     "duration": 0.016352,
     "end_time": "2025-05-14T18:00:04.412270",
     "exception": false,
     "start_time": "2025-05-14T18:00:04.395918",
     "status": "completed"
    },
    "tags": []
   },
   "outputs": [
    {
     "data": {
      "text/plain": [
       "<Encoding 'gpt2'>"
      ]
     },
     "execution_count": 20,
     "metadata": {},
     "output_type": "execute_result"
    }
   ],
   "source": [
    "from llm_bhasa.harmony import tokenizer as tokenizer_lib\n",
    "tokenizer = tokenizer_lib.get_tokenizer()\n",
    "tokenizer"
   ]
  },
  {
   "cell_type": "markdown",
   "id": "4bd94ff6",
   "metadata": {
    "papermill": {
     "duration": 0.008702,
     "end_time": "2025-05-14T18:00:04.431297",
     "exception": false,
     "start_time": "2025-05-14T18:00:04.422595",
     "status": "completed"
    },
    "tags": []
   },
   "source": [
    "### Lets train"
   ]
  },
  {
   "cell_type": "code",
   "execution_count": 21,
   "id": "2441c040",
   "metadata": {
    "execution": {
     "iopub.execute_input": "2025-05-14T18:00:04.451961Z",
     "iopub.status.busy": "2025-05-14T18:00:04.451698Z",
     "iopub.status.idle": "2025-05-15T00:27:09.147727Z",
     "shell.execute_reply": "2025-05-15T00:27:09.146753Z"
    },
    "papermill": {
     "duration": 23224.707411,
     "end_time": "2025-05-15T00:27:09.149262",
     "exception": false,
     "start_time": "2025-05-14T18:00:04.441851",
     "status": "completed"
    },
    "tags": []
   },
   "outputs": [
    {
     "name": "stdout",
     "output_type": "stream",
     "text": [
      "Ep 1 (Step 000000): Train loss 7.678, Val loss 5.685\n",
      "Ep 1 (Step 000500): Train loss 5.204, Val loss 9.770\n",
      "Ep 1 (Step 001000): Train loss 5.174, Val loss 10.921\n",
      "Ep 1 (Step 001500): Train loss 7.984, Val loss 5.240\n",
      "Ep 1 (Step 002000): Train loss 8.055, Val loss 5.206\n",
      "Ep 1 (Step 002500): Train loss 8.194, Val loss 5.126\n",
      "Ep 1 (Step 003000): Train loss 7.055, Val loss 5.078\n",
      "Ep 1 (Step 003500): Train loss 8.979, Val loss 5.125\n",
      "Ep 1 (Step 004000): Train loss 7.988, Val loss 5.069\n",
      "Ep 1 (Step 004500): Train loss 7.951, Val loss 5.058\n",
      "Ep 1 (Step 005000): Train loss 7.947, Val loss 5.000\n",
      "Ep 1 (Step 005500): Train loss 8.576, Val loss 4.860\n",
      "Ep 1 (Step 006000): Train loss 9.260, Val loss 4.860\n",
      "Ep 1 (Step 006500): Train loss 9.980, Val loss 5.427\n",
      "Ep 1 (Step 007000): Train loss 9.354, Val loss 6.101\n",
      "Ep 1 (Step 007500): Train loss 9.284, Val loss 4.919\n",
      "Ep 1 (Step 008000): Train loss 9.391, Val loss 4.712\n",
      "Ep 1 (Step 008500): Train loss 9.481, Val loss 4.633\n",
      "Ep 1 (Step 009000): Train loss 9.522, Val loss 4.758\n",
      "Ep 1 (Step 009500): Train loss 9.814, Val loss 4.657\n",
      "Ep 1 (Step 010000): Train loss 9.481, Val loss 4.650\n",
      "Ep 1 (Step 010500): Train loss 9.472, Val loss 4.574\n",
      "Ep 1 (Step 011000): Train loss 9.390, Val loss 4.566\n",
      "Ep 1 (Step 011500): Train loss 10.044, Val loss 4.473\n",
      "Ep 1 (Step 012000): Train loss 9.859, Val loss 4.534\n",
      "Ep 1 (Step 012500): Train loss 10.058, Val loss 4.450\n",
      "Ep 1 (Step 013000): Train loss 10.170, Val loss 4.422\n",
      "Ep 1 (Step 013500): Train loss 9.856, Val loss 4.373\n",
      "Ep 1 (Step 014000): Train loss 9.667, Val loss 4.381\n",
      "Ep 1 (Step 014500): Train loss 9.715, Val loss 4.443\n",
      "Ep 1 (Step 015000): Train loss 9.957, Val loss 4.403\n",
      "Ep 1 (Step 015500): Train loss 9.757, Val loss 4.368\n",
      "Ep 1 (Step 016000): Train loss 10.705, Val loss 4.334\n",
      "Ep 1 (Step 016500): Train loss 10.330, Val loss 4.378\n",
      "Ep 1 (Step 017000): Train loss 10.395, Val loss 4.342\n",
      "Ep 1 (Step 017500): Train loss 10.560, Val loss 4.280\n",
      "Ep 1 (Step 018000): Train loss 12.136, Val loss 4.371\n",
      "Ep 1 (Step 018500): Train loss 9.955, Val loss 4.396\n",
      "Ep 1 (Step 019000): Train loss 8.703, Val loss 4.569\n",
      "Ep 1 (Step 019500): Train loss 8.328, Val loss 4.703\n",
      "Ep 1 (Step 020000): Train loss 8.067, Val loss 4.773\n",
      "Ep 1 (Step 020500): Train loss 7.578, Val loss 4.829\n",
      "Ep 1 (Step 021000): Train loss 7.727, Val loss 4.862\n",
      "Ep 1 (Step 021500): Train loss 7.706, Val loss 4.832\n",
      "Ep 1 (Step 022000): Train loss 7.645, Val loss 5.229\n",
      "Ep 1 (Step 022500): Train loss 7.492, Val loss 4.618\n",
      "Ep 1 (Step 023000): Train loss 7.420, Val loss 4.346\n",
      "Ep 1 (Step 023500): Train loss 8.030, Val loss 4.300\n",
      "Ep 1 (Step 024000): Train loss 8.177, Val loss 4.388\n",
      "Ep 1 (Step 024500): Train loss 8.007, Val loss 4.555\n",
      "Ep 1 (Step 025000): Train loss 8.267, Val loss 4.663\n",
      "Ep 1 (Step 025500): Train loss 8.292, Val loss 4.880\n",
      "Ep 1 (Step 026000): Train loss 8.653, Val loss 4.349\n",
      "Ep 1 (Step 026500): Train loss 8.450, Val loss 4.283\n",
      "Ep 1 (Step 027000): Train loss 8.609, Val loss 4.309\n",
      "Ep 1 (Step 027500): Train loss 8.204, Val loss 4.288\n",
      "Ep 1 (Step 028000): Train loss 7.967, Val loss 4.238\n",
      "Ep 1 (Step 028500): Train loss 8.521, Val loss 4.266\n",
      "Ep 1 (Step 029000): Train loss 8.589, Val loss 4.206\n",
      "Ep 1 (Step 029500): Train loss 8.608, Val loss 4.295\n",
      "Ep 1 (Step 030000): Train loss 8.315, Val loss 4.237\n",
      "Ep 1 (Step 030500): Train loss 8.471, Val loss 4.418\n",
      "Ep 1 (Step 031000): Train loss 9.231, Val loss 4.513\n",
      "Ep 1 (Step 031500): Train loss 9.017, Val loss 4.193\n",
      "Ep 1 (Step 032000): Train loss 8.964, Val loss 4.174\n",
      "Ep 1 (Step 032500): Train loss 9.044, Val loss 4.144\n",
      "Ep 1 (Step 033000): Train loss 8.777, Val loss 4.171\n",
      "Ep 1 (Step 033500): Train loss 8.473, Val loss 4.167\n",
      "Ep 1 (Step 034000): Train loss 8.550, Val loss 4.087\n",
      "Ep 1 (Step 034500): Train loss 9.837, Val loss 4.169\n",
      "Ep 1 (Step 035000): Train loss 9.894, Val loss 4.563\n",
      "Ep 1 (Step 035500): Train loss 9.114, Val loss 4.901\n",
      "Ep 1 (Step 036000): Train loss 8.587, Val loss 4.161\n",
      "Ep 1 (Step 036500): Train loss 8.264, Val loss 4.138\n",
      "Ep 1 (Step 037000): Train loss 9.796, Val loss 4.386\n",
      "Ep 1 (Step 037500): Train loss 8.764, Val loss 4.212\n",
      "Ep 1 (Step 038000): Train loss 9.299, Val loss 4.122\n",
      "Ep 1 (Step 038500): Train loss 8.687, Val loss 4.113\n",
      "Ep 1 (Step 039000): Train loss 8.124, Val loss 4.109\n",
      "Ep 1 (Step 039500): Train loss 9.667, Val loss 4.069\n",
      "Ep 1 (Step 040000): Train loss 9.753, Val loss 4.609\n",
      "Ep 1 (Step 040500): Train loss 9.303, Val loss 4.181\n",
      "Ep 1 (Step 041000): Train loss 9.774, Val loss 4.262\n",
      "Ep 1 (Step 041500): Train loss 9.586, Val loss 4.050\n",
      "Ep 1 (Step 042000): Train loss 9.018, Val loss 4.139\n",
      "Ep 1 (Step 042500): Train loss 9.059, Val loss 4.042\n",
      "Ep 1 (Step 043000): Train loss 8.491, Val loss 4.085\n",
      "Ep 1 (Step 043500): Train loss 10.082, Val loss 4.046\n",
      "Ep 1 (Step 044000): Train loss 10.725, Val loss 3.976\n",
      "Ep 1 (Step 044500): Train loss 8.730, Val loss 4.024\n",
      "Ep 1 (Step 045000): Train loss 9.706, Val loss 4.003\n",
      "Ep 1 (Step 045500): Train loss 9.319, Val loss 4.184\n",
      "Ep 1 (Step 046000): Train loss 9.370, Val loss 4.000\n",
      "Ep 1 (Step 046500): Train loss 8.484, Val loss 3.968\n",
      "Ep 1 (Step 047000): Train loss 9.033, Val loss 3.940\n",
      "Ep 1 (Step 047500): Train loss 9.297, Val loss 4.049\n",
      "Ep 1 (Step 048000): Train loss 9.495, Val loss 3.931\n",
      "Ep 1 (Step 048500): Train loss 9.459, Val loss 4.222\n",
      "Ep 1 (Step 049000): Train loss 9.622, Val loss 3.920\n",
      "Ep 1 (Step 049500): Train loss 10.611, Val loss 4.429\n",
      "Ep 1 (Step 050000): Train loss 9.864, Val loss 4.000\n",
      "Ep 1 (Step 050500): Train loss 9.346, Val loss 3.899\n",
      "Ep 1 (Step 051000): Train loss 9.294, Val loss 4.025\n",
      "Ep 1 (Step 051500): Train loss 9.140, Val loss 3.936\n",
      "Ep 1 (Step 052000): Train loss 9.019, Val loss 3.885\n",
      "Ep 1 (Step 052500): Train loss 9.292, Val loss 3.867\n",
      "Ep 1 (Step 053000): Train loss 8.808, Val loss 3.914\n",
      "Ep 1 (Step 053500): Train loss 9.309, Val loss 3.815\n",
      "Ep 1 (Step 054000): Train loss 10.272, Val loss 3.822\n",
      "Ep 1 (Step 054500): Train loss 8.545, Val loss 3.913\n",
      "Ep 1 (Step 055000): Train loss 8.806, Val loss 3.904\n",
      " \n",
      "Model saved to /kaggle/working/model_and_optimizer.pth\n",
      "CPU times: user 5h 14min 10s, sys: 1h 3min 48s, total: 6h 17min 58s\n",
      "Wall time: 6h 27min 4s\n"
     ]
    }
   ],
   "source": [
    "%%time\n",
    "\n",
    "num_epochs = 1\n",
    "# Training LLM model from scratch\n",
    "train_losses, val_losses, tokens_seen = training.train_model(model_llm, \n",
    "                                                             train_loader,\n",
    "                                                             val_loader, \n",
    "                                                             optimizer, \n",
    "                                                             device,\n",
    "                                                             num_epochs=num_epochs,\n",
    "                                                             eval_freq=500,   # Loss will be printed every 500 steps\n",
    "                                                             eval_iter=50,    # Number of batches to use for each evaluation\n",
    "                                                             start_context=\"Every effort moves you\", \n",
    "                                                             tokenizer=tokenizer)\n",
    "model.save_model(model_llm, optimizer, model_filepath)"
   ]
  },
  {
   "cell_type": "code",
   "execution_count": 22,
   "id": "c5e9e16a",
   "metadata": {
    "execution": {
     "iopub.execute_input": "2025-05-15T00:27:09.182762Z",
     "iopub.status.busy": "2025-05-15T00:27:09.182498Z",
     "iopub.status.idle": "2025-05-15T00:27:09.186018Z",
     "shell.execute_reply": "2025-05-15T00:27:09.185291Z"
    },
    "papermill": {
     "duration": 0.024835,
     "end_time": "2025-05-15T00:27:09.187361",
     "exception": false,
     "start_time": "2025-05-15T00:27:09.162526",
     "status": "completed"
    },
    "tags": []
   },
   "outputs": [],
   "source": [
    "# model_llm.to(device)\n",
    "# training.evaluate_model(model_llm, train_loader, val_loader, device, 50)"
   ]
  },
  {
   "cell_type": "markdown",
   "id": "395f9b62",
   "metadata": {
    "papermill": {
     "duration": 0.012254,
     "end_time": "2025-05-15T00:27:09.212410",
     "exception": false,
     "start_time": "2025-05-15T00:27:09.200156",
     "status": "completed"
    },
    "tags": []
   },
   "source": [
    "### Plot Results Train vs Validation"
   ]
  },
  {
   "cell_type": "code",
   "execution_count": 23,
   "id": "42a4fd2c",
   "metadata": {
    "execution": {
     "iopub.execute_input": "2025-05-15T00:27:09.256882Z",
     "iopub.status.busy": "2025-05-15T00:27:09.256040Z",
     "iopub.status.idle": "2025-05-15T00:27:09.431022Z",
     "shell.execute_reply": "2025-05-15T00:27:09.429552Z"
    },
    "papermill": {
     "duration": 0.189772,
     "end_time": "2025-05-15T00:27:09.432445",
     "exception": false,
     "start_time": "2025-05-15T00:27:09.242673",
     "status": "completed"
    },
    "tags": []
   },
   "outputs": [
    {
     "data": {
      "image/png": "[encoded data removed]",
      "text/plain": [
       "<Figure size 500x300 with 1 Axes>"
      ]
     },
     "metadata": {},
     "output_type": "display_data"
    }
   ],
   "source": [
    "epochs_tensor = torch.linspace(0, num_epochs, len(train_losses))\n",
    "training.plot_losses(epochs_tensor, tokens_seen, train_losses, val_losses)"
   ]
  },
  {
   "cell_type": "markdown",
   "id": "478992b1",
   "metadata": {
    "papermill": {
     "duration": 0.018576,
     "end_time": "2025-05-15T00:27:09.465661",
     "exception": false,
     "start_time": "2025-05-15T00:27:09.447085",
     "status": "completed"
    },
    "tags": []
   },
   "source": [
    "### Generate some samples"
   ]
  },
  {
   "cell_type": "code",
   "execution_count": 24,
   "id": "c9d547de",
   "metadata": {
    "execution": {
     "iopub.execute_input": "2025-05-15T00:27:09.492674Z",
     "iopub.status.busy": "2025-05-15T00:27:09.492428Z",
     "iopub.status.idle": "2025-05-15T00:27:09.500440Z",
     "shell.execute_reply": "2025-05-15T00:27:09.499458Z"
    },
    "papermill": {
     "duration": 0.022822,
     "end_time": "2025-05-15T00:27:09.501738",
     "exception": false,
     "start_time": "2025-05-15T00:27:09.478916",
     "status": "completed"
    },
    "tags": []
   },
   "outputs": [],
   "source": [
    "from llm_bhasa.harmony import generator\n",
    "\n",
    "model_llm.eval()  # Disable dropout during evaluation\n",
    "model_llm.to(device)\n",
    "\n",
    "context_len = config_train['context_length']"
   ]
  },
  {
   "cell_type": "code",
   "execution_count": 25,
   "id": "8311c164",
   "metadata": {
    "execution": {
     "iopub.execute_input": "2025-05-15T00:27:09.530671Z",
     "iopub.status.busy": "2025-05-15T00:27:09.530470Z",
     "iopub.status.idle": "2025-05-15T00:27:09.535225Z",
     "shell.execute_reply": "2025-05-15T00:27:09.534685Z"
    },
    "papermill": {
     "duration": 0.019471,
     "end_time": "2025-05-15T00:27:09.536300",
     "exception": false,
     "start_time": "2025-05-15T00:27:09.516829",
     "status": "completed"
    },
    "tags": []
   },
   "outputs": [],
   "source": [
    "def generate_text(start_context):\n",
    "    tokenizer = tokenizer_lib.get_tokenizer()\n",
    "    encoded = tokenizer_lib.text_to_token_ids(start_context, tokenizer).to(device)\n",
    "    token_ids  = generator.generate(model=model_llm, idx=encoded, max_new_tokens=50, context_size=context_len)\n",
    "    decoded_text = tokenizer_lib.token_ids_to_text(token_ids, tokenizer)\n",
    "    return decoded_text.replace(\"\\n\", \" \")"
   ]
  },
  {
   "cell_type": "code",
   "execution_count": 26,
   "id": "13254e89",
   "metadata": {
    "execution": {
     "iopub.execute_input": "2025-05-15T00:27:09.563210Z",
     "iopub.status.busy": "2025-05-15T00:27:09.562991Z",
     "iopub.status.idle": "2025-05-15T00:27:10.250691Z",
     "shell.execute_reply": "2025-05-15T00:27:10.249985Z"
    },
    "papermill": {
     "duration": 0.702884,
     "end_time": "2025-05-15T00:27:10.251970",
     "exception": false,
     "start_time": "2025-05-15T00:27:09.549086",
     "status": "completed"
    },
    "tags": []
   },
   "outputs": [
    {
     "data": {
      "text/plain": [
       "'Hello, I am sure you are a\\r cousin, and I am sure you are a good man.”\\r \\r “Ah!” cried the young man, “you are a good man!”\\r \\r'"
      ]
     },
     "execution_count": 26,
     "metadata": {},
     "output_type": "execute_result"
    }
   ],
   "source": [
    "generate_text(\"Hello, I am\")"
   ]
  },
  {
   "cell_type": "code",
   "execution_count": 27,
   "id": "d77548ff",
   "metadata": {
    "execution": {
     "iopub.execute_input": "2025-05-15T00:27:10.283425Z",
     "iopub.status.busy": "2025-05-15T00:27:10.283167Z",
     "iopub.status.idle": "2025-05-15T00:27:10.932932Z",
     "shell.execute_reply": "2025-05-15T00:27:10.932295Z"
    },
    "papermill": {
     "duration": 0.667094,
     "end_time": "2025-05-15T00:27:10.934371",
     "exception": false,
     "start_time": "2025-05-15T00:27:10.267277",
     "status": "completed"
    },
    "tags": []
   },
   "outputs": [
    {
     "data": {
      "text/plain": [
       "'Lets start, and the\\r crowd of men, who, in the midst of the crowd, were the first to\\r the scaffold, and the young man, who was a man of genius, was a man of\\r genius,'"
      ]
     },
     "execution_count": 27,
     "metadata": {},
     "output_type": "execute_result"
    }
   ],
   "source": [
    "generate_text(\"Lets start\")"
   ]
  },
  {
   "cell_type": "code",
   "execution_count": 28,
   "id": "409f7077",
   "metadata": {
    "execution": {
     "iopub.execute_input": "2025-05-15T00:27:10.964865Z",
     "iopub.status.busy": "2025-05-15T00:27:10.964642Z",
     "iopub.status.idle": "2025-05-15T00:27:11.641664Z",
     "shell.execute_reply": "2025-05-15T00:27:11.641003Z"
    },
    "papermill": {
     "duration": 0.69352,
     "end_time": "2025-05-15T00:27:11.642852",
     "exception": false,
     "start_time": "2025-05-15T00:27:10.949332",
     "status": "completed"
    },
    "tags": []
   },
   "outputs": [
    {
     "data": {
      "text/plain": [
       "'How is your father?”\\r \\r “Ah!” she said, “you are a good man, and I am a good man.”\\r \\r “Ah!” she said, “you'"
      ]
     },
     "execution_count": 28,
     "metadata": {},
     "output_type": "execute_result"
    }
   ],
   "source": [
    "generate_text(\"How is your\")"
   ]
  },
  {
   "cell_type": "markdown",
   "id": "d241a770",
   "metadata": {
    "papermill": {
     "duration": 0.013732,
     "end_time": "2025-05-15T00:27:11.670823",
     "exception": false,
     "start_time": "2025-05-15T00:27:11.657091",
     "status": "completed"
    },
    "tags": []
   },
   "source": [
    "## Deploy to Huggingface"
   ]
  },
  {
   "cell_type": "code",
   "execution_count": 29,
   "id": "4d9e4865",
   "metadata": {
    "execution": {
     "iopub.execute_input": "2025-05-15T00:27:11.700062Z",
     "iopub.status.busy": "2025-05-15T00:27:11.699795Z",
     "iopub.status.idle": "2025-05-15T00:27:11.703185Z",
     "shell.execute_reply": "2025-05-15T00:27:11.702523Z"
    },
    "papermill": {
     "duration": 0.019972,
     "end_time": "2025-05-15T00:27:11.704411",
     "exception": false,
     "start_time": "2025-05-15T00:27:11.684439",
     "status": "completed"
    },
    "tags": []
   },
   "outputs": [],
   "source": [
    "# from huggingface_hub import notebook_login\n",
    "# notebook_login()"
   ]
  },
  {
   "cell_type": "code",
   "execution_count": 30,
   "id": "7898335b",
   "metadata": {
    "execution": {
     "iopub.execute_input": "2025-05-15T00:27:11.730923Z",
     "iopub.status.busy": "2025-05-15T00:27:11.730726Z",
     "iopub.status.idle": "2025-05-15T00:27:11.836303Z",
     "shell.execute_reply": "2025-05-15T00:27:11.835688Z"
    },
    "papermill": {
     "duration": 0.120313,
     "end_time": "2025-05-15T00:27:11.837720",
     "exception": false,
     "start_time": "2025-05-15T00:27:11.717407",
     "status": "completed"
    },
    "tags": []
   },
   "outputs": [],
   "source": [
    "from kaggle_secrets import UserSecretsClient\n",
    "user_secrets = UserSecretsClient()\n",
    "huggingfacetoken = user_secrets.get_secret(\"huggingface\")\n",
    "\n",
    "from huggingface_hub.hf_api import HfFolder\n",
    "HfFolder.save_token(huggingfacetoken)"
   ]
  },
  {
   "cell_type": "markdown",
   "id": "98ac2edc",
   "metadata": {
    "papermill": {
     "duration": 0.014055,
     "end_time": "2025-05-15T00:27:11.866696",
     "exception": false,
     "start_time": "2025-05-15T00:27:11.852641",
     "status": "completed"
    },
    "tags": []
   },
   "source": [
    "Depending on whether multiple GPU are availaible model_llm can be instance of DataParallel which can cause issue while saving and loading model, hence sorting the issue."
   ]
  },
  {
   "cell_type": "code",
   "execution_count": 31,
   "id": "293c5a2d",
   "metadata": {
    "execution": {
     "iopub.execute_input": "2025-05-15T00:27:11.897434Z",
     "iopub.status.busy": "2025-05-15T00:27:11.896778Z",
     "iopub.status.idle": "2025-05-15T00:27:11.900459Z",
     "shell.execute_reply": "2025-05-15T00:27:11.899902Z"
    },
    "papermill": {
     "duration": 0.021884,
     "end_time": "2025-05-15T00:27:11.901543",
     "exception": false,
     "start_time": "2025-05-15T00:27:11.879659",
     "status": "completed"
    },
    "tags": []
   },
   "outputs": [],
   "source": [
    "from torch.nn.parallel.data_parallel import DataParallel\n",
    "if isinstance(model_llm, DataParallel):\n",
    "    print(\"model is instance of DataParallel, changing the class\")\n",
    "    model_llm = model_llm.module"
   ]
  },
  {
   "cell_type": "code",
   "execution_count": 32,
   "id": "8972238b",
   "metadata": {
    "execution": {
     "iopub.execute_input": "2025-05-15T00:27:11.928244Z",
     "iopub.status.busy": "2025-05-15T00:27:11.928020Z",
     "iopub.status.idle": "2025-05-15T00:27:33.895817Z",
     "shell.execute_reply": "2025-05-15T00:27:33.895075Z"
    },
    "papermill": {
     "duration": 21.982234,
     "end_time": "2025-05-15T00:27:33.897035",
     "exception": false,
     "start_time": "2025-05-15T00:27:11.914801",
     "status": "completed"
    },
    "tags": []
   },
   "outputs": [
    {
     "data": {
      "application/vnd.jupyter.widget-view+json": {
       "model_id": "ffb04a6d99f84c2ca149492fc3afa8af",
       "version_major": 2,
       "version_minor": 0
      },
      "text/plain": [
       "model.safetensors:   0%|          | 0.00/702M [00:00<?, ?B/s]"
      ]
     },
     "metadata": {},
     "output_type": "display_data"
    },
    {
     "data": {
      "text/plain": [
       "CommitInfo(commit_url='https://huggingface.co/pankajr141/llm_bhasa_v1/commit/5d762683865cdda316906a4f0c2a24f8dfe12eff', commit_message='Push model using huggingface_hub.', commit_description='', oid='5d762683865cdda316906a4f0c2a24f8dfe12eff', pr_url=None, repo_url=RepoUrl('https://huggingface.co/pankajr141/llm_bhasa_v1', endpoint='https://huggingface.co', repo_type='model', repo_id='pankajr141/llm_bhasa_v1'), pr_revision=None, pr_num=None)"
      ]
     },
     "execution_count": 32,
     "metadata": {},
     "output_type": "execute_result"
    }
   ],
   "source": [
    "# save locally\n",
    "model_llm.save_pretrained(modelname)\n",
    "\n",
    "# push to the hub\n",
    "model_llm.push_to_hub(repo_url)\n",
    "\n",
    "# Load from hugging face\n",
    "# model_llm = model.LLMModel.from_pretrained(repo_url)"
   ]
  }
 ],
 "metadata": {
  "kaggle": {
   "accelerator": "gpu",
   "dataSources": [
    {
     "sourceId": 239328575,
     "sourceType": "kernelVersion"
    }
   ],
   "dockerImageVersionId": 31012,
   "isGpuEnabled": true,
   "isInternetEnabled": true,
   "language": "python",
   "sourceType": "notebook"
  },
  "kernelspec": {
   "display_name": "Python 3",
   "language": "python",
   "name": "python3"
  },
  "language_info": {
   "codemirror_mode": {
    "name": "ipython",
    "version": 3
   },
   "file_extension": ".py",
   "mimetype": "text/x-python",
   "name": "python",
   "nbconvert_exporter": "python",
   "pygments_lexer": "ipython3",
   "version": "3.11.11"
  },
  "papermill": {
   "default_parameters": {},
   "duration": 23694.201685,
   "end_time": "2025-05-15T00:27:36.710520",
   "environment_variables": {},
   "exception": null,
   "input_path": "__notebook__.ipynb",
   "output_path": "__notebook__.ipynb",
   "parameters": {},
   "start_time": "2025-05-14T17:52:42.508835",
   "version": "2.6.0"
  },
  "widgets": {
   "application/vnd.jupyter.widget-state+json": {
    "state": {
     "1dbb4353a4584044a2994a84509b7234": {
      "model_module": "@jupyter-widgets/base",
      "model_module_version": "2.0.0",
      "model_name": "LayoutModel",
      "state": {
       "_model_module": "@jupyter-widgets/base",
       "_model_module_version": "2.0.0",
       "_model_name": "LayoutModel",
       "_view_count": null,
       "_view_module": "@jupyter-widgets/base",
       "_view_module_version": "2.0.0",
       "_view_name": "LayoutView",
       "align_content": null,
       "align_items": null,
       "align_self": null,
       "border_bottom": null,
       "border_left": null,
       "border_right": null,
       "border_top": null,
       "bottom": null,
       "display": null,
       "flex": null,
       "flex_flow": null,
       "grid_area": null,
       "grid_auto_columns": null,
       "grid_auto_flow": null,
       "grid_auto_rows": null,
       "grid_column": null,
       "grid_gap": null,
       "grid_row": null,
       "grid_template_areas": null,
       "grid_template_columns": null,
       "grid_template_rows": null,
       "height": null,
       "justify_content": null,
       "justify_items": null,
       "left": null,
       "margin": null,
       "max_height": null,
       "max_width": null,
       "min_height": null,
       "min_width": null,
       "object_fit": null,
       "object_position": null,
       "order": null,
       "overflow": null,
       "padding": null,
       "right": null,
       "top": null,
       "visibility": null,
       "width": null
      }
     },
     "2035fb9a3d284c159bd57392250e3ea4": {
      "model_module": "@jupyter-widgets/controls",
      "model_module_version": "2.0.0",
      "model_name": "HTMLStyleModel",
      "state": {
       "_model_module": "@jupyter-widgets/controls",
       "_model_module_version": "2.0.0",
       "_model_name": "HTMLStyleModel",
       "_view_count": null,
       "_view_module": "@jupyter-widgets/base",
       "_view_module_version": "2.0.0",
       "_view_name": "StyleView",
       "background": null,
       "description_width": "",
       "font_size": null,
       "text_color": null
      }
     },
     "2d7bdabc096144c691105a0eadd9320b": {
      "model_module": "@jupyter-widgets/controls",
      "model_module_version": "2.0.0",
      "model_name": "FloatProgressModel",
      "state": {
       "_dom_classes": [],
       "_model_module": "@jupyter-widgets/controls",
       "_model_module_version": "2.0.0",
       "_model_name": "FloatProgressModel",
       "_view_count": null,
       "_view_module": "@jupyter-widgets/controls",
       "_view_module_version": "2.0.0",
       "_view_name": "ProgressView",
       "bar_style": "success",
       "description": "",
       "description_allow_html": false,
       "layout": "IPY_MODEL_37fafb49c3a84fd8834bea4863b1e899",
       "max": 702387080.0,
       "min": 0.0,
       "orientation": "horizontal",
       "style": "IPY_MODEL_b2abaf8dfcc04b8e9140b6899494ae3c",
       "tabbable": null,
       "tooltip": null,
       "value": 702387080.0
      }
     },
     "36accdac88c1455581af529b07ac8375": {
      "model_module": "@jupyter-widgets/controls",
      "model_module_version": "2.0.0",
      "model_name": "HTMLStyleModel",
      "state": {
       "_model_module": "@jupyter-widgets/controls",
       "_model_module_version": "2.0.0",
       "_model_name": "HTMLStyleModel",
       "_view_count": null,
       "_view_module": "@jupyter-widgets/base",
       "_view_module_version": "2.0.0",
       "_view_name": "StyleView",
       "background": null,
       "description_width": "",
       "font_size": null,
       "text_color": null
      }
     },
     "37fafb49c3a84fd8834bea4863b1e899": {
      "model_module": "@jupyter-widgets/base",
      "model_module_version": "2.0.0",
      "model_name": "LayoutModel",
      "state": {
       "_model_module": "@jupyter-widgets/base",
       "_model_module_version": "2.0.0",
       "_model_name": "LayoutModel",
       "_view_count": null,
       "_view_module": "@jupyter-widgets/base",
       "_view_module_version": "2.0.0",
       "_view_name": "LayoutView",
       "align_content": null,
       "align_items": null,
       "align_self": null,
       "border_bottom": null,
       "border_left": null,
       "border_right": null,
       "border_top": null,
       "bottom": null,
       "display": null,
       "flex": null,
       "flex_flow": null,
       "grid_area": null,
       "grid_auto_columns": null,
       "grid_auto_flow": null,
       "grid_auto_rows": null,
       "grid_column": null,
       "grid_gap": null,
       "grid_row": null,
       "grid_template_areas": null,
       "grid_template_columns": null,
       "grid_template_rows": null,
       "height": null,
       "justify_content": null,
       "justify_items": null,
       "left": null,
       "margin": null,
       "max_height": null,
       "max_width": null,
       "min_height": null,
       "min_width": null,
       "object_fit": null,
       "object_position": null,
       "order": null,
       "overflow": null,
       "padding": null,
       "right": null,
       "top": null,
       "visibility": null,
       "width": null
      }
     },
     "3a6a628ea36d43729b30b9f89a5a3bd9": {
      "model_module": "@jupyter-widgets/base",
      "model_module_version": "2.0.0",
      "model_name": "LayoutModel",
      "state": {
       "_model_module": "@jupyter-widgets/base",
       "_model_module_version": "2.0.0",
       "_model_name": "LayoutModel",
       "_view_count": null,
       "_view_module": "@jupyter-widgets/base",
       "_view_module_version": "2.0.0",
       "_view_name": "LayoutView",
       "align_content": null,
       "align_items": null,
       "align_self": null,
       "border_bottom": null,
       "border_left": null,
       "border_right": null,
       "border_top": null,
       "bottom": null,
       "display": null,
       "flex": null,
       "flex_flow": null,
       "grid_area": null,
       "grid_auto_columns": null,
       "grid_auto_flow": null,
       "grid_auto_rows": null,
       "grid_column": null,
       "grid_gap": null,
       "grid_row": null,
       "grid_template_areas": null,
       "grid_template_columns": null,
       "grid_template_rows": null,
       "height": null,
       "justify_content": null,
       "justify_items": null,
       "left": null,
       "margin": null,
       "max_height": null,
       "max_width": null,
       "min_height": null,
       "min_width": null,
       "object_fit": null,
       "object_position": null,
       "order": null,
       "overflow": null,
       "padding": null,
       "right": null,
       "top": null,
       "visibility": null,
       "width": null
      }
     },
     "3b187b24b4544fdc9e521318f96f9741": {
      "model_module": "@jupyter-widgets/base",
      "model_module_version": "2.0.0",
      "model_name": "LayoutModel",
      "state": {
       "_model_module": "@jupyter-widgets/base",
       "_model_module_version": "2.0.0",
       "_model_name": "LayoutModel",
       "_view_count": null,
       "_view_module": "@jupyter-widgets/base",
       "_view_module_version": "2.0.0",
       "_view_name": "LayoutView",
       "align_content": null,
       "align_items": null,
       "align_self": null,
       "border_bottom": null,
       "border_left": null,
       "border_right": null,
       "border_top": null,
       "bottom": null,
       "display": null,
       "flex": null,
       "flex_flow": null,
       "grid_area": null,
       "grid_auto_columns": null,
       "grid_auto_flow": null,
       "grid_auto_rows": null,
       "grid_column": null,
       "grid_gap": null,
       "grid_row": null,
       "grid_template_areas": null,
       "grid_template_columns": null,
       "grid_template_rows": null,
       "height": null,
       "justify_content": null,
       "justify_items": null,
       "left": null,
       "margin": null,
       "max_height": null,
       "max_width": null,
       "min_height": null,
       "min_width": null,
       "object_fit": null,
       "object_position": null,
       "order": null,
       "overflow": null,
       "padding": null,
       "right": null,
       "top": null,
       "visibility": null,
       "width": null
      }
     },
     "417448a782ea4cb8a4fbc1bb08a7ecf8": {
      "model_module": "@jupyter-widgets/base",
      "model_module_version": "2.0.0",
      "model_name": "LayoutModel",
      "state": {
       "_model_module": "@jupyter-widgets/base",
       "_model_module_version": "2.0.0",
       "_model_name": "LayoutModel",
       "_view_count": null,
       "_view_module": "@jupyter-widgets/base",
       "_view_module_version": "2.0.0",
       "_view_name": "LayoutView",
       "align_content": null,
       "align_items": null,
       "align_self": null,
       "border_bottom": null,
       "border_left": null,
       "border_right": null,
       "border_top": null,
       "bottom": null,
       "display": null,
       "flex": null,
       "flex_flow": null,
       "grid_area": null,
       "grid_auto_columns": null,
       "grid_auto_flow": null,
       "grid_auto_rows": null,
       "grid_column": null,
       "grid_gap": null,
       "grid_row": null,
       "grid_template_areas": null,
       "grid_template_columns": null,
       "grid_template_rows": null,
       "height": null,
       "justify_content": null,
       "justify_items": null,
       "left": null,
       "margin": null,
       "max_height": null,
       "max_width": null,
       "min_height": null,
       "min_width": null,
       "object_fit": null,
       "object_position": null,
       "order": null,
       "overflow": null,
       "padding": null,
       "right": null,
       "top": null,
       "visibility": null,
       "width": null
      }
     },
     "47b71f5737a64895ba2ff0cae6e171a4": {
      "model_module": "@jupyter-widgets/controls",
      "model_module_version": "2.0.0",
      "model_name": "HTMLModel",
      "state": {
       "_dom_classes": [],
       "_model_module": "@jupyter-widgets/controls",
       "_model_module_version": "2.0.0",
       "_model_name": "HTMLModel",
       "_view_count": null,
       "_view_module": "@jupyter-widgets/controls",
       "_view_module_version": "2.0.0",
       "_view_name": "HTMLView",
       "description": "",
       "description_allow_html": false,
       "layout": "IPY_MODEL_1dbb4353a4584044a2994a84509b7234",
       "placeholder": "​",
       "style": "IPY_MODEL_d24429e00a3048c6bfa128d4e630143c",
       "tabbable": null,
       "tooltip": null,
       "value": " 702M/702M [00:14&lt;00:00, 43.4MB/s]"
      }
     },
     "4d55291f9d1b487aa50743886460cb15": {
      "model_module": "@jupyter-widgets/controls",
      "model_module_version": "2.0.0",
      "model_name": "HBoxModel",
      "state": {
       "_dom_classes": [],
       "_model_module": "@jupyter-widgets/controls",
       "_model_module_version": "2.0.0",
       "_model_name": "HBoxModel",
       "_view_count": null,
       "_view_module": "@jupyter-widgets/controls",
       "_view_module_version": "2.0.0",
       "_view_name": "HBoxView",
       "box_style": "",
       "children": [
        "IPY_MODEL_6e87a0ebdf764560a5920c0a86d0749f",
        "IPY_MODEL_2d7bdabc096144c691105a0eadd9320b",
        "IPY_MODEL_a7218740e3a740aaa2571c1a4301d591"
       ],
       "layout": "IPY_MODEL_c2e792cab93241e691db3857bb3fd0c3",
       "tabbable": null,
       "tooltip": null
      }
     },
     "5d367dd2e1bf49cb971209b6e4fe3540": {
      "model_module": "@jupyter-widgets/controls",
      "model_module_version": "2.0.0",
      "model_name": "HTMLStyleModel",
      "state": {
       "_model_module": "@jupyter-widgets/controls",
       "_model_module_version": "2.0.0",
       "_model_name": "HTMLStyleModel",
       "_view_count": null,
       "_view_module": "@jupyter-widgets/base",
       "_view_module_version": "2.0.0",
       "_view_name": "StyleView",
       "background": null,
       "description_width": "",
       "font_size": null,
       "text_color": null
      }
     },
     "63913b21d3174daf92011e448c5725c1": {
      "model_module": "@jupyter-widgets/controls",
      "model_module_version": "2.0.0",
      "model_name": "ProgressStyleModel",
      "state": {
       "_model_module": "@jupyter-widgets/controls",
       "_model_module_version": "2.0.0",
       "_model_name": "ProgressStyleModel",
       "_view_count": null,
       "_view_module": "@jupyter-widgets/base",
       "_view_module_version": "2.0.0",
       "_view_name": "StyleView",
       "bar_color": null,
       "description_width": ""
      }
     },
     "6ab08f3a3b9443ff873fbec7ee230979": {
      "model_module": "@jupyter-widgets/controls",
      "model_module_version": "2.0.0",
      "model_name": "HTMLModel",
      "state": {
       "_dom_classes": [],
       "_model_module": "@jupyter-widgets/controls",
       "_model_module_version": "2.0.0",
       "_model_name": "HTMLModel",
       "_view_count": null,
       "_view_module": "@jupyter-widgets/controls",
       "_view_module_version": "2.0.0",
       "_view_name": "HTMLView",
       "description": "",
       "description_allow_html": false,
       "layout": "IPY_MODEL_787f50f9b9f94628b3cf750a93d269af",
       "placeholder": "​",
       "style": "IPY_MODEL_36accdac88c1455581af529b07ac8375",
       "tabbable": null,
       "tooltip": null,
       "value": "config.json: 100%"
      }
     },
     "6ccda7d21905447e88fe0d6f2490f10f": {
      "model_module": "@jupyter-widgets/base",
      "model_module_version": "2.0.0",
      "model_name": "LayoutModel",
      "state": {
       "_model_module": "@jupyter-widgets/base",
       "_model_module_version": "2.0.0",
       "_model_name": "LayoutModel",
       "_view_count": null,
       "_view_module": "@jupyter-widgets/base",
       "_view_module_version": "2.0.0",
       "_view_name": "LayoutView",
       "align_content": null,
       "align_items": null,
       "align_self": null,
       "border_bottom": null,
       "border_left": null,
       "border_right": null,
       "border_top": null,
       "bottom": null,
       "display": null,
       "flex": null,
       "flex_flow": null,
       "grid_area": null,
       "grid_auto_columns": null,
       "grid_auto_flow": null,
       "grid_auto_rows": null,
       "grid_column": null,
       "grid_gap": null,
       "grid_row": null,
       "grid_template_areas": null,
       "grid_template_columns": null,
       "grid_template_rows": null,
       "height": null,
       "justify_content": null,
       "justify_items": null,
       "left": null,
       "margin": null,
       "max_height": null,
       "max_width": null,
       "min_height": null,
       "min_width": null,
       "object_fit": null,
       "object_position": null,
       "order": null,
       "overflow": null,
       "padding": null,
       "right": null,
       "top": null,
       "visibility": null,
       "width": null
      }
     },
     "6e87a0ebdf764560a5920c0a86d0749f": {
      "model_module": "@jupyter-widgets/controls",
      "model_module_version": "2.0.0",
      "model_name": "HTMLModel",
      "state": {
       "_dom_classes": [],
       "_model_module": "@jupyter-widgets/controls",
       "_model_module_version": "2.0.0",
       "_model_name": "HTMLModel",
       "_view_count": null,
       "_view_module": "@jupyter-widgets/controls",
       "_view_module_version": "2.0.0",
       "_view_name": "HTMLView",
       "description": "",
       "description_allow_html": false,
       "layout": "IPY_MODEL_d5981bc1ad9b42b2b0aff55b95a48c70",
       "placeholder": "​",
       "style": "IPY_MODEL_f90b5aad331a47a086705ba3d5ed3a62",
       "tabbable": null,
       "tooltip": null,
       "value": "model.safetensors: 100%"
      }
     },
     "6e96e6cfed1a475c884ed5ce57473254": {
      "model_module": "@jupyter-widgets/controls",
      "model_module_version": "2.0.0",
      "model_name": "HTMLModel",
      "state": {
       "_dom_classes": [],
       "_model_module": "@jupyter-widgets/controls",
       "_model_module_version": "2.0.0",
       "_model_name": "HTMLModel",
       "_view_count": null,
       "_view_module": "@jupyter-widgets/controls",
       "_view_module_version": "2.0.0",
       "_view_name": "HTMLView",
       "description": "",
       "description_allow_html": false,
       "layout": "IPY_MODEL_6ccda7d21905447e88fe0d6f2490f10f",
       "placeholder": "​",
       "style": "IPY_MODEL_2035fb9a3d284c159bd57392250e3ea4",
       "tabbable": null,
       "tooltip": null,
       "value": " 174/174 [00:00&lt;00:00, 16.4kB/s]"
      }
     },
     "787f50f9b9f94628b3cf750a93d269af": {
      "model_module": "@jupyter-widgets/base",
      "model_module_version": "2.0.0",
      "model_name": "LayoutModel",
      "state": {
       "_model_module": "@jupyter-widgets/base",
       "_model_module_version": "2.0.0",
       "_model_name": "LayoutModel",
       "_view_count": null,
       "_view_module": "@jupyter-widgets/base",
       "_view_module_version": "2.0.0",
       "_view_name": "LayoutView",
       "align_content": null,
       "align_items": null,
       "align_self": null,
       "border_bottom": null,
       "border_left": null,
       "border_right": null,
       "border_top": null,
       "bottom": null,
       "display": null,
       "flex": null,
       "flex_flow": null,
       "grid_area": null,
       "grid_auto_columns": null,
       "grid_auto_flow": null,
       "grid_auto_rows": null,
       "grid_column": null,
       "grid_gap": null,
       "grid_row": null,
       "grid_template_areas": null,
       "grid_template_columns": null,
       "grid_template_rows": null,
       "height": null,
       "justify_content": null,
       "justify_items": null,
       "left": null,
       "margin": null,
       "max_height": null,
       "max_width": null,
       "min_height": null,
       "min_width": null,
       "object_fit": null,
       "object_position": null,
       "order": null,
       "overflow": null,
       "padding": null,
       "right": null,
       "top": null,
       "visibility": null,
       "width": null
      }
     },
     "8f90b3b7c85f45f99309a3cdab00224a": {
      "model_module": "@jupyter-widgets/base",
      "model_module_version": "2.0.0",
      "model_name": "LayoutModel",
      "state": {
       "_model_module": "@jupyter-widgets/base",
       "_model_module_version": "2.0.0",
       "_model_name": "LayoutModel",
       "_view_count": null,
       "_view_module": "@jupyter-widgets/base",
       "_view_module_version": "2.0.0",
       "_view_name": "LayoutView",
       "align_content": null,
       "align_items": null,
       "align_self": null,
       "border_bottom": null,
       "border_left": null,
       "border_right": null,
       "border_top": null,
       "bottom": null,
       "display": null,
       "flex": null,
       "flex_flow": null,
       "grid_area": null,
       "grid_auto_columns": null,
       "grid_auto_flow": null,
       "grid_auto_rows": null,
       "grid_column": null,
       "grid_gap": null,
       "grid_row": null,
       "grid_template_areas": null,
       "grid_template_columns": null,
       "grid_template_rows": null,
       "height": null,
       "justify_content": null,
       "justify_items": null,
       "left": null,
       "margin": null,
       "max_height": null,
       "max_width": null,
       "min_height": null,
       "min_width": null,
       "object_fit": null,
       "object_position": null,
       "order": null,
       "overflow": null,
       "padding": null,
       "right": null,
       "top": null,
       "visibility": null,
       "width": null
      }
     },
     "9538a13feef64233b06b8fe070aefbc6": {
      "model_module": "@jupyter-widgets/controls",
      "model_module_version": "2.0.0",
      "model_name": "HBoxModel",
      "state": {
       "_dom_classes": [],
       "_model_module": "@jupyter-widgets/controls",
       "_model_module_version": "2.0.0",
       "_model_name": "HBoxModel",
       "_view_count": null,
       "_view_module": "@jupyter-widgets/controls",
       "_view_module_version": "2.0.0",
       "_view_name": "HBoxView",
       "box_style": "",
       "children": [
        "IPY_MODEL_6ab08f3a3b9443ff873fbec7ee230979",
        "IPY_MODEL_de31488724e942008847b783fbb42129",
        "IPY_MODEL_6e96e6cfed1a475c884ed5ce57473254"
       ],
       "layout": "IPY_MODEL_8f90b3b7c85f45f99309a3cdab00224a",
       "tabbable": null,
       "tooltip": null
      }
     },
     "9b7a953d23fc42449ef18dad3a64f0e8": {
      "model_module": "@jupyter-widgets/controls",
      "model_module_version": "2.0.0",
      "model_name": "HTMLModel",
      "state": {
       "_dom_classes": [],
       "_model_module": "@jupyter-widgets/controls",
       "_model_module_version": "2.0.0",
       "_model_name": "HTMLModel",
       "_view_count": null,
       "_view_module": "@jupyter-widgets/controls",
       "_view_module_version": "2.0.0",
       "_view_name": "HTMLView",
       "description": "",
       "description_allow_html": false,
       "layout": "IPY_MODEL_417448a782ea4cb8a4fbc1bb08a7ecf8",
       "placeholder": "​",
       "style": "IPY_MODEL_d1d603907a7c4e0a8c8c127d47322975",
       "tabbable": null,
       "tooltip": null,
       "value": "model.safetensors: 100%"
      }
     },
     "a7218740e3a740aaa2571c1a4301d591": {
      "model_module": "@jupyter-widgets/controls",
      "model_module_version": "2.0.0",
      "model_name": "HTMLModel",
      "state": {
       "_dom_classes": [],
       "_model_module": "@jupyter-widgets/controls",
       "_model_module_version": "2.0.0",
       "_model_name": "HTMLModel",
       "_view_count": null,
       "_view_module": "@jupyter-widgets/controls",
       "_view_module_version": "2.0.0",
       "_view_name": "HTMLView",
       "description": "",
       "description_allow_html": false,
       "layout": "IPY_MODEL_3a6a628ea36d43729b30b9f89a5a3bd9",
       "placeholder": "​",
       "style": "IPY_MODEL_5d367dd2e1bf49cb971209b6e4fe3540",
       "tabbable": null,
       "tooltip": null,
       "value": " 702M/702M [00:12&lt;00:00, 50.1MB/s]"
      }
     },
     "b2abaf8dfcc04b8e9140b6899494ae3c": {
      "model_module": "@jupyter-widgets/controls",
      "model_module_version": "2.0.0",
      "model_name": "ProgressStyleModel",
      "state": {
       "_model_module": "@jupyter-widgets/controls",
       "_model_module_version": "2.0.0",
       "_model_name": "ProgressStyleModel",
       "_view_count": null,
       "_view_module": "@jupyter-widgets/base",
       "_view_module_version": "2.0.0",
       "_view_name": "StyleView",
       "bar_color": null,
       "description_width": ""
      }
     },
     "bd0ce578a2cc42d3807bb5f77b9941cb": {
      "model_module": "@jupyter-widgets/controls",
      "model_module_version": "2.0.0",
      "model_name": "ProgressStyleModel",
      "state": {
       "_model_module": "@jupyter-widgets/controls",
       "_model_module_version": "2.0.0",
       "_model_name": "ProgressStyleModel",
       "_view_count": null,
       "_view_module": "@jupyter-widgets/base",
       "_view_module_version": "2.0.0",
       "_view_name": "StyleView",
       "bar_color": null,
       "description_width": ""
      }
     },
     "be640a3cb164453d906d09b9eb4dd664": {
      "model_module": "@jupyter-widgets/controls",
      "model_module_version": "2.0.0",
      "model_name": "FloatProgressModel",
      "state": {
       "_dom_classes": [],
       "_model_module": "@jupyter-widgets/controls",
       "_model_module_version": "2.0.0",
       "_model_name": "FloatProgressModel",
       "_view_count": null,
       "_view_module": "@jupyter-widgets/controls",
       "_view_module_version": "2.0.0",
       "_view_name": "ProgressView",
       "bar_style": "success",
       "description": "",
       "description_allow_html": false,
       "layout": "IPY_MODEL_3b187b24b4544fdc9e521318f96f9741",
       "max": 702387080.0,
       "min": 0.0,
       "orientation": "horizontal",
       "style": "IPY_MODEL_bd0ce578a2cc42d3807bb5f77b9941cb",
       "tabbable": null,
       "tooltip": null,
       "value": 702387080.0
      }
     },
     "c2e792cab93241e691db3857bb3fd0c3": {
      "model_module": "@jupyter-widgets/base",
      "model_module_version": "2.0.0",
      "model_name": "LayoutModel",
      "state": {
       "_model_module": "@jupyter-widgets/base",
       "_model_module_version": "2.0.0",
       "_model_name": "LayoutModel",
       "_view_count": null,
       "_view_module": "@jupyter-widgets/base",
       "_view_module_version": "2.0.0",
       "_view_name": "LayoutView",
       "align_content": null,
       "align_items": null,
       "align_self": null,
       "border_bottom": null,
       "border_left": null,
       "border_right": null,
       "border_top": null,
       "bottom": null,
       "display": null,
       "flex": null,
       "flex_flow": null,
       "grid_area": null,
       "grid_auto_columns": null,
       "grid_auto_flow": null,
       "grid_auto_rows": null,
       "grid_column": null,
       "grid_gap": null,
       "grid_row": null,
       "grid_template_areas": null,
       "grid_template_columns": null,
       "grid_template_rows": null,
       "height": null,
       "justify_content": null,
       "justify_items": null,
       "left": null,
       "margin": null,
       "max_height": null,
       "max_width": null,
       "min_height": null,
       "min_width": null,
       "object_fit": null,
       "object_position": null,
       "order": null,
       "overflow": null,
       "padding": null,
       "right": null,
       "top": null,
       "visibility": null,
       "width": null
      }
     },
     "d1d603907a7c4e0a8c8c127d47322975": {
      "model_module": "@jupyter-widgets/controls",
      "model_module_version": "2.0.0",
      "model_name": "HTMLStyleModel",
      "state": {
       "_model_module": "@jupyter-widgets/controls",
       "_model_module_version": "2.0.0",
       "_model_name": "HTMLStyleModel",
       "_view_count": null,
       "_view_module": "@jupyter-widgets/base",
       "_view_module_version": "2.0.0",
       "_view_name": "StyleView",
       "background": null,
       "description_width": "",
       "font_size": null,
       "text_color": null
      }
     },
     "d24429e00a3048c6bfa128d4e630143c": {
      "model_module": "@jupyter-widgets/controls",
      "model_module_version": "2.0.0",
      "model_name": "HTMLStyleModel",
      "state": {
       "_model_module": "@jupyter-widgets/controls",
       "_model_module_version": "2.0.0",
       "_model_name": "HTMLStyleModel",
       "_view_count": null,
       "_view_module": "@jupyter-widgets/base",
       "_view_module_version": "2.0.0",
       "_view_name": "StyleView",
       "background": null,
       "description_width": "",
       "font_size": null,
       "text_color": null
      }
     },
     "d32e624feeaf4e30896cfb5489ecfa30": {
      "model_module": "@jupyter-widgets/base",
      "model_module_version": "2.0.0",
      "model_name": "LayoutModel",
      "state": {
       "_model_module": "@jupyter-widgets/base",
       "_model_module_version": "2.0.0",
       "_model_name": "LayoutModel",
       "_view_count": null,
       "_view_module": "@jupyter-widgets/base",
       "_view_module_version": "2.0.0",
       "_view_name": "LayoutView",
       "align_content": null,
       "align_items": null,
       "align_self": null,
       "border_bottom": null,
       "border_left": null,
       "border_right": null,
       "border_top": null,
       "bottom": null,
       "display": null,
       "flex": null,
       "flex_flow": null,
       "grid_area": null,
       "grid_auto_columns": null,
       "grid_auto_flow": null,
       "grid_auto_rows": null,
       "grid_column": null,
       "grid_gap": null,
       "grid_row": null,
       "grid_template_areas": null,
       "grid_template_columns": null,
       "grid_template_rows": null,
       "height": null,
       "justify_content": null,
       "justify_items": null,
       "left": null,
       "margin": null,
       "max_height": null,
       "max_width": null,
       "min_height": null,
       "min_width": null,
       "object_fit": null,
       "object_position": null,
       "order": null,
       "overflow": null,
       "padding": null,
       "right": null,
       "top": null,
       "visibility": null,
       "width": null
      }
     },
     "d5981bc1ad9b42b2b0aff55b95a48c70": {
      "model_module": "@jupyter-widgets/base",
      "model_module_version": "2.0.0",
      "model_name": "LayoutModel",
      "state": {
       "_model_module": "@jupyter-widgets/base",
       "_model_module_version": "2.0.0",
       "_model_name": "LayoutModel",
       "_view_count": null,
       "_view_module": "@jupyter-widgets/base",
       "_view_module_version": "2.0.0",
       "_view_name": "LayoutView",
       "align_content": null,
       "align_items": null,
       "align_self": null,
       "border_bottom": null,
       "border_left": null,
       "border_right": null,
       "border_top": null,
       "bottom": null,
       "display": null,
       "flex": null,
       "flex_flow": null,
       "grid_area": null,
       "grid_auto_columns": null,
       "grid_auto_flow": null,
       "grid_auto_rows": null,
       "grid_column": null,
       "grid_gap": null,
       "grid_row": null,
       "grid_template_areas": null,
       "grid_template_columns": null,
       "grid_template_rows": null,
       "height": null,
       "justify_content": null,
       "justify_items": null,
       "left": null,
       "margin": null,
       "max_height": null,
       "max_width": null,
       "min_height": null,
       "min_width": null,
       "object_fit": null,
       "object_position": null,
       "order": null,
       "overflow": null,
       "padding": null,
       "right": null,
       "top": null,
       "visibility": null,
       "width": null
      }
     },
     "d7ccc663fa9245169cc36b9308cb9dd8": {
      "model_module": "@jupyter-widgets/base",
      "model_module_version": "2.0.0",
      "model_name": "LayoutModel",
      "state": {
       "_model_module": "@jupyter-widgets/base",
       "_model_module_version": "2.0.0",
       "_model_name": "LayoutModel",
       "_view_count": null,
       "_view_module": "@jupyter-widgets/base",
       "_view_module_version": "2.0.0",
       "_view_name": "LayoutView",
       "align_content": null,
       "align_items": null,
       "align_self": null,
       "border_bottom": null,
       "border_left": null,
       "border_right": null,
       "border_top": null,
       "bottom": null,
       "display": null,
       "flex": null,
       "flex_flow": null,
       "grid_area": null,
       "grid_auto_columns": null,
       "grid_auto_flow": null,
       "grid_auto_rows": null,
       "grid_column": null,
       "grid_gap": null,
       "grid_row": null,
       "grid_template_areas": null,
       "grid_template_columns": null,
       "grid_template_rows": null,
       "height": null,
       "justify_content": null,
       "justify_items": null,
       "left": null,
       "margin": null,
       "max_height": null,
       "max_width": null,
       "min_height": null,
       "min_width": null,
       "object_fit": null,
       "object_position": null,
       "order": null,
       "overflow": null,
       "padding": null,
       "right": null,
       "top": null,
       "visibility": null,
       "width": null
      }
     },
     "de31488724e942008847b783fbb42129": {
      "model_module": "@jupyter-widgets/controls",
      "model_module_version": "2.0.0",
      "model_name": "FloatProgressModel",
      "state": {
       "_dom_classes": [],
       "_model_module": "@jupyter-widgets/controls",
       "_model_module_version": "2.0.0",
       "_model_name": "FloatProgressModel",
       "_view_count": null,
       "_view_module": "@jupyter-widgets/controls",
       "_view_module_version": "2.0.0",
       "_view_name": "ProgressView",
       "bar_style": "success",
       "description": "",
       "description_allow_html": false,
       "layout": "IPY_MODEL_d7ccc663fa9245169cc36b9308cb9dd8",
       "max": 174.0,
       "min": 0.0,
       "orientation": "horizontal",
       "style": "IPY_MODEL_63913b21d3174daf92011e448c5725c1",
       "tabbable": null,
       "tooltip": null,
       "value": 174.0
      }
     },
     "f90b5aad331a47a086705ba3d5ed3a62": {
      "model_module": "@jupyter-widgets/controls",
      "model_module_version": "2.0.0",
      "model_name": "HTMLStyleModel",
      "state": {
       "_model_module": "@jupyter-widgets/controls",
       "_model_module_version": "2.0.0",
       "_model_name": "HTMLStyleModel",
       "_view_count": null,
       "_view_module": "@jupyter-widgets/base",
       "_view_module_version": "2.0.0",
       "_view_name": "StyleView",
       "background": null,
       "description_width": "",
       "font_size": null,
       "text_color": null
      }
     },
     "ffb04a6d99f84c2ca149492fc3afa8af": {
      "model_module": "@jupyter-widgets/controls",
      "model_module_version": "2.0.0",
      "model_name": "HBoxModel",
      "state": {
       "_dom_classes": [],
       "_model_module": "@jupyter-widgets/controls",
       "_model_module_version": "2.0.0",
       "_model_name": "HBoxModel",
       "_view_count": null,
       "_view_module": "@jupyter-widgets/controls",
       "_view_module_version": "2.0.0",
       "_view_name": "HBoxView",
       "box_style": "",
       "children": [
        "IPY_MODEL_9b7a953d23fc42449ef18dad3a64f0e8",
        "IPY_MODEL_be640a3cb164453d906d09b9eb4dd664",
        "IPY_MODEL_47b71f5737a64895ba2ff0cae6e171a4"
       ],
       "layout": "IPY_MODEL_d32e624feeaf4e30896cfb5489ecfa30",
       "tabbable": null,
       "tooltip": null
      }
     }
    },
    "version_major": 2,
    "version_minor": 0
   }
  }
 },
 "nbformat": 4,
 "nbformat_minor": 5
}
